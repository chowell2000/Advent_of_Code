{
  "nbformat": 4,
  "nbformat_minor": 0,
  "metadata": {
    "colab": {
      "name": "Advent",
      "provenance": [],
      "collapsed_sections": []
    },
    "kernelspec": {
      "name": "python3",
      "display_name": "Python 3"
    }
  },
  "cells": [
    {
      "cell_type": "code",
      "metadata": {
        "id": "ltFzqJEKqj7c",
        "colab_type": "code",
        "colab": {}
      },
      "source": [
        "import pandas as pd\n",
        "import numpy as np"
      ],
      "execution_count": 0,
      "outputs": []
    },
    {
      "cell_type": "code",
      "metadata": {
        "id": "CSQzXL3kqm8w",
        "colab_type": "code",
        "colab": {}
      },
      "source": [
        "input1 = pd.DataFrame()\n"
      ],
      "execution_count": 0,
      "outputs": []
    },
    {
      "cell_type": "code",
      "metadata": {
        "id": "_Udj8i26qrpl",
        "colab_type": "code",
        "colab": {}
      },
      "source": [
        "input1['input'] = [118997,\n",
        "63756,\n",
        "124972,\n",
        "141795,\n",
        "111429,\n",
        "53536,\n",
        "50522,\n",
        "143985,\n",
        "62669,\n",
        "77518,\n",
        "60164,\n",
        "72698,\n",
        "123145,\n",
        "57693,\n",
        "87138,\n",
        "82831,\n",
        "53289,\n",
        "60110,\n",
        "115660,\n",
        "51217,\n",
        "117781,\n",
        "81556,\n",
        "103963,\n",
        "89000,\n",
        "109330,\n",
        "100487,\n",
        "136562,\n",
        "145020,\n",
        "140554,\n",
        "102425,\n",
        "93333,\n",
        "75265,\n",
        "55764,\n",
        "70093,\n",
        "73800,\n",
        "81349,\n",
        "141055,\n",
        "56441,\n",
        "141696,\n",
        "89544,\n",
        "106152,\n",
        "98674,\n",
        "100882,\n",
        "137932,\n",
        "88008,\n",
        "149027,\n",
        "92767,\n",
        "113740,\n",
        "79971,\n",
        "85741,\n",
        "126630,\n",
        "75626,\n",
        "125042,\n",
        "69237,\n",
        "147069,\n",
        "60786,\n",
        "63751,\n",
        "144363,\n",
        "81873,\n",
        "107230,\n",
        "90789,\n",
        "81655,\n",
        "144004,\n",
        "74536,\n",
        "126675,\n",
        "147470,\n",
        "123359,\n",
        "68081,\n",
        "136423,\n",
        "94629,\n",
        "58263,\n",
        "122420,\n",
        "143933,\n",
        "148528,\n",
        "129120,\n",
        "78391,\n",
        "74289,\n",
        "106795,\n",
        "143640,\n",
        "59108,\n",
        "64462,\n",
        "78216,\n",
        "56113,\n",
        "64708,\n",
        "82372,\n",
        "115231,\n",
        "74229,\n",
        "130979,\n",
        "83590,\n",
        "76666,\n",
        "93156,\n",
        "138450,\n",
        "71077,\n",
        "128048,\n",
        "65476,\n",
        "85804,\n",
        "145692,\n",
        "106836,\n",
        "70016,\n",
        "113158 ]"
      ],
      "execution_count": 0,
      "outputs": []
    },
    {
      "cell_type": "code",
      "metadata": {
        "id": "5xLTr54Or7hf",
        "colab_type": "code",
        "outputId": "f6159eb1-4d55-4545-b6e7-3c7bc623fbfd",
        "colab": {
          "base_uri": "https://localhost:8080/",
          "height": 204
        }
      },
      "source": [
        "input1.head()"
      ],
      "execution_count": 5,
      "outputs": [
        {
          "output_type": "execute_result",
          "data": {
            "text/html": [
              "<div>\n",
              "<style scoped>\n",
              "    .dataframe tbody tr th:only-of-type {\n",
              "        vertical-align: middle;\n",
              "    }\n",
              "\n",
              "    .dataframe tbody tr th {\n",
              "        vertical-align: top;\n",
              "    }\n",
              "\n",
              "    .dataframe thead th {\n",
              "        text-align: right;\n",
              "    }\n",
              "</style>\n",
              "<table border=\"1\" class=\"dataframe\">\n",
              "  <thead>\n",
              "    <tr style=\"text-align: right;\">\n",
              "      <th></th>\n",
              "      <th>input</th>\n",
              "    </tr>\n",
              "  </thead>\n",
              "  <tbody>\n",
              "    <tr>\n",
              "      <th>0</th>\n",
              "      <td>118997</td>\n",
              "    </tr>\n",
              "    <tr>\n",
              "      <th>1</th>\n",
              "      <td>63756</td>\n",
              "    </tr>\n",
              "    <tr>\n",
              "      <th>2</th>\n",
              "      <td>124972</td>\n",
              "    </tr>\n",
              "    <tr>\n",
              "      <th>3</th>\n",
              "      <td>141795</td>\n",
              "    </tr>\n",
              "    <tr>\n",
              "      <th>4</th>\n",
              "      <td>111429</td>\n",
              "    </tr>\n",
              "  </tbody>\n",
              "</table>\n",
              "</div>"
            ],
            "text/plain": [
              "    input\n",
              "0  118997\n",
              "1   63756\n",
              "2  124972\n",
              "3  141795\n",
              "4  111429"
            ]
          },
          "metadata": {
            "tags": []
          },
          "execution_count": 5
        }
      ]
    },
    {
      "cell_type": "code",
      "metadata": {
        "id": "R7KKLsXksiGT",
        "colab_type": "code",
        "colab": {}
      },
      "source": [
        "input1['/3'] = input1['input']//3"
      ],
      "execution_count": 0,
      "outputs": []
    },
    {
      "cell_type": "code",
      "metadata": {
        "id": "CQlaK3WCEzpN",
        "colab_type": "code",
        "colab": {}
      },
      "source": [
        "input1['-2'] = input1['/3'] - 2"
      ],
      "execution_count": 0,
      "outputs": []
    },
    {
      "cell_type": "code",
      "metadata": {
        "id": "8O8EL-m2E-Hy",
        "colab_type": "code",
        "outputId": "2385c9f5-39ef-4c2d-8746-20eb20f8b50a",
        "colab": {
          "base_uri": "https://localhost:8080/",
          "height": 34
        }
      },
      "source": [
        "input1['-2'].sum()"
      ],
      "execution_count": 8,
      "outputs": [
        {
          "output_type": "execute_result",
          "data": {
            "text/plain": [
              "3256114"
            ]
          },
          "metadata": {
            "tags": []
          },
          "execution_count": 8
        }
      ]
    },
    {
      "cell_type": "code",
      "metadata": {
        "id": "cyHPiED0LF2O",
        "colab_type": "code",
        "colab": {}
      },
      "source": [
        "input1['allfuel'] = np.NAN"
      ],
      "execution_count": 0,
      "outputs": []
    },
    {
      "cell_type": "code",
      "metadata": {
        "id": "7PH2v_WOFAdE",
        "colab_type": "code",
        "outputId": "8213c0b2-d955-4907-b110-aeff3f4db0ef",
        "colab": {
          "base_uri": "https://localhost:8080/",
          "height": 122
        }
      },
      "source": [
        "for n in range(len(input1['-2'])):\n",
        "  i = 0\n",
        "  x= [input1['-2'][n]]\n",
        "#  if (n//3)-2 > 0:\n",
        " #   x.append((n//3)-2)\n",
        "  #  i= i+1\n",
        "    #print(x[i]) \n",
        "  while (x[i]//3)-2 > 0:\n",
        "    x.append((x[i]//3)-2)\n",
        "#    print(x[i])\n",
        "#    print('check')\n",
        "    i = i+1\n",
        "  else:\n",
        "    input1['allfuel'][n] = sum(x)"
      ],
      "execution_count": 10,
      "outputs": [
        {
          "output_type": "stream",
          "text": [
            "/usr/local/lib/python3.6/dist-packages/ipykernel_launcher.py:14: SettingWithCopyWarning: \n",
            "A value is trying to be set on a copy of a slice from a DataFrame\n",
            "\n",
            "See the caveats in the documentation: http://pandas.pydata.org/pandas-docs/stable/user_guide/indexing.html#returning-a-view-versus-a-copy\n",
            "  \n"
          ],
          "name": "stderr"
        }
      ]
    },
    {
      "cell_type": "code",
      "metadata": {
        "id": "VmuT_OgwGBnQ",
        "colab_type": "code",
        "outputId": "e011e654-c1c0-4d64-fca3-103648e9a47b",
        "colab": {
          "base_uri": "https://localhost:8080/",
          "height": 34
        }
      },
      "source": [
        "input1['allfuel'].sum()"
      ],
      "execution_count": 11,
      "outputs": [
        {
          "output_type": "execute_result",
          "data": {
            "text/plain": [
              "4881302.0"
            ]
          },
          "metadata": {
            "tags": []
          },
          "execution_count": 11
        }
      ]
    },
    {
      "cell_type": "markdown",
      "metadata": {
        "id": "fh1XoyhGNXyC",
        "colab_type": "text"
      },
      "source": [
        "# Day 2"
      ]
    },
    {
      "cell_type": "code",
      "metadata": {
        "id": "ZIzVFk-0Xo4f",
        "colab_type": "code",
        "colab": {}
      },
      "source": [
        "# code = np.array([1,9,10,3,\n",
        "# 2,3,11,0,\n",
        "# 99,\n",
        "# 30,40,50])"
      ],
      "execution_count": 0,
      "outputs": []
    },
    {
      "cell_type": "code",
      "metadata": {
        "id": "472eapoWMbk5",
        "colab_type": "code",
        "colab": {
          "base_uri": "https://localhost:8080/",
          "height": 34
        },
        "outputId": "878f3016-932b-4786-a756-cc0b0c390d4f"
      },
      "source": [
        "code = np.array([1,12,2,3,1,1,2,3,1,3,4,3,1,5,0,3,2,10,1,19,2,9,19,23,2,13,23,27,1,6,27,31,2,6,31,35,2,13,35,39,1,39,10,43,2,43,13,47,1,9,47,51,1,51,13,55,1,55,13,59,2,59,13,63,1,63,6,67,2,6,67,71,1,5,71,75,2,6,75,79,1,5,79,83,2,83,6,87,1,5,87,91,1,6,91,95,2,95,6,99,1,5,99,103,1,6,103,107,1,107,2,111,1,111,5,0,99,2,14,0,0,0,0,0])\n",
        "code = code.reshape(-1,4)\n",
        "code[0]"
      ],
      "execution_count": 13,
      "outputs": [
        {
          "output_type": "execute_result",
          "data": {
            "text/plain": [
              "array([ 1, 12,  2,  3])"
            ]
          },
          "metadata": {
            "tags": []
          },
          "execution_count": 13
        }
      ]
    },
    {
      "cell_type": "code",
      "metadata": {
        "id": "58ytyMWdOdSX",
        "colab_type": "code",
        "outputId": "38de0452-0c18-43cc-91f5-a0a7d496b8ee",
        "colab": {
          "base_uri": "https://localhost:8080/",
          "height": 34
        }
      },
      "source": [
        "i = 0\n",
        "\n",
        "for i in range(0,31):\n",
        "  x = code[i][0]\n",
        "  if x == 99:\n",
        "    print('stopped')\n",
        "  else:\n",
        "    if x == 1:\n",
        "      loc1 = (code[i][1])//4 \n",
        "      item1 = (code[i][1]) - ((code[i][1])//4)*4\n",
        "      loc2 = (code[i][2])//4 \n",
        "      item2 = (code[i][2]) - ((code[i][2])//4)*4\n",
        "      loc3 = (code[i][3])//4 \n",
        "      item3 = (code[i][3]) - ((code[i][3])//4)*4\n",
        "      code[loc3][item3] = code[loc1][item1] + code[loc2][item2]\n",
        "      i = i+1\n",
        "      # print(i)\n",
        "    else:\n",
        "      if x == 2:\n",
        "        loc1 = (code[i][1])//4 \n",
        "        item1 = (code[i][1]) - ((code[i][1])//4)*4\n",
        "        loc2 = (code[i][2])//4 \n",
        "        item2 = (code[i][2]) - ((code[i][2])//4)*4\n",
        "        loc3 = (code[i][3])//4 \n",
        "        item3 = (code[i][3]) - ((code[i][3])//4)*4\n",
        "        code[loc3][item3] = code[loc1][item1] * code[loc2][item2]\n",
        "        i = i+1"
      ],
      "execution_count": 14,
      "outputs": [
        {
          "output_type": "stream",
          "text": [
            "stopped\n"
          ],
          "name": "stdout"
        }
      ]
    },
    {
      "cell_type": "code",
      "metadata": {
        "id": "4YZCE1kFOvag",
        "colab_type": "code",
        "outputId": "f002aedb-6565-4472-87f4-4a407c1c95a9",
        "colab": {
          "base_uri": "https://localhost:8080/",
          "height": 34
        }
      },
      "source": [
        "code.shape"
      ],
      "execution_count": 16,
      "outputs": [
        {
          "output_type": "execute_result",
          "data": {
            "text/plain": [
              "(31, 4)"
            ]
          },
          "metadata": {
            "tags": []
          },
          "execution_count": 16
        }
      ]
    },
    {
      "cell_type": "code",
      "metadata": {
        "id": "yNYccCw1U4zO",
        "colab_type": "code",
        "colab": {}
      },
      "source": [
        "#(code[5][3]) - ((code[5][3])//4 )*4"
      ],
      "execution_count": 0,
      "outputs": []
    },
    {
      "cell_type": "code",
      "metadata": {
        "id": "XBYt1WjZVo-g",
        "colab_type": "code",
        "outputId": "0d0460ca-c18d-4edc-9602-8c82f52720c8",
        "colab": {
          "base_uri": "https://localhost:8080/",
          "height": 544
        }
      },
      "source": [
        "code"
      ],
      "execution_count": 18,
      "outputs": [
        {
          "output_type": "execute_result",
          "data": {
            "text/plain": [
              "array([[2890696,      12,       2,       2],\n",
              "       [      1,       1,       2,       3],\n",
              "       [      1,       3,       4,       3],\n",
              "       [      1,       5,       0,       3],\n",
              "       [      2,      10,       1,      48],\n",
              "       [      2,       9,      19,     144],\n",
              "       [      2,      13,      23,     720],\n",
              "       [      1,       6,      27,     722],\n",
              "       [      2,       6,      31,    1444],\n",
              "       [      2,      13,      35,    7220],\n",
              "       [      1,      39,      10,    7224],\n",
              "       [      2,      43,      13,   36120],\n",
              "       [      1,       9,      47,   36123],\n",
              "       [      1,      51,      13,   36128],\n",
              "       [      1,      55,      13,   36133],\n",
              "       [      2,      59,      13,  180665],\n",
              "       [      1,      63,       6,  180667],\n",
              "       [      2,       6,      67,  361334],\n",
              "       [      1,       5,      71,  361335],\n",
              "       [      2,       6,      75,  722670],\n",
              "       [      1,       5,      79,  722671],\n",
              "       [      2,      83,       6, 1445342],\n",
              "       [      1,       5,      87, 1445343],\n",
              "       [      1,       6,      91, 1445345],\n",
              "       [      2,      95,       6, 2890690],\n",
              "       [      1,       5,      99, 2890691],\n",
              "       [      1,       6,     103, 2890693],\n",
              "       [      1,     107,       2, 2890695],\n",
              "       [      1,     111,       5,       0],\n",
              "       [     99,       2,      14,       0],\n",
              "       [      0,       0,       0,       0]])"
            ]
          },
          "metadata": {
            "tags": []
          },
          "execution_count": 18
        }
      ]
    },
    {
      "cell_type": "code",
      "metadata": {
        "id": "FM9U2kGdWF1L",
        "colab_type": "code",
        "colab": {
          "base_uri": "https://localhost:8080/",
          "height": 544
        },
        "outputId": "70b3a8cc-a698-4dc2-da89-a18226de8ad2"
      },
      "source": [
        "code = np.array([1,82,26,3,1,1,2,3,1,3,4,3,1,5,0,3,2,10,1,19,2,9,19,23,2,13,23,27,1,6,27,31,2,6,31,35,2,13,35,39,1,39,10,43,2,43,13,47,1,9,47,51,1,51,13,55,1,55,13,59,2,59,13,63,1,63,6,67,2,6,67,71,1,5,71,75,2,6,75,79,1,5,79,83,2,83,6,87,1,5,87,91,1,6,91,95,2,95,6,99,1,5,99,103,1,6,103,107,1,107,2,111,1,111,5,0,99,2,14,0,0,0,0,0])\n",
        "code = code.reshape(-1,4)\n",
        "code"
      ],
      "execution_count": 103,
      "outputs": [
        {
          "output_type": "execute_result",
          "data": {
            "text/plain": [
              "array([[  1,  82,  26,   3],\n",
              "       [  1,   1,   2,   3],\n",
              "       [  1,   3,   4,   3],\n",
              "       [  1,   5,   0,   3],\n",
              "       [  2,  10,   1,  19],\n",
              "       [  2,   9,  19,  23],\n",
              "       [  2,  13,  23,  27],\n",
              "       [  1,   6,  27,  31],\n",
              "       [  2,   6,  31,  35],\n",
              "       [  2,  13,  35,  39],\n",
              "       [  1,  39,  10,  43],\n",
              "       [  2,  43,  13,  47],\n",
              "       [  1,   9,  47,  51],\n",
              "       [  1,  51,  13,  55],\n",
              "       [  1,  55,  13,  59],\n",
              "       [  2,  59,  13,  63],\n",
              "       [  1,  63,   6,  67],\n",
              "       [  2,   6,  67,  71],\n",
              "       [  1,   5,  71,  75],\n",
              "       [  2,   6,  75,  79],\n",
              "       [  1,   5,  79,  83],\n",
              "       [  2,  83,   6,  87],\n",
              "       [  1,   5,  87,  91],\n",
              "       [  1,   6,  91,  95],\n",
              "       [  2,  95,   6,  99],\n",
              "       [  1,   5,  99, 103],\n",
              "       [  1,   6, 103, 107],\n",
              "       [  1, 107,   2, 111],\n",
              "       [  1, 111,   5,   0],\n",
              "       [ 99,   2,  14,   0],\n",
              "       [  0,   0,   0,   0]])"
            ]
          },
          "metadata": {
            "tags": []
          },
          "execution_count": 103
        }
      ]
    },
    {
      "cell_type": "code",
      "metadata": {
        "id": "6Qx-_JFRfkPf",
        "colab_type": "code",
        "colab": {
          "base_uri": "https://localhost:8080/",
          "height": 34
        },
        "outputId": "9121d134-31e6-4746-eaa0-24dbaa50ca7f"
      },
      "source": [
        "i = 0\n",
        "\n",
        "for i in range(0,31):\n",
        "  x = code[i][0]\n",
        "  if x == 99:\n",
        "    print('stopped')\n",
        "  else:\n",
        "    if x == 1:\n",
        "      loc1 = (code[i][1])//4 \n",
        "      item1 = (code[i][1]) - ((code[i][1])//4)*4\n",
        "      loc2 = (code[i][2])//4 \n",
        "      item2 = (code[i][2]) - ((code[i][2])//4)*4\n",
        "      loc3 = (code[i][3])//4 \n",
        "      item3 = (code[i][3]) - ((code[i][3])//4)*4\n",
        "      code[loc3][item3] = code[loc1][item1] + code[loc2][item2]\n",
        "      i = i+1\n",
        "      # print(i)\n",
        "    else:\n",
        "      if x == 2:\n",
        "        loc1 = (code[i][1])//4 \n",
        "        item1 = (code[i][1]) - ((code[i][1])//4)*4\n",
        "        loc2 = (code[i][2])//4 \n",
        "        item2 = (code[i][2]) - ((code[i][2])//4)*4\n",
        "        loc3 = (code[i][3])//4 \n",
        "        item3 = (code[i][3]) - ((code[i][3])//4)*4\n",
        "        code[loc3][item3] = code[loc1][item1] * code[loc2][item2]\n",
        "        i = i+1"
      ],
      "execution_count": 104,
      "outputs": [
        {
          "output_type": "stream",
          "text": [
            "stopped\n"
          ],
          "name": "stdout"
        }
      ]
    },
    {
      "cell_type": "code",
      "metadata": {
        "id": "ZhAaPgV-f04f",
        "colab_type": "code",
        "colab": {
          "base_uri": "https://localhost:8080/",
          "height": 544
        },
        "outputId": "8980f616-c03a-4769-cc32-6d0989daa95b"
      },
      "source": [
        "code"
      ],
      "execution_count": 105,
      "outputs": [
        {
          "output_type": "execute_result",
          "data": {
            "text/plain": [
              "array([[19690720,       82,       26,        2],\n",
              "       [       1,        1,        2,        3],\n",
              "       [       1,        3,        4,        3],\n",
              "       [       1,        5,        0,        3],\n",
              "       [       2,       10,        1,      328],\n",
              "       [       2,        9,       19,      984],\n",
              "       [       2,       13,       23,     4920],\n",
              "       [       1,        6,       27,     4922],\n",
              "       [       2,        6,       31,     9844],\n",
              "       [       2,       13,       35,    49220],\n",
              "       [       1,       39,       10,    49224],\n",
              "       [       2,       43,       13,   246120],\n",
              "       [       1,        9,       47,   246123],\n",
              "       [       1,       51,       13,   246128],\n",
              "       [       1,       55,       13,   246133],\n",
              "       [       2,       59,       13,  1230665],\n",
              "       [       1,       63,        6,  1230667],\n",
              "       [       2,        6,       67,  2461334],\n",
              "       [       1,        5,       71,  2461335],\n",
              "       [       2,        6,       75,  4922670],\n",
              "       [       1,        5,       79,  4922671],\n",
              "       [       2,       83,        6,  9845342],\n",
              "       [       1,        5,       87,  9845343],\n",
              "       [       1,        6,       91,  9845345],\n",
              "       [       2,       95,        6, 19690690],\n",
              "       [       1,        5,       99, 19690691],\n",
              "       [       1,        6,      103, 19690693],\n",
              "       [       1,      107,        2, 19690719],\n",
              "       [       1,      111,        5,        0],\n",
              "       [      99,        2,       14,        0],\n",
              "       [       0,        0,        0,        0]])"
            ]
          },
          "metadata": {
            "tags": []
          },
          "execution_count": 105
        }
      ]
    },
    {
      "cell_type": "code",
      "metadata": {
        "id": "bTA4QD-yf1ff",
        "colab_type": "code",
        "colab": {}
      },
      "source": [
        ""
      ],
      "execution_count": 0,
      "outputs": []
    }
  ]
}