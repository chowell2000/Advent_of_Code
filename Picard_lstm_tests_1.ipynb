{
  "nbformat": 4,
  "nbformat_minor": 0,
  "metadata": {
    "colab": {
      "name": "Picard_lstm tests 1.ipynb",
      "provenance": [],
      "collapsed_sections": [],
      "authorship_tag": "ABX9TyMYSG38iNlQcu0gnwIQNLcL",
      "include_colab_link": true
    },
    "kernelspec": {
      "name": "python3",
      "display_name": "Python 3"
    },
    "language_info": {
      "name": "python"
    },
    "accelerator": "GPU"
  },
  "cells": [
    {
      "cell_type": "markdown",
      "metadata": {
        "id": "view-in-github",
        "colab_type": "text"
      },
      "source": [
        "<a href=\"https://colab.research.google.com/github/chowell2000/Advent_of_Code/blob/master/Picard_lstm_tests_1.ipynb\" target=\"_parent\"><img src=\"https://colab.research.google.com/assets/colab-badge.svg\" alt=\"Open In Colab\"/></a>"
      ]
    },
    {
      "cell_type": "code",
      "metadata": {
        "id": "wGu_sFw8kDW8"
      },
      "source": [
        "\n",
        "# import numpy as np\n",
        "# import random\n",
        "import json\n",
        "import os\n",
        "import pandas as pd\n",
        "import sys\n",
        "import urllib.request"
      ],
      "execution_count": 1,
      "outputs": []
    },
    {
      "cell_type": "code",
      "metadata": {
        "colab": {
          "base_uri": "https://localhost:8080/"
        },
        "id": "tMQA4TZykljX",
        "outputId": "3028c0e4-82a2-4ef2-d3b6-65aa68dd5d41"
      },
      "source": [
        "from google.colab import drive\n",
        "drive.mount('/content/drive')"
      ],
      "execution_count": 2,
      "outputs": [
        {
          "output_type": "stream",
          "text": [
            "Drive already mounted at /content/drive; to attempt to forcibly remount, call drive.mount(\"/content/drive\", force_remount=True).\n"
          ],
          "name": "stdout"
        }
      ]
    },
    {
      "cell_type": "code",
      "metadata": {
        "id": "R_jVyTgNogzN"
      },
      "source": [
        "with open('drive/My Drive/s01e01.json') as f:\n",
        "  farpoint_json = f.read()"
      ],
      "execution_count": null,
      "outputs": []
    },
    {
      "cell_type": "code",
      "metadata": {
        "id": "A_ZwYLK6knFP"
      },
      "source": [
        "# farpoint_json = open('drive/My Drive/s01e01.json')\n",
        "\n",
        "# open()"
      ],
      "execution_count": null,
      "outputs": []
    },
    {
      "cell_type": "code",
      "metadata": {
        "colab": {
          "base_uri": "https://localhost:8080/"
        },
        "id": "Y8YIaYg6knAQ",
        "outputId": "03e6ab7b-50fe-428a-f67e-255bba42557d"
      },
      "source": [
        "print(farpoint_json[0:200])"
      ],
      "execution_count": null,
      "outputs": [
        {
          "output_type": "stream",
          "text": [
            "{\n",
            "  \"airdate\": 559800000,\n",
            "  \"scenes\": [\n",
            "    {\n",
            "      \"dialogue\": [\n",
            "        {\n",
            "          \"character\": \"PICARD\",\n",
            "          \"line\": \"Captain's log, stardate 41153.7. Our destination is planet Deneb Four, b\n"
          ],
          "name": "stdout"
        }
      ]
    },
    {
      "cell_type": "code",
      "metadata": {
        "id": "tbk-Poq0km6i"
      },
      "source": [
        "farpoint = json.loads(farpoint_json)"
      ],
      "execution_count": null,
      "outputs": []
    },
    {
      "cell_type": "code",
      "metadata": {
        "colab": {
          "base_uri": "https://localhost:8080/"
        },
        "id": "XytiEm3RkmwL",
        "outputId": "ee15805f-b5a3-40f2-97b3-6d2b306181eb"
      },
      "source": [
        "keys = farpoint.keys()\n",
        "print(keys)"
      ],
      "execution_count": null,
      "outputs": [
        {
          "output_type": "stream",
          "text": [
            "dict_keys(['airdate', 'scenes', 'schedule', 'stardate', 'title'])\n"
          ],
          "name": "stdout"
        }
      ]
    },
    {
      "cell_type": "code",
      "metadata": {
        "colab": {
          "base_uri": "https://localhost:8080/"
        },
        "id": "t3jIFJrVo2N4",
        "outputId": "694073e7-5ee2-4ba0-da0f-d652c39232a8"
      },
      "source": [
        "# print(farpoint['scenes'][1])\n",
        "scenes = farpoint['scenes']\n",
        "len(scenes)\n",
        "scenes[1]['dialogue'][0]"
      ],
      "execution_count": null,
      "outputs": [
        {
          "output_type": "execute_result",
          "data": {
            "text/plain": [
              "{'character': 'PICARD',\n",
              " 'line': \"You will agree, Data, that Starfleet's orders are difficult?\"}"
            ]
          },
          "metadata": {
            "tags": []
          },
          "execution_count": 57
        }
      ]
    },
    {
      "cell_type": "code",
      "metadata": {
        "id": "hCIhhpyptHcB"
      },
      "source": [
        "lines = {}\n",
        "for n in range(len(scenes)):\n",
        "  for i in range(len(scenes[n]['dialogue'])):\n",
        "    # print(scenes[1]['dialogue'][i]['line'])\n",
        "    lines[scenes[n]['dialogue'][i]['line']] = scenes[n]['dialogue'][i]['character']"
      ],
      "execution_count": null,
      "outputs": []
    },
    {
      "cell_type": "code",
      "metadata": {
        "colab": {
          "base_uri": "https://localhost:8080/"
        },
        "id": "f-h1ShvstHU4",
        "outputId": "a4e5b060-0694-4b73-94b2-b0ae06707e14"
      },
      "source": [
        "lines"
      ],
      "execution_count": null,
      "outputs": [
        {
          "output_type": "execute_result",
          "data": {
            "text/plain": [
              "{'Ah! To seek covertly, to go stealthily, to slink, slither': 'DATA',\n",
              " 'As simple as that.': 'PICARD',\n",
              " \"Captain's log, supplementary. The frozen form of Lieutenant Torres has been rushed to sickbay. The question now is the incredible power of the Q being. Do we dare oppose it?\": 'PICARD',\n",
              " \"Captain, I'm sensing a powerful mind.\": 'TROI',\n",
              " 'Controls to full stop, sir. Now reading full stop, sir.': 'TORRES',\n",
              " 'Data, call medics.': 'PICARD',\n",
              " 'Data, how can you be programmed as a virtual encyclopedia of human information without knowing a simple word like snoop?': 'PICARD',\n",
              " 'Difficult? Simply solve the mystery of Farpoint Station.': 'DATA',\n",
              " 'Exactly, yes.': 'PICARD',\n",
              " 'Farpoint Station. Even the name sounds mysterious.': 'TROI',\n",
              " 'Glide, creep, skulk, pussyfoot, gumshoe.': 'DATA',\n",
              " 'He would not have injured you. Do you recognize this, the stun setting?': 'PICARD',\n",
              " \"He's frozen.\": 'TROI',\n",
              " 'I present myself to thee as a fellow ship captain, that thou mayst better understand me. Go back whence thou camest. Stay where thou art!': 'Q',\n",
              " 'Inquiry. The word snoop?': 'DATA',\n",
              " 'It means to spy, to sneak.': 'PICARD',\n",
              " 'It registers as solid, Captain.': 'DATA',\n",
              " \"It's hardly simple, Data, to negotiate a friendly agreement for Starfleet to use the base while at the same time snoop around finding how and why the life form there built it.\": 'PICARD',\n",
              " 'Knowing humans as thou dost, Captain, wouldst thou be captured helpless by them? Now, go back or thou shalt most certainly die.': 'Q',\n",
              " 'Or an incredibly powerful forcefield. But if we collide with either it could be very': 'TROI',\n",
              " 'Possibility, a kind of human behavior I was not designed to emulate.': 'DATA',\n",
              " 'Reverse power, full stop.': 'PICARD',\n",
              " 'Shields and deflectors up, sir.': 'WORF',\n",
              " 'Shut off that damned noise. Go to Yellow Alert.': 'PICARD',\n",
              " 'Something strange on the detector circuits.': 'TORRES',\n",
              " \"That's quite a directive. Would you mind identifying what you are?\": 'PICARD',\n",
              " 'Thou are notified that thy kind hath infiltrated the galaxy too far already. Thou art directed to return to thine own solar system immediately.': 'Q',\n",
              " \"We call ourselves the Q. Or thou mayst call me that. It's all much the same thing.\": 'Q',\n",
              " \"You will agree, Data, that Starfleet's orders are difficult?\": 'PICARD'}"
            ]
          },
          "metadata": {
            "tags": []
          },
          "execution_count": 65
        }
      ]
    },
    {
      "cell_type": "code",
      "metadata": {
        "id": "wwD2qEsZUErm"
      },
      "source": [
        "tng_lines = {}\n",
        "basepath = 'drive/My Drive/tng/'\n",
        "for filename in os.listdir(basepath):\n",
        "      # print(os.path.join(\"./DataFiles\", filename))\n",
        "      \n",
        "      with open(basepath + filename) as f:\n",
        "        script_json = f.read()\n",
        "        script = json.loads(script_json)\n",
        "\n",
        "        for n in range(len(script['scenes'])):\n",
        "          for i in range(len(script['scenes'][n]['dialogue'])):\n",
        "          # print(scenes[1]['dialogue'][i]['line'])\n",
        "            tng_lines[script['scenes'][n]['dialogue'][i]['line']] = script['scenes'][n]['dialogue'][i]['character']"
      ],
      "execution_count": null,
      "outputs": []
    },
    {
      "cell_type": "code",
      "metadata": {
        "id": "_5ofPcV2rybq"
      },
      "source": [
        "line_list = tng_lines.to_list()\n",
        "picard_list = [line[1] == 'PICARD' for line in line_list]\n"
      ],
      "execution_count": null,
      "outputs": []
    },
    {
      "cell_type": "code",
      "metadata": {
        "id": "Ip6PktamryEO"
      },
      "source": [
        ""
      ],
      "execution_count": null,
      "outputs": []
    },
    {
      "cell_type": "code",
      "metadata": {
        "id": "YLtrKLker2qt"
      },
      "source": [
        "picard = [k for k, v in tng_lines.items() if v == 'PICARD']"
      ],
      "execution_count": null,
      "outputs": []
    },
    {
      "cell_type": "code",
      "metadata": {
        "id": "fnx8gzzlCzvA"
      },
      "source": [
        "with open('drive/My Drive/picard_lines.json', 'w') as f:\n",
        "  json.dump(picard, f)\n"
      ],
      "execution_count": null,
      "outputs": []
    },
    {
      "cell_type": "code",
      "metadata": {
        "id": "3xrdonyfESWz"
      },
      "source": [
        "with open('drive/My Drive/picard_lines.json', 'r') as f:\n",
        "  picardtest = json.loads(f.read())\n"
      ],
      "execution_count": 3,
      "outputs": []
    },
    {
      "cell_type": "code",
      "metadata": {
        "colab": {
          "base_uri": "https://localhost:8080/"
        },
        "id": "s2VsLhwvESIL",
        "outputId": "1e99c1d8-62c6-4a88-ae8d-dd4a257641e6"
      },
      "source": [
        "picardtest[-20:-1]"
      ],
      "execution_count": 4,
      "outputs": [
        {
          "output_type": "execute_result",
          "data": {
            "text/plain": [
              "['All hands, brace for impact!',\n",
              " 'Maintain course and speed. Mister Data, how long until we reach the center?',\n",
              " 'Initiate warp shell!',\n",
              " 'No, we have to maintain the static warp shell as long as possible!',\n",
              " 'Transfer emergency power to the antimatter containment system!',\n",
              " 'Maintain position! Mister La',\n",
              " 'Data, report!',\n",
              " 'Are you saying that it worked? We collapsed the anomaly?',\n",
              " 'Did it work?',\n",
              " 'What about my crew?',\n",
              " 'You had a hand in helping me get out of this.',\n",
              " 'I sincerely hope that this is the last time that I find myself here.',\n",
              " 'When I realized the paradox.',\n",
              " \"Q, what is it that you're trying to tell me?\",\n",
              " \"Mister Worf, what's the date?\",\n",
              " \"No. No. No. I think I'll get back to bed. I could use some sleep.\",\n",
              " \"Captain's log, supplemental. Starfleet Command reports no unusual activity along the Neutral Zone, and there is no sign of a temporal anomaly. It would appear that I am the only member of the crew to retain any knowledge of the events I experienced.\",\n",
              " \"No. I, er, I just thought that I might, erm, I might join you this evening. If there's room.\",\n",
              " 'Oh, er, thank you, Mister Data. Actually, I used to be quite a card player in my youth, you know. I should have done this a long time ago.']"
            ]
          },
          "metadata": {
            "tags": []
          },
          "execution_count": 4
        }
      ]
    },
    {
      "cell_type": "code",
      "metadata": {
        "id": "xhUx6W9NUEWW",
        "colab": {
          "base_uri": "https://localhost:8080/"
        },
        "outputId": "b39c6bc0-c4d8-4b69-f280-df21d3c42106"
      },
      "source": [
        "len(picardtest)"
      ],
      "execution_count": 5,
      "outputs": [
        {
          "output_type": "execute_result",
          "data": {
            "text/plain": [
              "11132"
            ]
          },
          "metadata": {
            "tags": []
          },
          "execution_count": 5
        }
      ]
    },
    {
      "cell_type": "code",
      "metadata": {
        "id": "xFwSHLzzUEKK"
      },
      "source": [
        "line_len = [len(l) for l in picardtest]"
      ],
      "execution_count": 6,
      "outputs": []
    },
    {
      "cell_type": "code",
      "metadata": {
        "colab": {
          "base_uri": "https://localhost:8080/"
        },
        "id": "7rMHcKoois4v",
        "outputId": "2d41425d-576d-47da-8dff-b9dbda902b17"
      },
      "source": [
        "max(line_len)"
      ],
      "execution_count": 7,
      "outputs": [
        {
          "output_type": "execute_result",
          "data": {
            "text/plain": [
              "1080"
            ]
          },
          "metadata": {
            "tags": []
          },
          "execution_count": 7
        }
      ]
    },
    {
      "cell_type": "markdown",
      "metadata": {
        "id": "VJ2wbNM7jcIX"
      },
      "source": [
        ""
      ]
    },
    {
      "cell_type": "code",
      "metadata": {
        "colab": {
          "base_uri": "https://localhost:8080/"
        },
        "id": "gh002AWdisx4",
        "outputId": "e16b7faf-1ff7-4270-b63a-13ea03fcab54"
      },
      "source": [
        "longlines = [l for l in picardtest if len(l) > 282]\n",
        "longlogs = [l for l in picardtest if l[0:7] == 'Captain' and len(l) > 280]\n",
        "len(longlogs)"
      ],
      "execution_count": 8,
      "outputs": [
        {
          "output_type": "execute_result",
          "data": {
            "text/plain": [
              "64"
            ]
          },
          "metadata": {
            "tags": []
          },
          "execution_count": 8
        }
      ]
    },
    {
      "cell_type": "code",
      "metadata": {
        "colab": {
          "base_uri": "https://localhost:8080/"
        },
        "id": "7bAV3R-Aiss6",
        "outputId": "a6c547af-9f86-4b20-d050-1a83befee386"
      },
      "source": [
        "logs = [l for l in picardtest if l[0:7] == 'Captain' and len(l) < 283]\n",
        "len(logs)"
      ],
      "execution_count": 9,
      "outputs": [
        {
          "output_type": "execute_result",
          "data": {
            "text/plain": [
              "343"
            ]
          },
          "metadata": {
            "tags": []
          },
          "execution_count": 9
        }
      ]
    },
    {
      "cell_type": "code",
      "metadata": {
        "id": "GlU5YWeilEM-"
      },
      "source": [
        "len_logs = [len(l) for l in logs]"
      ],
      "execution_count": 10,
      "outputs": []
    },
    {
      "cell_type": "code",
      "metadata": {
        "colab": {
          "base_uri": "https://localhost:8080/"
        },
        "id": "bn8EtS54kNud",
        "outputId": "d4e4691e-038a-4677-ed16-711553e1c746"
      },
      "source": [
        "sum(len_logs) + 58*280"
      ],
      "execution_count": 11,
      "outputs": [
        {
          "output_type": "execute_result",
          "data": {
            "text/plain": [
              "77159"
            ]
          },
          "metadata": {
            "tags": []
          },
          "execution_count": 11
        }
      ]
    },
    {
      "cell_type": "code",
      "metadata": {
        "id": "VHuFil_rYdZq"
      },
      "source": [
        "lines_280 = [l for l in picardtest if len(l)<281]\n",
        "lines_280_len = [len(l) for l in lines_280]"
      ],
      "execution_count": 12,
      "outputs": []
    },
    {
      "cell_type": "code",
      "metadata": {
        "colab": {
          "base_uri": "https://localhost:8080/",
          "height": 297
        },
        "id": "tEIJgfzwlxpZ",
        "outputId": "38895432-e969-4ce1-daf4-81e4d22fad71"
      },
      "source": [
        "charcount = pd.DataFrame(data=lines_280_len)\n",
        "charcount.describe()"
      ],
      "execution_count": 13,
      "outputs": [
        {
          "output_type": "execute_result",
          "data": {
            "text/html": [
              "<div>\n",
              "<style scoped>\n",
              "    .dataframe tbody tr th:only-of-type {\n",
              "        vertical-align: middle;\n",
              "    }\n",
              "\n",
              "    .dataframe tbody tr th {\n",
              "        vertical-align: top;\n",
              "    }\n",
              "\n",
              "    .dataframe thead th {\n",
              "        text-align: right;\n",
              "    }\n",
              "</style>\n",
              "<table border=\"1\" class=\"dataframe\">\n",
              "  <thead>\n",
              "    <tr style=\"text-align: right;\">\n",
              "      <th></th>\n",
              "      <th>0</th>\n",
              "    </tr>\n",
              "  </thead>\n",
              "  <tbody>\n",
              "    <tr>\n",
              "      <th>count</th>\n",
              "      <td>10865.000000</td>\n",
              "    </tr>\n",
              "    <tr>\n",
              "      <th>mean</th>\n",
              "      <td>70.226783</td>\n",
              "    </tr>\n",
              "    <tr>\n",
              "      <th>std</th>\n",
              "      <td>55.205666</td>\n",
              "    </tr>\n",
              "    <tr>\n",
              "      <th>min</th>\n",
              "      <td>1.000000</td>\n",
              "    </tr>\n",
              "    <tr>\n",
              "      <th>25%</th>\n",
              "      <td>30.000000</td>\n",
              "    </tr>\n",
              "    <tr>\n",
              "      <th>50%</th>\n",
              "      <td>53.000000</td>\n",
              "    </tr>\n",
              "    <tr>\n",
              "      <th>75%</th>\n",
              "      <td>94.000000</td>\n",
              "    </tr>\n",
              "    <tr>\n",
              "      <th>max</th>\n",
              "      <td>280.000000</td>\n",
              "    </tr>\n",
              "  </tbody>\n",
              "</table>\n",
              "</div>"
            ],
            "text/plain": [
              "                  0\n",
              "count  10865.000000\n",
              "mean      70.226783\n",
              "std       55.205666\n",
              "min        1.000000\n",
              "25%       30.000000\n",
              "50%       53.000000\n",
              "75%       94.000000\n",
              "max      280.000000"
            ]
          },
          "metadata": {
            "tags": []
          },
          "execution_count": 13
        }
      ]
    },
    {
      "cell_type": "code",
      "metadata": {
        "id": "nCVDXgGhtPts"
      },
      "source": [
        "full_text_no_padd = ' '.join(lines_280)"
      ],
      "execution_count": 14,
      "outputs": []
    },
    {
      "cell_type": "code",
      "metadata": {
        "id": "qdoMs8PwZLk0"
      },
      "source": [
        "lines_280 = ['{:290}'.format(l) for l in lines_280]"
      ],
      "execution_count": 16,
      "outputs": []
    },
    {
      "cell_type": "code",
      "metadata": {
        "id": "WAfus3HzZ3_q"
      },
      "source": [
        "\n",
        "import numpy as np\n",
        "import pickle\n",
        "import random\n",
        "import sys\n",
        "import os\n",
        "import tensorflow as tf\n",
        "import urllib.request\n",
        "\n",
        "from __future__ import print_function\n",
        "\n",
        "from tensorflow.keras.callbacks import ModelCheckpoint\n",
        "from tensorflow.keras.callbacks import LambdaCallback\n",
        "from tensorflow.keras.preprocessing import sequence\n",
        "from tensorflow.keras.models import Sequential\n",
        "from tensorflow.keras.layers import Dense, Embedding\n",
        "from tensorflow.keras.layers import LSTM\n",
        "from tensorflow.keras.optimizers import RMSprop, Nadam"
      ],
      "execution_count": 17,
      "outputs": []
    },
    {
      "cell_type": "code",
      "metadata": {
        "id": "71B6CGUqb41F"
      },
      "source": [
        "full_text = ' '.join(lines_280)"
      ],
      "execution_count": 20,
      "outputs": []
    },
    {
      "cell_type": "code",
      "metadata": {
        "id": "tjDHcCwdcaaq"
      },
      "source": [
        "character_encoding = dict(zip(sorted(set(full_text)), range(len(set(full_text)))))\n",
        "character_decoding = dict(zip(range(len(set(full_text))), sorted(set(full_text))))"
      ],
      "execution_count": 21,
      "outputs": []
    },
    {
      "cell_type": "code",
      "metadata": {
        "id": "dme2maGldx0o"
      },
      "source": [
        ""
      ],
      "execution_count": 21,
      "outputs": []
    },
    {
      "cell_type": "code",
      "metadata": {
        "colab": {
          "base_uri": "https://localhost:8080/"
        },
        "id": "7rjPzk5YaUPR",
        "outputId": "7bd8f787-bd8a-4e23-dcdb-a124c1be4ce3"
      },
      "source": [
        "# Create the sequence data\n",
        "\n",
        "maxlen = 40\n",
        "step = 1\n",
        "\n",
        "encoded_280 = []\n",
        "\n",
        "for line in lines_280:\n",
        "  encoded = [character_encoding[c] for c in line]\n",
        "  encoded_280.append(encoded)\n",
        "\n",
        "sequences = [] # Each element is 40 chars long\n",
        "next_char = [] # One element for each sequence\n",
        "\n",
        "for encoded in encoded_280:\n",
        "  for i in range(0, len(encoded) - maxlen, step):\n",
        "      \n",
        "      sequences.append(encoded[i : i + maxlen])\n",
        "      next_char.append(encoded[i + maxlen])\n",
        "      if encoded[i + 38 :i + maxlen] == [0]*2:\n",
        "        break\n",
        "\n",
        "print('sequences: ', len(sequences))\n",
        "\n"
      ],
      "execution_count": 62,
      "outputs": [
        {
          "output_type": "stream",
          "text": [
            "sequences:  416136\n"
          ],
          "name": "stdout"
        }
      ]
    },
    {
      "cell_type": "code",
      "metadata": {
        "id": "g3mQayzJxjCs"
      },
      "source": [
        ""
      ],
      "execution_count": null,
      "outputs": []
    },
    {
      "cell_type": "code",
      "metadata": {
        "colab": {
          "base_uri": "https://localhost:8080/"
        },
        "id": "u1qsjv7PnZIl",
        "outputId": "e8543df8-2d97-45f4-df2f-eb62e59b14d9"
      },
      "source": [
        "character_encoding[' ']"
      ],
      "execution_count": 25,
      "outputs": [
        {
          "output_type": "execute_result",
          "data": {
            "text/plain": [
              "0"
            ]
          },
          "metadata": {
            "tags": []
          },
          "execution_count": 25
        }
      ]
    },
    {
      "cell_type": "code",
      "metadata": {
        "id": "KDLOyyjvfH_X"
      },
      "source": [
        "# Create x & y\n",
        "\n",
        "x = np.zeros((len(sequences), maxlen, len(character_encoding)), dtype=np.bool)\n",
        "y = np.zeros((len(sequences),len(character_encoding)), dtype=np.bool)\n",
        "\n",
        "for i, sequence in enumerate(sequences):\n",
        "    for t, char in enumerate(sequence):\n",
        "        x[i,t,char] = 1\n",
        "        \n",
        "    y[i, next_char[i]] = 1\n",
        "        "
      ],
      "execution_count": 63,
      "outputs": []
    },
    {
      "cell_type": "code",
      "metadata": {
        "id": "c4YVCOV4fhvx"
      },
      "source": [
        "# np.save('drive/My Drive/x_shake_2.npy', x)\n",
        "# np.save('drive/My Drive/y_shake_2.npy', y)"
      ],
      "execution_count": 25,
      "outputs": []
    },
    {
      "cell_type": "code",
      "metadata": {
        "id": "zAyOzxaUfpVF"
      },
      "source": [
        "def sample(preds, temp = .8):\n",
        "    # helper function to sample an index from a probability array\n",
        "    preds = np.asarray(preds).astype('float64')\n",
        "    preds = np.log(preds) / temp\n",
        "    exp_preds = np.exp(preds)\n",
        "    preds = exp_preds / np.sum(exp_preds)\n",
        "    probas = np.random.multinomial(1, preds, 1)\n",
        "    return np.argmax(probas)"
      ],
      "execution_count": 50,
      "outputs": []
    },
    {
      "cell_type": "code",
      "metadata": {
        "id": "Oqnk9caMfpMA"
      },
      "source": [
        "def on_epoch_end_3(epoch, _):\n",
        "    # Function invoked at end of each epoch. Prints generated text.\n",
        "    \n",
        "    print()\n",
        "    print('----- Generating text after Epoch: %d' % epoch)\n",
        "    \n",
        "    # start_index = random.randint(0, len(full_text_no_padd) - maxlen - 1)\n",
        "    start_index = random.randint(0, len(lines_280))\n",
        "    \n",
        "    generated = ''\n",
        "    \n",
        "    # sentence = full_text_no_padd[start_index: start_index + maxlen]\n",
        "    sentence = lines_280[start_index][0:40]\n",
        "    generated += sentence\n",
        "    \n",
        "    print('----- Generating with seed: \"' + sentence + '\" /n')\n",
        "    sys.stdout.write(generated)\n",
        "    \n",
        "    space_check = ''\n",
        "    for i in range(290):\n",
        "        x_pred = np.zeros((1, maxlen, len(character_encoding)))\n",
        "        for t, char in enumerate(sentence):\n",
        "            x_pred[0, t, character_encoding[char]] = 1\n",
        "            \n",
        "        preds = model3.predict(x_pred, verbose=0)[0]\n",
        "        next_index = sample(preds)\n",
        "        next_char = character_decoding[next_index]\n",
        "        \n",
        "        sentence = sentence[1:] + next_char\n",
        "\n",
        "        space_check = space_check + next_char\n",
        "        if space_check[-5:] == '     ':\n",
        "          break\n",
        "\n",
        "\n",
        "        \n",
        "        sys.stdout.write(next_char)\n",
        "        sys.stdout.flush()\n",
        "    print()\n",
        "\n",
        "\n",
        "    generated = ''\n",
        "    \n",
        "    sentence = full_text_no_padd[start_index: start_index + maxlen]\n",
        "    generated += sentence\n",
        "    \n",
        "    print('----- Generating with seed: ' + sentence + ' /n')\n",
        "    sys.stdout.write(generated)\n",
        "    \n",
        "    for i in range(290):\n",
        "        x_pred = np.zeros((1, maxlen, len(character_decoding)))\n",
        "        for t, char in enumerate(sentence):\n",
        "            x_pred[0, t, character_encoding[char]] = 1\n",
        "            \n",
        "        preds = model3.predict(x_pred, verbose=0)[0]\n",
        "        next_index = sample(preds, temp= .5)\n",
        "        next_char = character_decoding[next_index]\n",
        "        \n",
        "        sentence = sentence[1:] + next_char\n",
        "        \n",
        "        sys.stdout.write(next_char)\n",
        "        sys.stdout.flush()\n",
        "    print()\n",
        "\n",
        "\n",
        "\n",
        "print_callback_1 = LambdaCallback(on_epoch_end=on_epoch_end_3)"
      ],
      "execution_count": 52,
      "outputs": []
    },
    {
      "cell_type": "code",
      "metadata": {
        "id": "JV5Y5_NtfpD1"
      },
      "source": [
        "file_path = \"drive/My Drive/picard_lstm/picard_model_3-{epoch:03d}-{loss:.4f}\"\n",
        "\n",
        "save_callback = ModelCheckpoint(filepath = file_path,\n",
        "                                verbose=1, save_best_only=False,\n",
        "                                save_weights_only=False,  ) \n",
        "\n",
        "weights_path = \"drive/My Drive/picard_lstm/picard_weights_3-{epoch:03d}-{loss:.4f}\"\n",
        "\n",
        "save_weights_callback = ModelCheckpoint(filepath = weights_path,\n",
        "                                verbose=1, save_best_only=False,\n",
        "                                save_weights_only=True) "
      ],
      "execution_count": 65,
      "outputs": []
    },
    {
      "cell_type": "code",
      "metadata": {
        "id": "THDTpzpMgDL5"
      },
      "source": [
        "# build the model: a three LSTM model\n",
        "\n",
        "model3 = Sequential()\n",
        "model3.add(LSTM(128, input_shape=(maxlen, len(character_encoding)), return_sequences=True,\n",
        "                dropout=.2))\n",
        "model3.add(LSTM(256, return_sequences=True, dropout=.2))\n",
        "model3.add(LSTM(128, dropout=.2, recurrent_dropout=.2 ))\n",
        "model3.add(Dense(len(character_encoding), activation='softmax'))\n",
        "\n",
        "optimizer = Nadam(learning_rate=0.001, )\n",
        "\n",
        "model3.compile(loss='categorical_crossentropy', optimizer=optimizer, metrics=['accuracy'] )"
      ],
      "execution_count": 66,
      "outputs": []
    },
    {
      "cell_type": "code",
      "metadata": {
        "colab": {
          "base_uri": "https://localhost:8080/"
        },
        "id": "Dmg_zZpnvcNb",
        "outputId": "af804e6b-b6a7-4dee-a999-878289ef8e69"
      },
      "source": [
        "model3.load_weights(\"drive/My Drive/picard_lstm/picard_model_2-113-0.9608\")"
      ],
      "execution_count": 67,
      "outputs": [
        {
          "output_type": "execute_result",
          "data": {
            "text/plain": [
              "<tensorflow.python.training.tracking.util.CheckpointLoadStatus at 0x7ff9ce2db4d0>"
            ]
          },
          "metadata": {
            "tags": []
          },
          "execution_count": 67
        }
      ]
    },
    {
      "cell_type": "code",
      "metadata": {
        "colab": {
          "base_uri": "https://localhost:8080/"
        },
        "id": "GJ5eXC2xgDHA",
        "outputId": "ff988793-b74f-47e4-eabf-beaa7a707280"
      },
      "source": [
        "# fit the model\n",
        "\n",
        "model3.fit(x, y,\n",
        "          batch_size=32,\n",
        "          epochs=200,\n",
        "          # callbacks=[save_callback, print_callback_1, save_weights_callback])\n",
        "          callbacks=[ print_callback_1, save_callback])\n",
        "# , validation_split = .2"
      ],
      "execution_count": null,
      "outputs": [
        {
          "output_type": "stream",
          "text": [
            "Epoch 1/200\n",
            "1062/1062 [==============================] - 192s 170ms/step - loss: 2.6420 - accuracy: 0.2766\n",
            "\n",
            "----- Generating text after Epoch: 0\n",
            "----- Generating with seed: \"he same respect as any other being.Did e\" /n\n",
            "he same respect as any other being.Did er nes ars miu mein pul aices olllh  him S wesses.    \n",
            "----- Generating with seed: he same respect as any other being.Did e /n\n",
            "he same respect as any other being.Did eitir sote care er sev ar anniu ti iasir tor tor ses toe mise the  hor in tiu ler as ess bes.                                                                                                                                                                                                      \n",
            "\n",
            "Epoch 00001: saving model to drive/My Drive/picard_lstm/picard_model_2-001-2.6420\n"
          ],
          "name": "stdout"
        },
        {
          "output_type": "stream",
          "text": [
            "WARNING:absl:Found untraced functions such as lstm_cell_layer_call_fn, lstm_cell_layer_call_and_return_conditional_losses, lstm_cell_1_layer_call_fn, lstm_cell_1_layer_call_and_return_conditional_losses, lstm_cell_layer_call_fn while saving (showing 5 of 10). These functions will not be directly callable after loading.\n"
          ],
          "name": "stderr"
        },
        {
          "output_type": "stream",
          "text": [
            "INFO:tensorflow:Assets written to: drive/My Drive/picard_lstm/picard_model_2-001-2.6420/assets\n"
          ],
          "name": "stdout"
        },
        {
          "output_type": "stream",
          "text": [
            "INFO:tensorflow:Assets written to: drive/My Drive/picard_lstm/picard_model_2-001-2.6420/assets\n"
          ],
          "name": "stderr"
        },
        {
          "output_type": "stream",
          "text": [
            "Epoch 2/200\n",
            "1062/1062 [==============================] - 181s 170ms/step - loss: 2.2678 - accuracy: 0.3629\n",
            "\n",
            "----- Generating text after Epoch: 1\n",
            "----- Generating with seed: \"d of any changes, no matter how small.Ca\" /n\n",
            "d of any changes, no matter how small.Cand ou'de wastifren hasunitarg ohicustont cantrind ho mie Bonns it ik toe    \n",
            "----- Generating with seed: d of any changes, no matter how small.Ca /n\n",
            "d of any changes, no matter how small.Cantertinsing the t                                                                                                                                                                                                                                                                                 \n",
            "\n",
            "Epoch 00002: saving model to drive/My Drive/picard_lstm/picard_model_2-002-2.2678\n"
          ],
          "name": "stdout"
        },
        {
          "output_type": "stream",
          "text": [
            "WARNING:absl:Found untraced functions such as lstm_cell_layer_call_fn, lstm_cell_layer_call_and_return_conditional_losses, lstm_cell_1_layer_call_fn, lstm_cell_1_layer_call_and_return_conditional_losses, lstm_cell_layer_call_fn while saving (showing 5 of 10). These functions will not be directly callable after loading.\n"
          ],
          "name": "stderr"
        },
        {
          "output_type": "stream",
          "text": [
            "INFO:tensorflow:Assets written to: drive/My Drive/picard_lstm/picard_model_2-002-2.2678/assets\n"
          ],
          "name": "stdout"
        },
        {
          "output_type": "stream",
          "text": [
            "INFO:tensorflow:Assets written to: drive/My Drive/picard_lstm/picard_model_2-002-2.2678/assets\n"
          ],
          "name": "stderr"
        },
        {
          "output_type": "stream",
          "text": [
            "Epoch 3/200\n",
            "1062/1062 [==============================] - 180s 169ms/step - loss: 2.2013 - accuracy: 0.3788\n",
            "\n",
            "----- Generating text after Epoch: 2\n",
            "----- Generating with seed: \"an prayer stick. It's really quite rare.\" /n\n",
            "an prayer stick. It's really quite rare. wod yeoeKtteeinge ooeenedelo satoyban sersory sonaet enevey oy toe mesceteribae soleise on aeetweor aooe. Wreldenegerictadaon endereanaedeoloione t heemaseelneta.casase ooe  nis ioeiweett ou mipegales're yooet cyyleasit one yooreling teegeegiseutere m Agemetase iningedime tee treamion koe\n",
            "----- Generating with seed: an prayer stick. It's really quite rare. /n\n",
            "an prayer stick. It's really quite rare. Waoo core onse teion? Wolors on core oud ouee teeeeone coregese ooo oot peeslet coe toe feretrer on a toes oou ou tee counsee the ooulte oooe tee the an oor ooe anespere, ane couneios aremesset, enaea. iot ooe anise ooe ouus toeastele soun counsion are ou eeese etense. Woioy ine ooe coude\n",
            "\n",
            "Epoch 00003: saving model to drive/My Drive/picard_lstm/picard_model_2-003-2.2013\n"
          ],
          "name": "stdout"
        },
        {
          "output_type": "stream",
          "text": [
            "WARNING:absl:Found untraced functions such as lstm_cell_layer_call_fn, lstm_cell_layer_call_and_return_conditional_losses, lstm_cell_1_layer_call_fn, lstm_cell_1_layer_call_and_return_conditional_losses, lstm_cell_layer_call_fn while saving (showing 5 of 10). These functions will not be directly callable after loading.\n"
          ],
          "name": "stderr"
        },
        {
          "output_type": "stream",
          "text": [
            "INFO:tensorflow:Assets written to: drive/My Drive/picard_lstm/picard_model_2-003-2.2013/assets\n"
          ],
          "name": "stdout"
        },
        {
          "output_type": "stream",
          "text": [
            "INFO:tensorflow:Assets written to: drive/My Drive/picard_lstm/picard_model_2-003-2.2013/assets\n"
          ],
          "name": "stderr"
        },
        {
          "output_type": "stream",
          "text": [
            "Epoch 4/200\n",
            "1062/1062 [==============================] - 178s 168ms/step - loss: 2.1397 - accuracy: 0.3979\n",
            "\n",
            "----- Generating text after Epoch: 3\n",
            "----- Generating with seed: \"on.Briam has supervised a reproduction o\" /n\n",
            "on.Briam has supervised a reproduction om the Lacte all disane vastion I assey ou boper a ffer e sine fud, cacbiud as sue? The Coptuer Geseathand .  a    \n",
            "----- Generating with seed: on.Briam has supervised a reproduction o /n\n",
            "on.Briam has supervised a reproduction out are the ter hing a ant a suthing the sastarr al a sapstar tres the Dataas the ke set se endy the wata ate the the has teet the  avata dease sas the teestion aset and our the same as the was a salg ot amsive wis ard a to the sattand in a deme rres bur the alcouts ent out out ater the has\n",
            "\n",
            "Epoch 00004: saving model to drive/My Drive/picard_lstm/picard_model_2-004-2.1397\n"
          ],
          "name": "stdout"
        },
        {
          "output_type": "stream",
          "text": [
            "WARNING:absl:Found untraced functions such as lstm_cell_layer_call_fn, lstm_cell_layer_call_and_return_conditional_losses, lstm_cell_1_layer_call_fn, lstm_cell_1_layer_call_and_return_conditional_losses, lstm_cell_layer_call_fn while saving (showing 5 of 10). These functions will not be directly callable after loading.\n"
          ],
          "name": "stderr"
        },
        {
          "output_type": "stream",
          "text": [
            "INFO:tensorflow:Assets written to: drive/My Drive/picard_lstm/picard_model_2-004-2.1397/assets\n"
          ],
          "name": "stdout"
        },
        {
          "output_type": "stream",
          "text": [
            "INFO:tensorflow:Assets written to: drive/My Drive/picard_lstm/picard_model_2-004-2.1397/assets\n"
          ],
          "name": "stderr"
        },
        {
          "output_type": "stream",
          "text": [
            "Epoch 5/200\n",
            "1062/1062 [==============================] - 178s 168ms/step - loss: 2.0395 - accuracy: 0.4204\n",
            "\n",
            "----- Generating text after Epoch: 4\n",
            "----- Generating with seed: \"in playback from the first measure.Compu\" /n\n",
            "in playback from the first measure.Compunser Worm Curper.    \n",
            "----- Generating with seed: in playback from the first measure.Compu /n\n",
            "in playback from the first measure.Compuring the the the presite the anderserity the                                                                                                                                                                                                                                                      \n",
            "\n",
            "Epoch 00005: saving model to drive/My Drive/picard_lstm/picard_model_2-005-2.0395\n"
          ],
          "name": "stdout"
        },
        {
          "output_type": "stream",
          "text": [
            "WARNING:absl:Found untraced functions such as lstm_cell_layer_call_fn, lstm_cell_layer_call_and_return_conditional_losses, lstm_cell_1_layer_call_fn, lstm_cell_1_layer_call_and_return_conditional_losses, lstm_cell_layer_call_fn while saving (showing 5 of 10). These functions will not be directly callable after loading.\n"
          ],
          "name": "stderr"
        },
        {
          "output_type": "stream",
          "text": [
            "INFO:tensorflow:Assets written to: drive/My Drive/picard_lstm/picard_model_2-005-2.0395/assets\n"
          ],
          "name": "stdout"
        },
        {
          "output_type": "stream",
          "text": [
            "INFO:tensorflow:Assets written to: drive/My Drive/picard_lstm/picard_model_2-005-2.0395/assets\n"
          ],
          "name": "stderr"
        },
        {
          "output_type": "stream",
          "text": [
            "Epoch 6/200\n",
            "1062/1062 [==============================] - 176s 166ms/step - loss: 1.9602 - accuracy: 0.4421\n",
            "\n",
            "----- Generating text after Epoch: 5\n",
            "----- Generating with seed: \"e, let's go to our next job.Hmm? What? O\" /n\n",
            "e, let's go to our next job.Hmm? What? One thath inferstty Ond irfent wrangoudightiof by commyl to His to louns the wrinsting. I den the alopde. Dittor Wry. I ghe the koce and a cavientert as oferthesnprovastion. Ond e torragady you to wis mopest.    \n",
            "----- Generating with seed: e, let's go to our next job.Hmm? What? O /n\n",
            "e, let's go to our next job.Hmm? What? On the santers the ware the storfer the to the the strarter a a dreepinge sithen the restorting the repert for compule of thas amranstarote                                                                                                                                                        \n",
            "\n",
            "Epoch 00006: saving model to drive/My Drive/picard_lstm/picard_model_2-006-1.9602\n"
          ],
          "name": "stdout"
        },
        {
          "output_type": "stream",
          "text": [
            "WARNING:absl:Found untraced functions such as lstm_cell_layer_call_fn, lstm_cell_layer_call_and_return_conditional_losses, lstm_cell_1_layer_call_fn, lstm_cell_1_layer_call_and_return_conditional_losses, lstm_cell_layer_call_fn while saving (showing 5 of 10). These functions will not be directly callable after loading.\n"
          ],
          "name": "stderr"
        },
        {
          "output_type": "stream",
          "text": [
            "INFO:tensorflow:Assets written to: drive/My Drive/picard_lstm/picard_model_2-006-1.9602/assets\n"
          ],
          "name": "stdout"
        },
        {
          "output_type": "stream",
          "text": [
            "INFO:tensorflow:Assets written to: drive/My Drive/picard_lstm/picard_model_2-006-1.9602/assets\n"
          ],
          "name": "stderr"
        },
        {
          "output_type": "stream",
          "text": [
            "Epoch 7/200\n",
            "1062/1062 [==============================] - 177s 167ms/step - loss: 1.9137 - accuracy: 0.4498\n",
            "\n",
            "----- Generating text after Epoch: 6\n",
            "----- Generating with seed: \" my Number One.That's what I always call\" /n\n",
            " my Number One.That's what I always call reefinition a bet cemst?    \n",
            "----- Generating with seed:  my Number One.That's what I always call /n\n",
            " my Number One.That's what I always call out the a the completing and for a fago the antreent are the has the taintulast his to has a pome the hasser the creve thip the canterer a for contanaring for hes the conterpretion the haspare ererening the forstion dinerst exertort of and arky cerporigh the conperter come their the Bond \n",
            "\n",
            "Epoch 00007: saving model to drive/My Drive/picard_lstm/picard_model_2-007-1.9137\n"
          ],
          "name": "stdout"
        },
        {
          "output_type": "stream",
          "text": [
            "WARNING:absl:Found untraced functions such as lstm_cell_layer_call_fn, lstm_cell_layer_call_and_return_conditional_losses, lstm_cell_1_layer_call_fn, lstm_cell_1_layer_call_and_return_conditional_losses, lstm_cell_layer_call_fn while saving (showing 5 of 10). These functions will not be directly callable after loading.\n"
          ],
          "name": "stderr"
        },
        {
          "output_type": "stream",
          "text": [
            "INFO:tensorflow:Assets written to: drive/My Drive/picard_lstm/picard_model_2-007-1.9137/assets\n"
          ],
          "name": "stdout"
        },
        {
          "output_type": "stream",
          "text": [
            "INFO:tensorflow:Assets written to: drive/My Drive/picard_lstm/picard_model_2-007-1.9137/assets\n"
          ],
          "name": "stderr"
        },
        {
          "output_type": "stream",
          "text": [
            "Epoch 8/200\n",
            "1062/1062 [==============================] - 176s 165ms/step - loss: 1.8537 - accuracy: 0.4664\n",
            "\n",
            "----- Generating text after Epoch: 7\n",
            "----- Generating with seed: \" new heading two nine nine mark zero two\" /n\n",
            " new heading two nine nine mark zero two the sofmiped you then if has oee for for tredenn a have transtlr aval a courtions of the seat. Het awa with bus nis wave ald for thoir plinew wo mantserpilible has seateandssuttber you more abour regalization whe hundses.    \n",
            "----- Generating with seed:  new heading two nine nine mark zero two /n\n",
            " new heading two nine nine mark zero two the elamion the pevart somition.                                                                                                                                                                                                                                                                 \n",
            "\n",
            "Epoch 00008: saving model to drive/My Drive/picard_lstm/picard_model_2-008-1.8537\n"
          ],
          "name": "stdout"
        },
        {
          "output_type": "stream",
          "text": [
            "WARNING:absl:Found untraced functions such as lstm_cell_layer_call_fn, lstm_cell_layer_call_and_return_conditional_losses, lstm_cell_1_layer_call_fn, lstm_cell_1_layer_call_and_return_conditional_losses, lstm_cell_layer_call_fn while saving (showing 5 of 10). These functions will not be directly callable after loading.\n"
          ],
          "name": "stderr"
        },
        {
          "output_type": "stream",
          "text": [
            "INFO:tensorflow:Assets written to: drive/My Drive/picard_lstm/picard_model_2-008-1.8537/assets\n"
          ],
          "name": "stdout"
        },
        {
          "output_type": "stream",
          "text": [
            "INFO:tensorflow:Assets written to: drive/My Drive/picard_lstm/picard_model_2-008-1.8537/assets\n"
          ],
          "name": "stderr"
        },
        {
          "output_type": "stream",
          "text": [
            "Epoch 9/200\n",
            "1062/1062 [==============================] - 176s 165ms/step - loss: 1.8144 - accuracy: 0.4743\n",
            "\n",
            "----- Generating text after Epoch: 8\n",
            "----- Generating with seed: \" I know. But I wanted to go riding, but \" /n\n",
            " I know. But I wanted to go riding, but with a proquessicg about, anw premerity. Dita. He tristercy to enilatill quators are totistore, Dorscomclice commander Dileh. The Stormise commandering to a wiytad. I dound. Tho a cantions you defedings id five cill the wattice thouFe.    \n",
            "----- Generating with seed:  I know. But I wanted to go riding, but  /n\n",
            " I know. But I wanted to go riding, but the seadle.                                                                                                                                                                                                                                                                                       \n",
            "\n",
            "Epoch 00009: saving model to drive/My Drive/picard_lstm/picard_model_2-009-1.8144\n"
          ],
          "name": "stdout"
        },
        {
          "output_type": "stream",
          "text": [
            "WARNING:absl:Found untraced functions such as lstm_cell_layer_call_fn, lstm_cell_layer_call_and_return_conditional_losses, lstm_cell_1_layer_call_fn, lstm_cell_1_layer_call_and_return_conditional_losses, lstm_cell_layer_call_fn while saving (showing 5 of 10). These functions will not be directly callable after loading.\n"
          ],
          "name": "stderr"
        },
        {
          "output_type": "stream",
          "text": [
            "INFO:tensorflow:Assets written to: drive/My Drive/picard_lstm/picard_model_2-009-1.8144/assets\n"
          ],
          "name": "stdout"
        },
        {
          "output_type": "stream",
          "text": [
            "INFO:tensorflow:Assets written to: drive/My Drive/picard_lstm/picard_model_2-009-1.8144/assets\n"
          ],
          "name": "stderr"
        },
        {
          "output_type": "stream",
          "text": [
            "Epoch 10/200\n",
            "1062/1062 [==============================] - 176s 166ms/step - loss: 1.7673 - accuracy: 0.4870\n",
            "\n",
            "----- Generating text after Epoch: 9\n",
            "----- Generating with seed: \"ean-Luc Picard of the Federation Starshi\" /n\n",
            "ean-Luc Picard of the Federation Starship hupe Anothicd a suutstand af the USS Samure ty. Kive the possifiols herp. And Counserer Wallian, Commander Rikel.    \n",
            "----- Generating with seed: ean-Luc Picard of the Federation Starshi /n\n",
            "ean-Luc Picard of the Federation Starship the presiporing have and sayt ship. You the tally the USS Enterprise has pocition.                                                                                                                                                                                                              \n",
            "\n",
            "Epoch 00010: saving model to drive/My Drive/picard_lstm/picard_model_2-010-1.7673\n"
          ],
          "name": "stdout"
        },
        {
          "output_type": "stream",
          "text": [
            "WARNING:absl:Found untraced functions such as lstm_cell_layer_call_fn, lstm_cell_layer_call_and_return_conditional_losses, lstm_cell_1_layer_call_fn, lstm_cell_1_layer_call_and_return_conditional_losses, lstm_cell_layer_call_fn while saving (showing 5 of 10). These functions will not be directly callable after loading.\n"
          ],
          "name": "stderr"
        },
        {
          "output_type": "stream",
          "text": [
            "INFO:tensorflow:Assets written to: drive/My Drive/picard_lstm/picard_model_2-010-1.7673/assets\n"
          ],
          "name": "stdout"
        },
        {
          "output_type": "stream",
          "text": [
            "INFO:tensorflow:Assets written to: drive/My Drive/picard_lstm/picard_model_2-010-1.7673/assets\n"
          ],
          "name": "stderr"
        },
        {
          "output_type": "stream",
          "text": [
            "Epoch 11/200\n",
            "1062/1062 [==============================] - 177s 167ms/step - loss: 1.7282 - accuracy: 0.4999\n",
            "\n",
            "----- Generating text after Epoch: 10\n",
            "----- Generating with seed: \"was reading. Why do you ask?Run a locali\" /n\n",
            "was reading. Why do you ask?Run a localing to the Blidge a trassip?    \n",
            "----- Generating with seed: was reading. Why do you ask?Run a locali /n\n",
            "was reading. Why do you ask?Run a localing the Enterprise has simpar cealing in command prane obthout be some evering a mession sampoce. One about Starfleet Sarfaoit.                                                                                                                                                                    \n",
            "\n",
            "Epoch 00011: saving model to drive/My Drive/picard_lstm/picard_model_2-011-1.7282\n"
          ],
          "name": "stdout"
        },
        {
          "output_type": "stream",
          "text": [
            "WARNING:absl:Found untraced functions such as lstm_cell_layer_call_fn, lstm_cell_layer_call_and_return_conditional_losses, lstm_cell_1_layer_call_fn, lstm_cell_1_layer_call_and_return_conditional_losses, lstm_cell_layer_call_fn while saving (showing 5 of 10). These functions will not be directly callable after loading.\n"
          ],
          "name": "stderr"
        },
        {
          "output_type": "stream",
          "text": [
            "INFO:tensorflow:Assets written to: drive/My Drive/picard_lstm/picard_model_2-011-1.7282/assets\n"
          ],
          "name": "stdout"
        },
        {
          "output_type": "stream",
          "text": [
            "INFO:tensorflow:Assets written to: drive/My Drive/picard_lstm/picard_model_2-011-1.7282/assets\n"
          ],
          "name": "stderr"
        },
        {
          "output_type": "stream",
          "text": [
            "Epoch 12/200\n",
            "1062/1062 [==============================] - 176s 165ms/step - loss: 1.6984 - accuracy: 0.5031\n",
            "\n",
            "----- Generating text after Epoch: 11\n",
            "----- Generating with seed: \"'t miss this for the world. How old are \" /n\n",
            "'t miss this for the world. How old are erventing not theirifented the all entenienary traesporter inversed and rigat yransyou it ever. Geing the care with the ribuk the certain. Misten Data, Data, Worforsed. Bet her a can't peovece it, row, out his you huve a deaine ofthere. Par the comuniany. Hot you have  this has sittallen y\n",
            "----- Generating with seed: 't miss this for the world. How old are  /n\n",
            "'t miss this for the world. How old are the the has to saptange this it the grueture at ofethe simting communcral entered a sere the serface lader a stield we the pititions out serper for three the coarse and the ship, we hand the enterent into this you want thet you have a that you actifel to to have a that the coneered the fur\n",
            "\n",
            "Epoch 00012: saving model to drive/My Drive/picard_lstm/picard_model_2-012-1.6984\n"
          ],
          "name": "stdout"
        },
        {
          "output_type": "stream",
          "text": [
            "WARNING:absl:Found untraced functions such as lstm_cell_layer_call_fn, lstm_cell_layer_call_and_return_conditional_losses, lstm_cell_1_layer_call_fn, lstm_cell_1_layer_call_and_return_conditional_losses, lstm_cell_layer_call_fn while saving (showing 5 of 10). These functions will not be directly callable after loading.\n"
          ],
          "name": "stderr"
        },
        {
          "output_type": "stream",
          "text": [
            "INFO:tensorflow:Assets written to: drive/My Drive/picard_lstm/picard_model_2-012-1.6984/assets\n"
          ],
          "name": "stdout"
        },
        {
          "output_type": "stream",
          "text": [
            "INFO:tensorflow:Assets written to: drive/My Drive/picard_lstm/picard_model_2-012-1.6984/assets\n"
          ],
          "name": "stderr"
        },
        {
          "output_type": "stream",
          "text": [
            "Epoch 13/200\n",
            "1062/1062 [==============================] - 177s 166ms/step - loss: 1.6686 - accuracy: 0.5144\n",
            "\n",
            "----- Generating text after Epoch: 12\n",
            "----- Generating with seed: \"o. Engage.Drop to impulse. Take us in, E\" /n\n",
            "o. Engage.Drop to impulse. Take us in, Entercrise has lyoring? Wi hould a coren they'll crurter affor line risto ens Mifter Data our anything. Icwould the sure acn I tomething Reas. Plout reforse ourself. Dasybarl the nothing I why any sani it.    \n",
            "----- Generating with seed: o. Engage.Drop to impulse. Take us in, E /n\n",
            "o. Engage.Drop to impulse. Take us in, Enterprise has the ship. One you and boass now to sheed the shrugh and to some outhour seash. Palas our preser a cercaine to the shap, I was a fail for a shaple and a langer and a saven a shap, I sheuld for a beal course the samathed.                                                         \n",
            "\n",
            "Epoch 00013: saving model to drive/My Drive/picard_lstm/picard_model_2-013-1.6686\n"
          ],
          "name": "stdout"
        },
        {
          "output_type": "stream",
          "text": [
            "WARNING:absl:Found untraced functions such as lstm_cell_layer_call_fn, lstm_cell_layer_call_and_return_conditional_losses, lstm_cell_1_layer_call_fn, lstm_cell_1_layer_call_and_return_conditional_losses, lstm_cell_layer_call_fn while saving (showing 5 of 10). These functions will not be directly callable after loading.\n"
          ],
          "name": "stderr"
        },
        {
          "output_type": "stream",
          "text": [
            "INFO:tensorflow:Assets written to: drive/My Drive/picard_lstm/picard_model_2-013-1.6686/assets\n"
          ],
          "name": "stdout"
        },
        {
          "output_type": "stream",
          "text": [
            "INFO:tensorflow:Assets written to: drive/My Drive/picard_lstm/picard_model_2-013-1.6686/assets\n"
          ],
          "name": "stderr"
        },
        {
          "output_type": "stream",
          "text": [
            "Epoch 14/200\n",
            "1062/1062 [==============================] - 177s 166ms/step - loss: 1.6395 - accuracy: 0.5235\n",
            "\n",
            "----- Generating text after Epoch: 13\n",
            "----- Generating with seed: \"during an intelligence sweep.What do you\" /n\n",
            "during an intelligence sweep.What do you ageing with you all untermeting, DoA sounding be toas plonacion soondenge and undermation his a tain  Ammander Riker Womf, the Vecting  In    \n",
            "----- Generating with seed: during an intelligence sweep.What do you /n\n",
            "during an intelligence sweep.What do you are dine contors contil an of the ship and Which and a sere. I wan min a mined.                                                                                                                                                                                                                  \n",
            "\n",
            "Epoch 00014: saving model to drive/My Drive/picard_lstm/picard_model_2-014-1.6395\n"
          ],
          "name": "stdout"
        },
        {
          "output_type": "stream",
          "text": [
            "WARNING:absl:Found untraced functions such as lstm_cell_layer_call_fn, lstm_cell_layer_call_and_return_conditional_losses, lstm_cell_1_layer_call_fn, lstm_cell_1_layer_call_and_return_conditional_losses, lstm_cell_layer_call_fn while saving (showing 5 of 10). These functions will not be directly callable after loading.\n"
          ],
          "name": "stderr"
        },
        {
          "output_type": "stream",
          "text": [
            "INFO:tensorflow:Assets written to: drive/My Drive/picard_lstm/picard_model_2-014-1.6395/assets\n"
          ],
          "name": "stdout"
        },
        {
          "output_type": "stream",
          "text": [
            "INFO:tensorflow:Assets written to: drive/My Drive/picard_lstm/picard_model_2-014-1.6395/assets\n"
          ],
          "name": "stderr"
        },
        {
          "output_type": "stream",
          "text": [
            "Epoch 15/200\n",
            "1062/1062 [==============================] - 178s 168ms/step - loss: 1.6078 - accuracy: 0.5276\n",
            "\n",
            "----- Generating text after Epoch: 14\n",
            "----- Generating with seed: \"'s log, stardate 45020.4. We have arrive\" /n\n",
            "'s log, stardate 45020.4. We have arrive and furle in oud dest of three course in now one this ard cersh woth the geto you the griftal without shoith hand. The Aswald. Gecare are new inouthin. I've shute coufden Arvall could constescize of the Janiner, Disturface. Commander. Scargrands. And the Klact on the achinl ceuned is's ar\n",
            "----- Generating with seed: 's log, stardate 45020.4. We have arrive /n\n",
            "'s log, stardate 45020.4. We have arrive interved in impacil to the cogrander Riker. I'm for the sheuling the Nuutral Zone, and mear of the Enterprise has the humpees for the Enterprise has secuace interferent the stalling the repurtion a look is of the Axaraning and some three the one the save the Pecard, and his alway. Ond our\n",
            "\n",
            "Epoch 00015: saving model to drive/My Drive/picard_lstm/picard_model_2-015-1.6078\n"
          ],
          "name": "stdout"
        },
        {
          "output_type": "stream",
          "text": [
            "WARNING:absl:Found untraced functions such as lstm_cell_layer_call_fn, lstm_cell_layer_call_and_return_conditional_losses, lstm_cell_1_layer_call_fn, lstm_cell_1_layer_call_and_return_conditional_losses, lstm_cell_layer_call_fn while saving (showing 5 of 10). These functions will not be directly callable after loading.\n"
          ],
          "name": "stderr"
        },
        {
          "output_type": "stream",
          "text": [
            "INFO:tensorflow:Assets written to: drive/My Drive/picard_lstm/picard_model_2-015-1.6078/assets\n"
          ],
          "name": "stdout"
        },
        {
          "output_type": "stream",
          "text": [
            "INFO:tensorflow:Assets written to: drive/My Drive/picard_lstm/picard_model_2-015-1.6078/assets\n"
          ],
          "name": "stderr"
        },
        {
          "output_type": "stream",
          "text": [
            "Epoch 16/200\n",
            "1062/1062 [==============================] - 178s 168ms/step - loss: 1.5801 - accuracy: 0.5370\n",
            "\n",
            "----- Generating text after Epoch: 15\n",
            "----- Generating with seed: \" news.That would be like striking a spar\" /n\n",
            " news.That would be like striking a spartly yourbeave lot Qenly?    \n",
            "----- Generating with seed:  news.That would be like striking a spar /n\n",
            " news.That would be like striking a sparation.                                                                                                                                                                                                                                                                                            \n",
            "\n",
            "Epoch 00016: saving model to drive/My Drive/picard_lstm/picard_model_2-016-1.5801\n"
          ],
          "name": "stdout"
        },
        {
          "output_type": "stream",
          "text": [
            "WARNING:absl:Found untraced functions such as lstm_cell_layer_call_fn, lstm_cell_layer_call_and_return_conditional_losses, lstm_cell_1_layer_call_fn, lstm_cell_1_layer_call_and_return_conditional_losses, lstm_cell_layer_call_fn while saving (showing 5 of 10). These functions will not be directly callable after loading.\n"
          ],
          "name": "stderr"
        },
        {
          "output_type": "stream",
          "text": [
            "INFO:tensorflow:Assets written to: drive/My Drive/picard_lstm/picard_model_2-016-1.5801/assets\n"
          ],
          "name": "stdout"
        },
        {
          "output_type": "stream",
          "text": [
            "INFO:tensorflow:Assets written to: drive/My Drive/picard_lstm/picard_model_2-016-1.5801/assets\n"
          ],
          "name": "stderr"
        },
        {
          "output_type": "stream",
          "text": [
            "Epoch 17/200\n",
            "1062/1062 [==============================] - 179s 168ms/step - loss: 1.5636 - accuracy: 0.5402\n",
            "\n",
            "----- Generating text after Epoch: 16\n",
            "----- Generating with seed: \" we are now returning to Starbase with t\" /n\n",
            " we are now returning to Starbase with the Neutral Zone, Data.    \n",
            "----- Generating with seed:  we are now returning to Starbase with t /n\n",
            " we are now returning to Starbase with the pessible the Argandan sure to sourd list the ship.                                                                                                                                                                                                                                             \n",
            "\n",
            "Epoch 00017: saving model to drive/My Drive/picard_lstm/picard_model_2-017-1.5636\n"
          ],
          "name": "stdout"
        },
        {
          "output_type": "stream",
          "text": [
            "WARNING:absl:Found untraced functions such as lstm_cell_layer_call_fn, lstm_cell_layer_call_and_return_conditional_losses, lstm_cell_1_layer_call_fn, lstm_cell_1_layer_call_and_return_conditional_losses, lstm_cell_layer_call_fn while saving (showing 5 of 10). These functions will not be directly callable after loading.\n"
          ],
          "name": "stderr"
        },
        {
          "output_type": "stream",
          "text": [
            "INFO:tensorflow:Assets written to: drive/My Drive/picard_lstm/picard_model_2-017-1.5636/assets\n"
          ],
          "name": "stdout"
        },
        {
          "output_type": "stream",
          "text": [
            "INFO:tensorflow:Assets written to: drive/My Drive/picard_lstm/picard_model_2-017-1.5636/assets\n"
          ],
          "name": "stderr"
        },
        {
          "output_type": "stream",
          "text": [
            "Epoch 18/200\n",
            "1062/1062 [==============================] - 178s 168ms/step - loss: 1.5433 - accuracy: 0.5448\n",
            "\n",
            "----- Generating text after Epoch: 17\n",
            "----- Generating with seed: \"la Scott. It's said you made Captain fas\" /n\n",
            "la Scott. It's said you made Captain fastlint twree vanted whis are proodentions ter Gidictive the satter commander. The oquarter, and traansporter Sata. Deadenad. The shappeni    \n",
            "----- Generating with seed: la Scott. It's said you made Captain fas /n\n",
            "la Scott. It's said you made Captain fast inderpated the peritions our serning the careing a reading and the Federation Starfleet starting of the responsibll to you may the ship.                                                                                                                                                        \n",
            "\n",
            "Epoch 00018: saving model to drive/My Drive/picard_lstm/picard_model_2-018-1.5433\n"
          ],
          "name": "stdout"
        },
        {
          "output_type": "stream",
          "text": [
            "WARNING:absl:Found untraced functions such as lstm_cell_layer_call_fn, lstm_cell_layer_call_and_return_conditional_losses, lstm_cell_1_layer_call_fn, lstm_cell_1_layer_call_and_return_conditional_losses, lstm_cell_layer_call_fn while saving (showing 5 of 10). These functions will not be directly callable after loading.\n"
          ],
          "name": "stderr"
        },
        {
          "output_type": "stream",
          "text": [
            "INFO:tensorflow:Assets written to: drive/My Drive/picard_lstm/picard_model_2-018-1.5433/assets\n"
          ],
          "name": "stdout"
        },
        {
          "output_type": "stream",
          "text": [
            "INFO:tensorflow:Assets written to: drive/My Drive/picard_lstm/picard_model_2-018-1.5433/assets\n"
          ],
          "name": "stderr"
        },
        {
          "output_type": "stream",
          "text": [
            "Epoch 19/200\n",
            "1062/1062 [==============================] - 179s 169ms/step - loss: 1.5256 - accuracy: 0.5501\n",
            "\n",
            "----- Generating text after Epoch: 18\n",
            "----- Generating with seed: \"us, point-blank range.It must have been \" /n\n",
            "us, point-blank range.It must have been the sate think. I expect the plose at apperinge to to sessors owt are pless our possible confiniend. They're a rieved.    \n",
            "----- Generating with seed: us, point-blank range.It must have been  /n\n",
            "us, point-blank range.It must have been intervedeting you the something our were the corrination. The alievent the Enterprise. We has a menories a relature the collder conrine. The teaming Doctor haspen stem. But the ose the sare and to could a siote the tronsporter. You re a possible too the completion. The redervors could, a n\n",
            "\n",
            "Epoch 00019: saving model to drive/My Drive/picard_lstm/picard_model_2-019-1.5256\n"
          ],
          "name": "stdout"
        },
        {
          "output_type": "stream",
          "text": [
            "WARNING:absl:Found untraced functions such as lstm_cell_layer_call_fn, lstm_cell_layer_call_and_return_conditional_losses, lstm_cell_1_layer_call_fn, lstm_cell_1_layer_call_and_return_conditional_losses, lstm_cell_layer_call_fn while saving (showing 5 of 10). These functions will not be directly callable after loading.\n"
          ],
          "name": "stderr"
        },
        {
          "output_type": "stream",
          "text": [
            "INFO:tensorflow:Assets written to: drive/My Drive/picard_lstm/picard_model_2-019-1.5256/assets\n"
          ],
          "name": "stdout"
        },
        {
          "output_type": "stream",
          "text": [
            "INFO:tensorflow:Assets written to: drive/My Drive/picard_lstm/picard_model_2-019-1.5256/assets\n"
          ],
          "name": "stderr"
        },
        {
          "output_type": "stream",
          "text": [
            "Epoch 20/200\n",
            "1062/1062 [==============================] - 180s 169ms/step - loss: 1.5101 - accuracy: 0.5539\n",
            "\n",
            "----- Generating text after Epoch: 19\n",
            "----- Generating with seed: \"your researches indicate a thousand adju\" /n\n",
            "your researches indicate a thousand adjutsion lyst me the hycer of in the perhapping ip. I'm be poiim alwinormand and nanea the Federation The seration dignal contion. What's parentarion. Wo'll pussions the telding the Bralgel. You shand was do your befouilt with your hands back. I condady. The Serent ancention. Ondition shap al\n",
            "----- Generating with seed: your researches indicate a thousand adju /n\n",
            "your researches indicate a thousand adjuration and possible a dine the Bridge. You can which the starely. Mister Worf, and I would all provide in the sturfleet has the Enterprise has enteresting with imporing of the ship. I want the reverting the ship back and the pessible in our happened the Bridge, Commander Riker. We'll ampor\n",
            "\n",
            "Epoch 00020: saving model to drive/My Drive/picard_lstm/picard_model_2-020-1.5101\n"
          ],
          "name": "stdout"
        },
        {
          "output_type": "stream",
          "text": [
            "WARNING:absl:Found untraced functions such as lstm_cell_layer_call_fn, lstm_cell_layer_call_and_return_conditional_losses, lstm_cell_1_layer_call_fn, lstm_cell_1_layer_call_and_return_conditional_losses, lstm_cell_layer_call_fn while saving (showing 5 of 10). These functions will not be directly callable after loading.\n"
          ],
          "name": "stderr"
        },
        {
          "output_type": "stream",
          "text": [
            "INFO:tensorflow:Assets written to: drive/My Drive/picard_lstm/picard_model_2-020-1.5101/assets\n"
          ],
          "name": "stdout"
        },
        {
          "output_type": "stream",
          "text": [
            "INFO:tensorflow:Assets written to: drive/My Drive/picard_lstm/picard_model_2-020-1.5101/assets\n"
          ],
          "name": "stderr"
        },
        {
          "output_type": "stream",
          "text": [
            "Epoch 21/200\n",
            "1062/1062 [==============================] - 178s 168ms/step - loss: 1.4897 - accuracy: 0.5592\n",
            "\n",
            "----- Generating text after Epoch: 20\n",
            "----- Generating with seed: \".No further questions.I believe my assoc\" /n\n",
            ".No further questions.I believe my assoce of her pactod oor before this enteres. The possibly commandersRiker, and the Enterprise. Daskss any Wransporter wast you've brifeted. Doctor Crusher has cath his on here, hould be officer Riter. You than't have didsibiation freough abuts Number One. They're a reteing your programmonatowi\n",
            "----- Generating with seed: .No further questions.I believe my assoc /n\n",
            ".No further questions.I believe my assock ou this crifer fourt. I want have the Midter Data, I have contine and problem the confirect this and seat you all not mine be able the profession course for the serfore counselor are in possible the Bridge. The anterms stant your fearnd from the Enterprise has enication tham the intervis\n",
            "\n",
            "Epoch 00021: saving model to drive/My Drive/picard_lstm/picard_model_2-021-1.4897\n"
          ],
          "name": "stdout"
        },
        {
          "output_type": "stream",
          "text": [
            "WARNING:absl:Found untraced functions such as lstm_cell_layer_call_fn, lstm_cell_layer_call_and_return_conditional_losses, lstm_cell_1_layer_call_fn, lstm_cell_1_layer_call_and_return_conditional_losses, lstm_cell_layer_call_fn while saving (showing 5 of 10). These functions will not be directly callable after loading.\n"
          ],
          "name": "stderr"
        },
        {
          "output_type": "stream",
          "text": [
            "INFO:tensorflow:Assets written to: drive/My Drive/picard_lstm/picard_model_2-021-1.4897/assets\n"
          ],
          "name": "stdout"
        },
        {
          "output_type": "stream",
          "text": [
            "INFO:tensorflow:Assets written to: drive/My Drive/picard_lstm/picard_model_2-021-1.4897/assets\n"
          ],
          "name": "stderr"
        },
        {
          "output_type": "stream",
          "text": [
            "Epoch 22/200\n",
            "1062/1062 [==============================] - 179s 169ms/step - loss: 1.4740 - accuracy: 0.5635\n",
            "\n",
            "----- Generating text after Epoch: 21\n",
            "----- Generating with seed: \"to provide whatever service you require.\" /n\n",
            "to provide whatever service you require. The Neutral Zone, I'm intered an the Federation Starfleet? Commander, a was devition. I don't think and bon't was a signelil, and Commander Riker. The Jorgh Mister Worf, and Starvened three to yerr awon has them. Theil treanty for quick the procerions of form. I'm gridications about that \n",
            "----- Generating with seed: to provide whatever service you require. /n\n",
            "to provide whatever service you require. If's confiring your peaned light the Neutral Zone. Incommand the corfice the poterence? The Neutral Zone. I'm affect intent to the Foderation cargutation. The exectrantedes, and the tractor Borg. The way you hore a decurice. You are plesed of the Enterprise has amplese restared the shuttl\n",
            "\n",
            "Epoch 00022: saving model to drive/My Drive/picard_lstm/picard_model_2-022-1.4740\n"
          ],
          "name": "stdout"
        },
        {
          "output_type": "stream",
          "text": [
            "WARNING:absl:Found untraced functions such as lstm_cell_layer_call_fn, lstm_cell_layer_call_and_return_conditional_losses, lstm_cell_1_layer_call_fn, lstm_cell_1_layer_call_and_return_conditional_losses, lstm_cell_layer_call_fn while saving (showing 5 of 10). These functions will not be directly callable after loading.\n"
          ],
          "name": "stderr"
        },
        {
          "output_type": "stream",
          "text": [
            "INFO:tensorflow:Assets written to: drive/My Drive/picard_lstm/picard_model_2-022-1.4740/assets\n"
          ],
          "name": "stdout"
        },
        {
          "output_type": "stream",
          "text": [
            "INFO:tensorflow:Assets written to: drive/My Drive/picard_lstm/picard_model_2-022-1.4740/assets\n"
          ],
          "name": "stderr"
        },
        {
          "output_type": "stream",
          "text": [
            "Epoch 23/200\n",
            "1062/1062 [==============================] - 176s 166ms/step - loss: 1.4554 - accuracy: 0.5673\n",
            "\n",
            "----- Generating text after Epoch: 22\n",
            "----- Generating with seed: \"t Yar, escort the prisoners to the Trans\" /n\n",
            "t Yar, escort the prisoners to the Transmorter Crusher. You would nompleterate. We'll not you to the believe thetselw thet?    \n",
            "----- Generating with seed: t Yar, escort the prisoners to the Trans /n\n",
            "t Yar, escort the prisoners to the Transporter, a dreats of the corration. I shall the Enterprise has cere the sorribe a way a which of starship. I'm sexpend to starfleet has beam nate the own officers the Borg. Head a seats a feal for a seats of the Enterprise has enserstand un here. I den't go the surface was a may the Enterpr\n",
            "\n",
            "Epoch 00023: saving model to drive/My Drive/picard_lstm/picard_model_2-023-1.4554\n"
          ],
          "name": "stdout"
        },
        {
          "output_type": "stream",
          "text": [
            "WARNING:absl:Found untraced functions such as lstm_cell_layer_call_fn, lstm_cell_layer_call_and_return_conditional_losses, lstm_cell_1_layer_call_fn, lstm_cell_1_layer_call_and_return_conditional_losses, lstm_cell_layer_call_fn while saving (showing 5 of 10). These functions will not be directly callable after loading.\n"
          ],
          "name": "stderr"
        },
        {
          "output_type": "stream",
          "text": [
            "INFO:tensorflow:Assets written to: drive/My Drive/picard_lstm/picard_model_2-023-1.4554/assets\n"
          ],
          "name": "stdout"
        },
        {
          "output_type": "stream",
          "text": [
            "INFO:tensorflow:Assets written to: drive/My Drive/picard_lstm/picard_model_2-023-1.4554/assets\n"
          ],
          "name": "stderr"
        },
        {
          "output_type": "stream",
          "text": [
            "Epoch 24/200\n",
            "1062/1062 [==============================] - 176s 166ms/step - loss: 1.4319 - accuracy: 0.5752\n",
            "\n",
            "----- Generating text after Epoch: 23\n",
            "----- Generating with seed: \"at I can do to assist.That is beyond my \" /n\n",
            "at I can do to assist.That is beyond my peliberity. But need the ommander. I'd heyong I gas the planet, amything Do you agoing would beaming your pecple ederyon one cargion him system. That tryin access how example your mofing this provese course Menocius sull. How houve the sendezvous with the seuppoe.    \n",
            "----- Generating with seed: at I can do to assist.That is beyond my  /n\n",
            "at I can do to assist.That is beyond my peaseres. I resong in the destroy insific on someone that the stynd the ship. The oroy, but Mester Data. The ship and sere the way you again. I had you think you conving a responsible the ship the Arbission with wowr served you to this consible not inserved be all mens me. The ship are the\n",
            "\n",
            "Epoch 00024: saving model to drive/My Drive/picard_lstm/picard_model_2-024-1.4319\n"
          ],
          "name": "stdout"
        },
        {
          "output_type": "stream",
          "text": [
            "WARNING:absl:Found untraced functions such as lstm_cell_layer_call_fn, lstm_cell_layer_call_and_return_conditional_losses, lstm_cell_1_layer_call_fn, lstm_cell_1_layer_call_and_return_conditional_losses, lstm_cell_layer_call_fn while saving (showing 5 of 10). These functions will not be directly callable after loading.\n"
          ],
          "name": "stderr"
        },
        {
          "output_type": "stream",
          "text": [
            "INFO:tensorflow:Assets written to: drive/My Drive/picard_lstm/picard_model_2-024-1.4319/assets\n"
          ],
          "name": "stdout"
        },
        {
          "output_type": "stream",
          "text": [
            "INFO:tensorflow:Assets written to: drive/My Drive/picard_lstm/picard_model_2-024-1.4319/assets\n"
          ],
          "name": "stderr"
        },
        {
          "output_type": "stream",
          "text": [
            "Epoch 25/200\n",
            "1062/1062 [==============================] - 176s 165ms/step - loss: 1.4292 - accuracy: 0.5750\n",
            "\n",
            "----- Generating text after Epoch: 24\n",
            "----- Generating with seed: \"me in, please.Yes, Data. What is it?Yes.\" /n\n",
            "me in, please.Yes, Data. What is it?Yes. arl we non't muct the rejucmed, Mister Data. Puecosse, but they deefinations deatured for not impostting his consurers, Number One. Mester Data. Wesley to thatisege in mothing that you lecses of the ship, Soll?    \n",
            "----- Generating with seed: me in, please.Yes, Data. What is it?Yes. /n\n",
            "me in, please.Yes, Data. What is it?Yes. The shuttle the ship. I shall lest and they have a peocession. And the care the Neutral Zone. Will a saved any the Aster the Bridge. Mister Worf. I shall toudy the Federation Starfleet some sestroy the Neutral Zone, and secury to staiching the a tanision the Pecher and the Arbit to the Ne\n",
            "\n",
            "Epoch 00025: saving model to drive/My Drive/picard_lstm/picard_model_2-025-1.4292\n"
          ],
          "name": "stdout"
        },
        {
          "output_type": "stream",
          "text": [
            "WARNING:absl:Found untraced functions such as lstm_cell_layer_call_fn, lstm_cell_layer_call_and_return_conditional_losses, lstm_cell_1_layer_call_fn, lstm_cell_1_layer_call_and_return_conditional_losses, lstm_cell_layer_call_fn while saving (showing 5 of 10). These functions will not be directly callable after loading.\n"
          ],
          "name": "stderr"
        },
        {
          "output_type": "stream",
          "text": [
            "INFO:tensorflow:Assets written to: drive/My Drive/picard_lstm/picard_model_2-025-1.4292/assets\n"
          ],
          "name": "stdout"
        },
        {
          "output_type": "stream",
          "text": [
            "INFO:tensorflow:Assets written to: drive/My Drive/picard_lstm/picard_model_2-025-1.4292/assets\n"
          ],
          "name": "stderr"
        },
        {
          "output_type": "stream",
          "text": [
            "Epoch 26/200\n",
            "1062/1062 [==============================] - 176s 166ms/step - loss: 1.4218 - accuracy: 0.5781\n",
            "\n",
            "----- Generating text after Epoch: 25\n",
            "----- Generating with seed: \"emesis. Whatever this symbol represents,\" /n\n",
            "emesis. Whatever this symbol represents, Jalling the ship, creating a thinnsulation course for a profectulity, it's hay you are soliennelis. I want the confinial contrulla is misinice besise three three incone, and this's enterest, with you. The ship the Enterprise has are was fiouting tame, I would nee you are interferter, but \n",
            "----- Generating with seed: emesis. Whatever this symbol represents, /n\n",
            "emesis. Whatever this symbol represents, Number One. I con't cal you are possible this to anything, but I don't want thy a five difficult for a starfleet the power of the possible the Fololet rangs of the USS Enterprise has enterestar anything the mutual comet the ship, Mister Data. I shall allowed, and certain the example the e\n",
            "\n",
            "Epoch 00026: saving model to drive/My Drive/picard_lstm/picard_model_2-026-1.4218\n"
          ],
          "name": "stdout"
        },
        {
          "output_type": "stream",
          "text": [
            "WARNING:absl:Found untraced functions such as lstm_cell_layer_call_fn, lstm_cell_layer_call_and_return_conditional_losses, lstm_cell_1_layer_call_fn, lstm_cell_1_layer_call_and_return_conditional_losses, lstm_cell_layer_call_fn while saving (showing 5 of 10). These functions will not be directly callable after loading.\n"
          ],
          "name": "stderr"
        },
        {
          "output_type": "stream",
          "text": [
            "INFO:tensorflow:Assets written to: drive/My Drive/picard_lstm/picard_model_2-026-1.4218/assets\n"
          ],
          "name": "stdout"
        },
        {
          "output_type": "stream",
          "text": [
            "INFO:tensorflow:Assets written to: drive/My Drive/picard_lstm/picard_model_2-026-1.4218/assets\n"
          ],
          "name": "stderr"
        },
        {
          "output_type": "stream",
          "text": [
            "Epoch 27/200\n",
            "1062/1062 [==============================] - 176s 166ms/step - loss: 1.4058 - accuracy: 0.5793\n",
            "\n",
            "----- Generating text after Epoch: 26\n",
            "----- Generating with seed: \"fficer, and a young woman of remarkable \" /n\n",
            "fficer, and a young woman of remarkable ronner of the Federations I'm preptn indone trictor. But ship for anythecifieity. Mister Worf. I'm sime it's recommundn th ngenees after any his order shepe firit and cleat, Geceuter inside the Ansirect, and 21Cnn which arl to saurn transporter carce indites. We have seventhink that you th\n",
            "----- Generating with seed: fficer, and a young woman of remarkable  /n\n",
            "fficer, and a young woman of remarkable until the course commander Riker. Counselor Riker. I'm Captain time, I am, ship three the transporter room Riker. Mister Data, how hould agnered from help for a who have the Enterprise. What is's ship the Bridge and course to have need be sourse the interfere it. Captain, the happyned a wa\n",
            "\n",
            "Epoch 00027: saving model to drive/My Drive/picard_lstm/picard_model_2-027-1.4058\n"
          ],
          "name": "stdout"
        },
        {
          "output_type": "stream",
          "text": [
            "WARNING:absl:Found untraced functions such as lstm_cell_layer_call_fn, lstm_cell_layer_call_and_return_conditional_losses, lstm_cell_1_layer_call_fn, lstm_cell_1_layer_call_and_return_conditional_losses, lstm_cell_layer_call_fn while saving (showing 5 of 10). These functions will not be directly callable after loading.\n"
          ],
          "name": "stderr"
        },
        {
          "output_type": "stream",
          "text": [
            "INFO:tensorflow:Assets written to: drive/My Drive/picard_lstm/picard_model_2-027-1.4058/assets\n"
          ],
          "name": "stdout"
        },
        {
          "output_type": "stream",
          "text": [
            "INFO:tensorflow:Assets written to: drive/My Drive/picard_lstm/picard_model_2-027-1.4058/assets\n"
          ],
          "name": "stderr"
        },
        {
          "output_type": "stream",
          "text": [
            "Epoch 28/200\n",
            "1062/1062 [==============================] - 178s 168ms/step - loss: 1.3892 - accuracy: 0.5856\n",
            "\n",
            "----- Generating text after Epoch: 27\n",
            "----- Generating with seed: \"eally am too busy for this kind of nonse\" /n\n",
            "eally am too busy for this kind of nonse. What happened, atten your teas more and to hiptul would you bring, their myveling courselor systems. Ond here five a rived happen, as in may  immander Siscann, But I tan't I can't gritg the Transporter Riker. Commander Riker. I'm thing nothing hand nestris the Doctor werf.. I you for the\n",
            "----- Generating with seed: eally am too busy for this kind of nonse /n\n",
            "eally am too busy for this kind of nonsered with the USS Enterprise has arerough the ship, in you shall thing how that in the Federation Starfleet Commander Riker? The Presentions out becomen in the Kains for do have uniral the Bridge, Lieutenant Data. I'm a sammand about neads the Federation Starfleet sprepared becound me that \n",
            "\n",
            "Epoch 00028: saving model to drive/My Drive/picard_lstm/picard_model_2-028-1.3892\n"
          ],
          "name": "stdout"
        },
        {
          "output_type": "stream",
          "text": [
            "WARNING:absl:Found untraced functions such as lstm_cell_layer_call_fn, lstm_cell_layer_call_and_return_conditional_losses, lstm_cell_1_layer_call_fn, lstm_cell_1_layer_call_and_return_conditional_losses, lstm_cell_layer_call_fn while saving (showing 5 of 10). These functions will not be directly callable after loading.\n"
          ],
          "name": "stderr"
        },
        {
          "output_type": "stream",
          "text": [
            "INFO:tensorflow:Assets written to: drive/My Drive/picard_lstm/picard_model_2-028-1.3892/assets\n"
          ],
          "name": "stdout"
        },
        {
          "output_type": "stream",
          "text": [
            "INFO:tensorflow:Assets written to: drive/My Drive/picard_lstm/picard_model_2-028-1.3892/assets\n"
          ],
          "name": "stderr"
        },
        {
          "output_type": "stream",
          "text": [
            "Epoch 29/200\n",
            "1062/1062 [==============================] - 177s 167ms/step - loss: 1.3827 - accuracy: 0.5875\n",
            "\n",
            "----- Generating text after Epoch: 28\n",
            "----- Generating with seed: \"o Commander Riker.Set a course for Seron\" /n\n",
            "o Commander Riker.Set a course for Seronation srove? Tell anything there you have nothing to stay you are orvers are we lat interplanet troint. In the placell crector. Huil we their foeds. I feed segnn, I fondre him obveration back oned chelked. I'm pregrt need some hundred and you shall tommander Riker? I's a consiver creating \n",
            "----- Generating with seed: o Commander Riker.Set a course for Seron /n\n",
            "o Commander Riker.Set a course for Serone and the Bridge, Starfleet Werf, you must anything the Federation Starfleet Commander Riker, I would get the Bridge, I want the conciding the concersation on the Prime Diccnsubilicg and transporter Riker. I should have a way all provence until before celling the USS Enterprise. and welr m\n",
            "\n",
            "Epoch 00029: saving model to drive/My Drive/picard_lstm/picard_model_2-029-1.3827\n"
          ],
          "name": "stdout"
        },
        {
          "output_type": "stream",
          "text": [
            "WARNING:absl:Found untraced functions such as lstm_cell_layer_call_fn, lstm_cell_layer_call_and_return_conditional_losses, lstm_cell_1_layer_call_fn, lstm_cell_1_layer_call_and_return_conditional_losses, lstm_cell_layer_call_fn while saving (showing 5 of 10). These functions will not be directly callable after loading.\n"
          ],
          "name": "stderr"
        },
        {
          "output_type": "stream",
          "text": [
            "INFO:tensorflow:Assets written to: drive/My Drive/picard_lstm/picard_model_2-029-1.3827/assets\n"
          ],
          "name": "stdout"
        },
        {
          "output_type": "stream",
          "text": [
            "INFO:tensorflow:Assets written to: drive/My Drive/picard_lstm/picard_model_2-029-1.3827/assets\n"
          ],
          "name": "stderr"
        },
        {
          "output_type": "stream",
          "text": [
            "Epoch 30/200\n",
            "1062/1062 [==============================] - 177s 166ms/step - loss: 1.3772 - accuracy: 0.5895\n",
            "\n",
            "----- Generating text after Epoch: 29\n",
            "----- Generating with seed: \"ossibility.Perhaps it would help if you \" /n\n",
            "ossibility.Perhaps it would help if you would get here. Ins the possible Ambassador visse on his transporter. I'm a wayt it's prove bick ins communication the Ambassador and Micker, moneth, would going the Beidge, stand? How think you can peramon here, meaine, it? a jeageranle, you would allow alway how the Sorieg some way. I me\n",
            "----- Generating with seed: ossibility.Perhaps it would help if you  /n\n",
            "ossibility.Perhaps it would help if you again?                                                                                                                                                                                                                                                                                            \n",
            "\n",
            "Epoch 00030: saving model to drive/My Drive/picard_lstm/picard_model_2-030-1.3772\n"
          ],
          "name": "stdout"
        },
        {
          "output_type": "stream",
          "text": [
            "WARNING:absl:Found untraced functions such as lstm_cell_layer_call_fn, lstm_cell_layer_call_and_return_conditional_losses, lstm_cell_1_layer_call_fn, lstm_cell_1_layer_call_and_return_conditional_losses, lstm_cell_layer_call_fn while saving (showing 5 of 10). These functions will not be directly callable after loading.\n"
          ],
          "name": "stderr"
        },
        {
          "output_type": "stream",
          "text": [
            "INFO:tensorflow:Assets written to: drive/My Drive/picard_lstm/picard_model_2-030-1.3772/assets\n"
          ],
          "name": "stdout"
        },
        {
          "output_type": "stream",
          "text": [
            "INFO:tensorflow:Assets written to: drive/My Drive/picard_lstm/picard_model_2-030-1.3772/assets\n"
          ],
          "name": "stderr"
        },
        {
          "output_type": "stream",
          "text": [
            "Epoch 31/200\n",
            "1062/1062 [==============================] - 177s 167ms/step - loss: 1.3536 - accuracy: 0.5960\n",
            "\n",
            "----- Generating text after Epoch: 30\n",
            "----- Generating with seed: \"tem?We have to. If we don't seal that ho\" /n\n",
            "tem?We have to. If we don't seal that homething thing. We is hour. Vigne whe 's a beim besy. Counselor? You would have before    \n",
            "----- Generating with seed: tem?We have to. If we don't seal that ho /n\n",
            "tem?We have to. If we don't seal that how tho allow the ship and for the ship. The recersions of the Neutral Zone. In you again? How a misting this antersation before there's happened. I had a way to stay your surveming the Borg. I momaly the company anything and I could ation the same seimatic the Kignt assement. Hear was a sea\n",
            "\n",
            "Epoch 00031: saving model to drive/My Drive/picard_lstm/picard_model_2-031-1.3536\n"
          ],
          "name": "stdout"
        },
        {
          "output_type": "stream",
          "text": [
            "WARNING:absl:Found untraced functions such as lstm_cell_layer_call_fn, lstm_cell_layer_call_and_return_conditional_losses, lstm_cell_1_layer_call_fn, lstm_cell_1_layer_call_and_return_conditional_losses, lstm_cell_layer_call_fn while saving (showing 5 of 10). These functions will not be directly callable after loading.\n"
          ],
          "name": "stderr"
        },
        {
          "output_type": "stream",
          "text": [
            "INFO:tensorflow:Assets written to: drive/My Drive/picard_lstm/picard_model_2-031-1.3536/assets\n"
          ],
          "name": "stdout"
        },
        {
          "output_type": "stream",
          "text": [
            "INFO:tensorflow:Assets written to: drive/My Drive/picard_lstm/picard_model_2-031-1.3536/assets\n"
          ],
          "name": "stderr"
        },
        {
          "output_type": "stream",
          "text": [
            "Epoch 32/200\n",
            "1062/1062 [==============================] - 178s 168ms/step - loss: 1.3520 - accuracy: 0.5954\n",
            "\n",
            "----- Generating text after Epoch: 31\n",
            "----- Generating with seed: \"fter they return. How can I ask them to \" /n\n",
            "fter they return. How can I ask them to see Bocalar was ealive the minilation? You'll detigromy I'm long of the sono. Now! who are together a nay go. Cerrous. plogss on experimery our proved ad she formy them atwean  oters, proporimation. Someone The porse, Commander. a'm shet my peopoy in the Tyxamman cramicity has tarmon to be\n",
            "----- Generating with seed: fter they return. How can I ask them to  /n\n",
            "fter they return. How can I ask them to houed to anything.                                                                                                                                                                                                                                                                                \n",
            "\n",
            "Epoch 00032: saving model to drive/My Drive/picard_lstm/picard_model_2-032-1.3520\n"
          ],
          "name": "stdout"
        },
        {
          "output_type": "stream",
          "text": [
            "WARNING:absl:Found untraced functions such as lstm_cell_layer_call_fn, lstm_cell_layer_call_and_return_conditional_losses, lstm_cell_1_layer_call_fn, lstm_cell_1_layer_call_and_return_conditional_losses, lstm_cell_layer_call_fn while saving (showing 5 of 10). These functions will not be directly callable after loading.\n"
          ],
          "name": "stderr"
        },
        {
          "output_type": "stream",
          "text": [
            "INFO:tensorflow:Assets written to: drive/My Drive/picard_lstm/picard_model_2-032-1.3520/assets\n"
          ],
          "name": "stdout"
        },
        {
          "output_type": "stream",
          "text": [
            "INFO:tensorflow:Assets written to: drive/My Drive/picard_lstm/picard_model_2-032-1.3520/assets\n"
          ],
          "name": "stderr"
        },
        {
          "output_type": "stream",
          "text": [
            "Epoch 33/200\n",
            "1062/1062 [==============================] - 179s 169ms/step - loss: 1.3391 - accuracy: 0.5956\n",
            "\n",
            "----- Generating text after Epoch: 32\n",
            "----- Generating with seed: \"ictim at risk. I want every possible sec\" /n\n",
            "ictim at risk. I want every possible sector cramination was deadric broment. But I was anywhize allow him interstanding your tayt for a way be. I would be able may you. You mive a wealing teme one with three forthor a neady and not mething farm.    \n",
            "----- Generating with seed: ictim at risk. I want every possible sec /n\n",
            "ictim at risk. I want every possible security for your order and Cremition, not in orbitsion a completing the ship.                                                                                                                                                                                                                       \n",
            "\n",
            "Epoch 00033: saving model to drive/My Drive/picard_lstm/picard_model_2-033-1.3391\n"
          ],
          "name": "stdout"
        },
        {
          "output_type": "stream",
          "text": [
            "WARNING:absl:Found untraced functions such as lstm_cell_layer_call_fn, lstm_cell_layer_call_and_return_conditional_losses, lstm_cell_1_layer_call_fn, lstm_cell_1_layer_call_and_return_conditional_losses, lstm_cell_layer_call_fn while saving (showing 5 of 10). These functions will not be directly callable after loading.\n"
          ],
          "name": "stderr"
        },
        {
          "output_type": "stream",
          "text": [
            "INFO:tensorflow:Assets written to: drive/My Drive/picard_lstm/picard_model_2-033-1.3391/assets\n"
          ],
          "name": "stdout"
        },
        {
          "output_type": "stream",
          "text": [
            "INFO:tensorflow:Assets written to: drive/My Drive/picard_lstm/picard_model_2-033-1.3391/assets\n"
          ],
          "name": "stderr"
        },
        {
          "output_type": "stream",
          "text": [
            "Epoch 34/200\n",
            "1062/1062 [==============================] - 179s 169ms/step - loss: 1.3352 - accuracy: 0.5994\n",
            "\n",
            "----- Generating text after Epoch: 33\n",
            "----- Generating with seed: \"receiving this transmission, please resp\" /n\n",
            "receiving this transmission, please responsibility. Mister Worf?    \n",
            "----- Generating with seed: receiving this transmission, please resp /n\n",
            "receiving this transmission, please responsible the company.  there's entered and another contrulize channt the sorughted bated be ship. The servans and transport the Bridge, Commander Data. I'm Captain pelition. You would be needing the USS Enterprise. You would allow that you should about the Borg? Le'ce a sement that to take \n",
            "\n",
            "Epoch 00034: saving model to drive/My Drive/picard_lstm/picard_model_2-034-1.3352\n"
          ],
          "name": "stdout"
        },
        {
          "output_type": "stream",
          "text": [
            "WARNING:absl:Found untraced functions such as lstm_cell_layer_call_fn, lstm_cell_layer_call_and_return_conditional_losses, lstm_cell_1_layer_call_fn, lstm_cell_1_layer_call_and_return_conditional_losses, lstm_cell_layer_call_fn while saving (showing 5 of 10). These functions will not be directly callable after loading.\n"
          ],
          "name": "stderr"
        },
        {
          "output_type": "stream",
          "text": [
            "INFO:tensorflow:Assets written to: drive/My Drive/picard_lstm/picard_model_2-034-1.3352/assets\n"
          ],
          "name": "stdout"
        },
        {
          "output_type": "stream",
          "text": [
            "INFO:tensorflow:Assets written to: drive/My Drive/picard_lstm/picard_model_2-034-1.3352/assets\n"
          ],
          "name": "stderr"
        },
        {
          "output_type": "stream",
          "text": [
            "Epoch 35/200\n",
            "1062/1062 [==============================] - 176s 165ms/step - loss: 1.3222 - accuracy: 0.6009\n",
            "\n",
            "----- Generating text after Epoch: 34\n",
            "----- Generating with seed: \"like a reasonable course of action to yo\" /n\n",
            "like a reasonable course of action to you talk it, Adviral. Let's a baidle into the servive a not sumble becoupshor one way.    \n",
            "----- Generating with seed: like a reasonable course of action to yo /n\n",
            "like a reasonable course of action to your secuors. The fare the recorving the Neutral Zone, and nething to Q some help me the allist until the ship and transporter transporter room.                                                                                                                                                    \n",
            "\n",
            "Epoch 00035: saving model to drive/My Drive/picard_lstm/picard_model_2-035-1.3222\n"
          ],
          "name": "stdout"
        },
        {
          "output_type": "stream",
          "text": [
            "WARNING:absl:Found untraced functions such as lstm_cell_layer_call_fn, lstm_cell_layer_call_and_return_conditional_losses, lstm_cell_1_layer_call_fn, lstm_cell_1_layer_call_and_return_conditional_losses, lstm_cell_layer_call_fn while saving (showing 5 of 10). These functions will not be directly callable after loading.\n"
          ],
          "name": "stderr"
        },
        {
          "output_type": "stream",
          "text": [
            "INFO:tensorflow:Assets written to: drive/My Drive/picard_lstm/picard_model_2-035-1.3222/assets\n"
          ],
          "name": "stdout"
        },
        {
          "output_type": "stream",
          "text": [
            "INFO:tensorflow:Assets written to: drive/My Drive/picard_lstm/picard_model_2-035-1.3222/assets\n"
          ],
          "name": "stderr"
        },
        {
          "output_type": "stream",
          "text": [
            "Epoch 36/200\n",
            "1062/1062 [==============================] - 176s 166ms/step - loss: 1.3048 - accuracy: 0.6081\n",
            "\n",
            "----- Generating text after Epoch: 35\n",
            "----- Generating with seed: \"The Romulans could use this technology a\" /n\n",
            "The Romulans could use this technology and the Perhap vern thangcy time. Doctor Moseley has needs and the Enterprise has enterprise has been find appeancmer. Commander Wruch and I would niver take surface and you describy communication parcommonatic oppecience, and treced and cleasing possible rough. The hyden Wore. And I expect\n",
            "----- Generating with seed: The Romulans could use this technology a /n\n",
            "The Romulans could use this technology and sling the perion. The ship the ship and I want you are something the ship and transporter long. I'm a responsible information Starfleet that Let's program information firin what it's a minited changel. We're going was a course on the reason to the ship and I would gond the Enterprise ha\n",
            "\n",
            "Epoch 00036: saving model to drive/My Drive/picard_lstm/picard_model_2-036-1.3048\n"
          ],
          "name": "stdout"
        },
        {
          "output_type": "stream",
          "text": [
            "WARNING:absl:Found untraced functions such as lstm_cell_layer_call_fn, lstm_cell_layer_call_and_return_conditional_losses, lstm_cell_1_layer_call_fn, lstm_cell_1_layer_call_and_return_conditional_losses, lstm_cell_layer_call_fn while saving (showing 5 of 10). These functions will not be directly callable after loading.\n"
          ],
          "name": "stderr"
        },
        {
          "output_type": "stream",
          "text": [
            "INFO:tensorflow:Assets written to: drive/My Drive/picard_lstm/picard_model_2-036-1.3048/assets\n"
          ],
          "name": "stdout"
        },
        {
          "output_type": "stream",
          "text": [
            "INFO:tensorflow:Assets written to: drive/My Drive/picard_lstm/picard_model_2-036-1.3048/assets\n"
          ],
          "name": "stderr"
        },
        {
          "output_type": "stream",
          "text": [
            "Epoch 37/200\n",
            "1062/1062 [==============================] - 176s 166ms/step - loss: 1.3124 - accuracy: 0.6053\n",
            "\n",
            "----- Generating text after Epoch: 36\n",
            "----- Generating with seed: \"as, I was beginning to get used to heari\" /n\n",
            "as, I was beginning to get used to hearigh pranetions lanking the perimmations director discansibilisy these plaser our others and entrantigg has a vistive that any intod you would a pasition. I signal, could not needered sime you are sectured. that the osters? But you curding the transporter lock our cargard. Let's haspank bow \n",
            "----- Generating with seed: as, I was beginning to get used to heari /n\n",
            "as, I was beginning to get used to hearing the ship and the ship and clanet the ship and perhaps in the Enterprise has beck up on some hise the ship and I would seven years about the ship and itsepplation are perigestive the destroying the reading anyone here. I that you tere you anow the shattle intormather transporter room.   \n",
            "\n",
            "Epoch 00037: saving model to drive/My Drive/picard_lstm/picard_model_2-037-1.3124\n"
          ],
          "name": "stdout"
        },
        {
          "output_type": "stream",
          "text": [
            "WARNING:absl:Found untraced functions such as lstm_cell_layer_call_fn, lstm_cell_layer_call_and_return_conditional_losses, lstm_cell_1_layer_call_fn, lstm_cell_1_layer_call_and_return_conditional_losses, lstm_cell_layer_call_fn while saving (showing 5 of 10). These functions will not be directly callable after loading.\n"
          ],
          "name": "stderr"
        },
        {
          "output_type": "stream",
          "text": [
            "INFO:tensorflow:Assets written to: drive/My Drive/picard_lstm/picard_model_2-037-1.3124/assets\n"
          ],
          "name": "stdout"
        },
        {
          "output_type": "stream",
          "text": [
            "INFO:tensorflow:Assets written to: drive/My Drive/picard_lstm/picard_model_2-037-1.3124/assets\n"
          ],
          "name": "stderr"
        },
        {
          "output_type": "stream",
          "text": [
            "Epoch 38/200\n",
            "1062/1062 [==============================] - 176s 166ms/step - loss: 1.3032 - accuracy: 0.6065\n",
            "\n",
            "----- Generating text after Epoch: 37\n",
            "----- Generating with seed: \"ll be the first order of business tomorr\" /n\n",
            "ll be the first order of business tomorrested our shrumbing.    \n",
            "----- Generating with seed: ll be the first order of business tomorr /n\n",
            "ll be the first order of business tomorrect the Enterprise. What's sueceine the Bridge, Mister Worf. The explarations light the course for your beem need. But now the course the Neutral Zone. I'm Captain Zore were sectons and installing the selves are proved and think think there's entered. Mister Worf, euteren. Sharfleet secent\n",
            "\n",
            "Epoch 00038: saving model to drive/My Drive/picard_lstm/picard_model_2-038-1.3032\n"
          ],
          "name": "stdout"
        },
        {
          "output_type": "stream",
          "text": [
            "WARNING:absl:Found untraced functions such as lstm_cell_layer_call_fn, lstm_cell_layer_call_and_return_conditional_losses, lstm_cell_1_layer_call_fn, lstm_cell_1_layer_call_and_return_conditional_losses, lstm_cell_layer_call_fn while saving (showing 5 of 10). These functions will not be directly callable after loading.\n"
          ],
          "name": "stderr"
        },
        {
          "output_type": "stream",
          "text": [
            "INFO:tensorflow:Assets written to: drive/My Drive/picard_lstm/picard_model_2-038-1.3032/assets\n"
          ],
          "name": "stdout"
        },
        {
          "output_type": "stream",
          "text": [
            "INFO:tensorflow:Assets written to: drive/My Drive/picard_lstm/picard_model_2-038-1.3032/assets\n"
          ],
          "name": "stderr"
        },
        {
          "output_type": "stream",
          "text": [
            "Epoch 39/200\n",
            "1062/1062 [==============================] - 176s 166ms/step - loss: 1.2848 - accuracy: 0.6130\n",
            "\n",
            "----- Generating text after Epoch: 38\n",
            "----- Generating with seed: \" it?What are these?Why do you pack them?\" /n\n",
            " it?What are these?Why do you pack them?    \n",
            "----- Generating with seed:  it?What are these?Why do you pack them? /n\n",
            " it?What are these?Why do you pack them?                                                                                                                                                                                                                                                                                                  \n",
            "\n",
            "Epoch 00039: saving model to drive/My Drive/picard_lstm/picard_model_2-039-1.2848\n"
          ],
          "name": "stdout"
        },
        {
          "output_type": "stream",
          "text": [
            "WARNING:absl:Found untraced functions such as lstm_cell_layer_call_fn, lstm_cell_layer_call_and_return_conditional_losses, lstm_cell_1_layer_call_fn, lstm_cell_1_layer_call_and_return_conditional_losses, lstm_cell_layer_call_fn while saving (showing 5 of 10). These functions will not be directly callable after loading.\n"
          ],
          "name": "stderr"
        },
        {
          "output_type": "stream",
          "text": [
            "INFO:tensorflow:Assets written to: drive/My Drive/picard_lstm/picard_model_2-039-1.2848/assets\n"
          ],
          "name": "stdout"
        },
        {
          "output_type": "stream",
          "text": [
            "INFO:tensorflow:Assets written to: drive/My Drive/picard_lstm/picard_model_2-039-1.2848/assets\n"
          ],
          "name": "stderr"
        },
        {
          "output_type": "stream",
          "text": [
            "Epoch 40/200\n",
            "1062/1062 [==============================] - 178s 168ms/step - loss: 1.2768 - accuracy: 0.6124\n",
            "\n",
            "----- Generating text after Epoch: 39\n",
            "----- Generating with seed: \" distress signal from one of the Federat\" /n\n",
            " distress signal from one of the Federation Enterprise specific mission?    \n",
            "----- Generating with seed:  distress signal from one of the Federat /n\n",
            " distress signal from one of the Federation Starbate the Arbits are for meating anything. I don't want the Keing the ship and him arrivity that I want the ready with the ship, and cow  all not gried your boinkbow that vessel?                                                                                                         \n",
            "\n",
            "Epoch 00040: saving model to drive/My Drive/picard_lstm/picard_model_2-040-1.2768\n"
          ],
          "name": "stdout"
        },
        {
          "output_type": "stream",
          "text": [
            "WARNING:absl:Found untraced functions such as lstm_cell_layer_call_fn, lstm_cell_layer_call_and_return_conditional_losses, lstm_cell_1_layer_call_fn, lstm_cell_1_layer_call_and_return_conditional_losses, lstm_cell_layer_call_fn while saving (showing 5 of 10). These functions will not be directly callable after loading.\n"
          ],
          "name": "stderr"
        },
        {
          "output_type": "stream",
          "text": [
            "INFO:tensorflow:Assets written to: drive/My Drive/picard_lstm/picard_model_2-040-1.2768/assets\n"
          ],
          "name": "stdout"
        },
        {
          "output_type": "stream",
          "text": [
            "INFO:tensorflow:Assets written to: drive/My Drive/picard_lstm/picard_model_2-040-1.2768/assets\n"
          ],
          "name": "stderr"
        },
        {
          "output_type": "stream",
          "text": [
            "Epoch 41/200\n",
            "1062/1062 [==============================] - 180s 169ms/step - loss: 1.2785 - accuracy: 0.6127\n",
            "\n",
            "----- Generating text after Epoch: 40\n",
            "----- Generating with seed: \" anyone. We will proceed with our missio\" /n\n",
            " anyone. We will proceed with our mission. I din't back a company the Captain piaimation. Starvine is explon ng in the control be until fousides and this. I say you are they could liken years the detication  the ship. I'm geading the recious sprite interests and leading him a feasong can at will tell you are plenitions officer. \n",
            "----- Generating with seed:  anyone. We will proceed with our missio /n\n",
            " anyone. We will proceed with our missions and the Bridge, I don't want you to Starfleet veding Doty. Plly the readoned disponsible time commander Riker? Starfleet vessel. You are soursel a compleme communication  Mister Data has stated the conference, and I want the ship.                                                         \n",
            "\n",
            "Epoch 00041: saving model to drive/My Drive/picard_lstm/picard_model_2-041-1.2785\n"
          ],
          "name": "stdout"
        },
        {
          "output_type": "stream",
          "text": [
            "WARNING:absl:Found untraced functions such as lstm_cell_layer_call_fn, lstm_cell_layer_call_and_return_conditional_losses, lstm_cell_1_layer_call_fn, lstm_cell_1_layer_call_and_return_conditional_losses, lstm_cell_layer_call_fn while saving (showing 5 of 10). These functions will not be directly callable after loading.\n"
          ],
          "name": "stderr"
        },
        {
          "output_type": "stream",
          "text": [
            "INFO:tensorflow:Assets written to: drive/My Drive/picard_lstm/picard_model_2-041-1.2785/assets\n"
          ],
          "name": "stdout"
        },
        {
          "output_type": "stream",
          "text": [
            "INFO:tensorflow:Assets written to: drive/My Drive/picard_lstm/picard_model_2-041-1.2785/assets\n"
          ],
          "name": "stderr"
        },
        {
          "output_type": "stream",
          "text": [
            "Epoch 42/200\n",
            "1062/1062 [==============================] - 177s 167ms/step - loss: 1.2707 - accuracy: 0.6160\n",
            "\n",
            "----- Generating text after Epoch: 41\n",
            "----- Generating with seed: \"endez?The original Tarchannen disappeara\" /n\n",
            "endez?The original Tarchannen disappearable in inen a fusun has that you can a course for the Dusan of our intexptione chonging the nebulay sonet, I want you here, you amcose him you the Doliova, Commander, incirbend I don't wan  to the Federation Starship Enterprise. has are sense me, Huckn't every hending from, sponsers ambass\n",
            "----- Generating with seed: endez?The original Tarchannen disappeara /n\n",
            "endez?The original Tarchannen disappearatics without the shuttle for the Federation Starship Enterprise. Why are entered anything when you are plenition some transporter Riker. I'm not a course began destroying my people and unle us. The Federation Starship Enterprise has arspenish Docyou well the rendezvous which you are prepar\n",
            "\n",
            "Epoch 00042: saving model to drive/My Drive/picard_lstm/picard_model_2-042-1.2707\n"
          ],
          "name": "stdout"
        },
        {
          "output_type": "stream",
          "text": [
            "WARNING:absl:Found untraced functions such as lstm_cell_layer_call_fn, lstm_cell_layer_call_and_return_conditional_losses, lstm_cell_1_layer_call_fn, lstm_cell_1_layer_call_and_return_conditional_losses, lstm_cell_layer_call_fn while saving (showing 5 of 10). These functions will not be directly callable after loading.\n"
          ],
          "name": "stderr"
        },
        {
          "output_type": "stream",
          "text": [
            "INFO:tensorflow:Assets written to: drive/My Drive/picard_lstm/picard_model_2-042-1.2707/assets\n"
          ],
          "name": "stdout"
        },
        {
          "output_type": "stream",
          "text": [
            "INFO:tensorflow:Assets written to: drive/My Drive/picard_lstm/picard_model_2-042-1.2707/assets\n"
          ],
          "name": "stderr"
        },
        {
          "output_type": "stream",
          "text": [
            "Epoch 43/200\n",
            "1062/1062 [==============================] - 177s 167ms/step - loss: 1.2606 - accuracy: 0.6189\n",
            "\n",
            "----- Generating text after Epoch: 42\n",
            "----- Generating with seed: \"ly a matter of image.You sure?More like \" /n\n",
            "ly a matter of image.You sure?More like the lame supples. Dastor Loar't prenaming about the octulation. Number One. I shall be forfered yourself? The sourded?    \n",
            "----- Generating with seed: ly a matter of image.You sure?More like  /n\n",
            "ly a matter of image.You sure?More like anything. I would like that you are responsibility. Why are well for a mash survive the ready someone the Prime Discusstons experuession. They've still have a may sure the ship and way shat the Enterprise has arrive the enterprise, Master Worf, and the ship, and I want you work you decides\n",
            "\n",
            "Epoch 00043: saving model to drive/My Drive/picard_lstm/picard_model_2-043-1.2606\n"
          ],
          "name": "stdout"
        },
        {
          "output_type": "stream",
          "text": [
            "WARNING:absl:Found untraced functions such as lstm_cell_layer_call_fn, lstm_cell_layer_call_and_return_conditional_losses, lstm_cell_1_layer_call_fn, lstm_cell_1_layer_call_and_return_conditional_losses, lstm_cell_layer_call_fn while saving (showing 5 of 10). These functions will not be directly callable after loading.\n"
          ],
          "name": "stderr"
        },
        {
          "output_type": "stream",
          "text": [
            "INFO:tensorflow:Assets written to: drive/My Drive/picard_lstm/picard_model_2-043-1.2606/assets\n"
          ],
          "name": "stdout"
        },
        {
          "output_type": "stream",
          "text": [
            "INFO:tensorflow:Assets written to: drive/My Drive/picard_lstm/picard_model_2-043-1.2606/assets\n"
          ],
          "name": "stderr"
        },
        {
          "output_type": "stream",
          "text": [
            "Epoch 44/200\n",
            "1062/1062 [==============================] - 176s 166ms/step - loss: 1.2586 - accuracy: 0.6199\n",
            "\n",
            "----- Generating text after Epoch: 43\n",
            "----- Generating with seed: \"e to Romulan vessel. We are en route to \" /n\n",
            "e to Romulan vessel. We are en route to saves. I don't want to a scave. We're honding about mineorivenotis and make us out of the ymarshaps, but whe astarfleet Experting dispose us, coundeling make in vassed for 21d, immodiastelign. I lest are prepare toesly the Neutral Zone. I'm Captain Jingh Deachacal completing indicacted wit\n",
            "----- Generating with seed: e to Romulan vessel. We are en route to  /n\n",
            "e to Romulan vessel. We are en route to you                                                                                                                                                                                                                                                                                               \n",
            "\n",
            "Epoch 00044: saving model to drive/My Drive/picard_lstm/picard_model_2-044-1.2586\n"
          ],
          "name": "stdout"
        },
        {
          "output_type": "stream",
          "text": [
            "WARNING:absl:Found untraced functions such as lstm_cell_layer_call_fn, lstm_cell_layer_call_and_return_conditional_losses, lstm_cell_1_layer_call_fn, lstm_cell_1_layer_call_and_return_conditional_losses, lstm_cell_layer_call_fn while saving (showing 5 of 10). These functions will not be directly callable after loading.\n"
          ],
          "name": "stderr"
        },
        {
          "output_type": "stream",
          "text": [
            "INFO:tensorflow:Assets written to: drive/My Drive/picard_lstm/picard_model_2-044-1.2586/assets\n"
          ],
          "name": "stdout"
        },
        {
          "output_type": "stream",
          "text": [
            "INFO:tensorflow:Assets written to: drive/My Drive/picard_lstm/picard_model_2-044-1.2586/assets\n"
          ],
          "name": "stderr"
        },
        {
          "output_type": "stream",
          "text": [
            "Epoch 45/200\n",
            "1062/1062 [==============================] - 178s 167ms/step - loss: 1.2469 - accuracy: 0.6225\n",
            "\n",
            "----- Generating text after Epoch: 44\n",
            "----- Generating with seed: \"means.Asylum?We may have done too much t\" /n\n",
            "means.Asylum?We may have done too much the ship. I am. I've had you for a man. I'm than you want the ship. Mister Data. I'm Captain Spask Data, I don't want provon at this first. Doctor Moseley was hopen you a morsible to take in Engineering. Granker your quarters are possible in Engineering? Set for serround, you would all we m\n",
            "----- Generating with seed: means.Asylum?We may have done too much t /n\n",
            "means.Asylum?We may have done too much the ship. But we've happy the  have a read on the Enterprise. What's arereng the transporter was a way. I'm gave a way a massing the ship. Captain Jeama. You should conversation Starbase twasede? Some ring indication. I am probesivery your team. The ship. I conversation Starfleet Commander,\n",
            "\n",
            "Epoch 00045: saving model to drive/My Drive/picard_lstm/picard_model_2-045-1.2469\n"
          ],
          "name": "stdout"
        },
        {
          "output_type": "stream",
          "text": [
            "WARNING:absl:Found untraced functions such as lstm_cell_layer_call_fn, lstm_cell_layer_call_and_return_conditional_losses, lstm_cell_1_layer_call_fn, lstm_cell_1_layer_call_and_return_conditional_losses, lstm_cell_layer_call_fn while saving (showing 5 of 10). These functions will not be directly callable after loading.\n"
          ],
          "name": "stderr"
        },
        {
          "output_type": "stream",
          "text": [
            "INFO:tensorflow:Assets written to: drive/My Drive/picard_lstm/picard_model_2-045-1.2469/assets\n"
          ],
          "name": "stdout"
        },
        {
          "output_type": "stream",
          "text": [
            "INFO:tensorflow:Assets written to: drive/My Drive/picard_lstm/picard_model_2-045-1.2469/assets\n"
          ],
          "name": "stderr"
        },
        {
          "output_type": "stream",
          "text": [
            "Epoch 46/200\n",
            "1062/1062 [==============================] - 178s 167ms/step - loss: 1.2374 - accuracy: 0.6233\n",
            "\n",
            "----- Generating text after Epoch: 45\n",
            "----- Generating with seed: \" three one zero for a meeting with Fleet\" /n\n",
            " three one zero for a meeting with Fleet. Oten a unceeeific  Do you fonding the Samien. They'se hademan you are toim sen I saven't may have a mintted a lectors towaysed, you.  men I condence the hath back one requestions whe estebes the temperation beck some traenbord with her. I'm not you to accompany to you understand to one s\n",
            "----- Generating with seed:  three one zero for a meeting with Fleet /n\n",
            " three one zero for a meeting with Fleet eight canen a course of the destroyed, I don't wan the setention of the other quarters. Ond see you away. I would conversation the USS Enterprise. rein was responsible informed. Head, you would take to do the Bridge, Discurtand a cloaked. Bor the decides a diliture for a which prepare for\n",
            "\n",
            "Epoch 00046: saving model to drive/My Drive/picard_lstm/picard_model_2-046-1.2374\n"
          ],
          "name": "stdout"
        },
        {
          "output_type": "stream",
          "text": [
            "WARNING:absl:Found untraced functions such as lstm_cell_layer_call_fn, lstm_cell_layer_call_and_return_conditional_losses, lstm_cell_1_layer_call_fn, lstm_cell_1_layer_call_and_return_conditional_losses, lstm_cell_layer_call_fn while saving (showing 5 of 10). These functions will not be directly callable after loading.\n"
          ],
          "name": "stderr"
        },
        {
          "output_type": "stream",
          "text": [
            "INFO:tensorflow:Assets written to: drive/My Drive/picard_lstm/picard_model_2-046-1.2374/assets\n"
          ],
          "name": "stdout"
        },
        {
          "output_type": "stream",
          "text": [
            "INFO:tensorflow:Assets written to: drive/My Drive/picard_lstm/picard_model_2-046-1.2374/assets\n"
          ],
          "name": "stderr"
        },
        {
          "output_type": "stream",
          "text": [
            "Epoch 47/200\n",
            "1062/1062 [==============================] - 176s 166ms/step - loss: 1.2326 - accuracy: 0.6257\n",
            "\n",
            "----- Generating text after Epoch: 46\n",
            "----- Generating with seed: \"tted us to prove ourselves, eleven have \" /n\n",
            "tted us to prove ourselves, eleven have the Federation Starship Enterprise. We hadl newe. Picard not negn for make    \n",
            "----- Generating with seed: tted us to prove ourselves, eleven have  /n\n",
            "tted us to prove ourselves, eleven have been neffored to take a way. I had been himputing a clear convince introls for a which proposing to do home find a siftions latical consuder and not the surviving the vessel. You can a clear been not going about the outsions light there Riker. Docyou condiction to the Neutral Zone. In you \n",
            "\n",
            "Epoch 00047: saving model to drive/My Drive/picard_lstm/picard_model_2-047-1.2326\n"
          ],
          "name": "stdout"
        },
        {
          "output_type": "stream",
          "text": [
            "WARNING:absl:Found untraced functions such as lstm_cell_layer_call_fn, lstm_cell_layer_call_and_return_conditional_losses, lstm_cell_1_layer_call_fn, lstm_cell_1_layer_call_and_return_conditional_losses, lstm_cell_layer_call_fn while saving (showing 5 of 10). These functions will not be directly callable after loading.\n"
          ],
          "name": "stderr"
        },
        {
          "output_type": "stream",
          "text": [
            "INFO:tensorflow:Assets written to: drive/My Drive/picard_lstm/picard_model_2-047-1.2326/assets\n"
          ],
          "name": "stdout"
        },
        {
          "output_type": "stream",
          "text": [
            "INFO:tensorflow:Assets written to: drive/My Drive/picard_lstm/picard_model_2-047-1.2326/assets\n"
          ],
          "name": "stderr"
        },
        {
          "output_type": "stream",
          "text": [
            "Epoch 48/200\n",
            "1062/1062 [==============================] - 177s 167ms/step - loss: 1.2171 - accuracy: 0.6311\n",
            "\n",
            "----- Generating text after Epoch: 47\n",
            "----- Generating with seed: \"o trick us? Over here. I've asked the Co\" /n\n",
            "o trick us? Over here. I've asked the Commander Riker. I'm Rike the Federation Skless this communication with umpersarion. Transporter Riker? You would use to you as euttrieing you to our security that you mundred any traveling through of pulse for a which in in Ensign. But perhaps the fossible nfficors. The allays by outstern. \n",
            "----- Generating with seed: o trick us? Over here. I've asked the Co /n\n",
            "o trick us? Over here. I've asked the Commander Riker. Ind mee you those the self you the transporter Riker.  n the hould I sent all sime the answer with ut the ship three the Sare you are responsibility what's to stay furst. I con't still tell be a faill sensible ind confident him and the opsstions time. I have the exampler pos\n",
            "\n",
            "Epoch 00048: saving model to drive/My Drive/picard_lstm/picard_model_2-048-1.2171\n"
          ],
          "name": "stdout"
        },
        {
          "output_type": "stream",
          "text": [
            "WARNING:absl:Found untraced functions such as lstm_cell_layer_call_fn, lstm_cell_layer_call_and_return_conditional_losses, lstm_cell_1_layer_call_fn, lstm_cell_1_layer_call_and_return_conditional_losses, lstm_cell_layer_call_fn while saving (showing 5 of 10). These functions will not be directly callable after loading.\n"
          ],
          "name": "stderr"
        },
        {
          "output_type": "stream",
          "text": [
            "INFO:tensorflow:Assets written to: drive/My Drive/picard_lstm/picard_model_2-048-1.2171/assets\n"
          ],
          "name": "stdout"
        },
        {
          "output_type": "stream",
          "text": [
            "INFO:tensorflow:Assets written to: drive/My Drive/picard_lstm/picard_model_2-048-1.2171/assets\n"
          ],
          "name": "stderr"
        },
        {
          "output_type": "stream",
          "text": [
            "Epoch 49/200\n",
            "1062/1062 [==============================] - 176s 166ms/step - loss: 1.2195 - accuracy: 0.6301\n",
            "\n",
            "----- Generating text after Epoch: 48\n",
            "----- Generating with seed: \" our job to out-con the con artist.And i\" /n\n",
            " our job to out-con the con artist.And inl't sungoct. And you can a way its outsine about the Bridge. I'm regain beforithe Neutral Zone. I'm sor a wolling me? I shall get need to take one those ship. It's still relation that way the vaccived three, their shartle. I shand which us me doorghned that. I'gh you that think you tand h\n",
            "----- Generating with seed:  our job to out-con the con artist.And i /n\n",
            " our job to out-con the con artist.And intered, survive a vessed to starfail command that you are Bridge, Mister Data. I'm not going for a what you can mear before the park of the Bridge. Starfleet vessel. They've back to acceps thing here. The ship and our Saven Lan't think there's a way a way destroy of the Bridge, sting about\n",
            "\n",
            "Epoch 00049: saving model to drive/My Drive/picard_lstm/picard_model_2-049-1.2195\n"
          ],
          "name": "stdout"
        },
        {
          "output_type": "stream",
          "text": [
            "WARNING:absl:Found untraced functions such as lstm_cell_layer_call_fn, lstm_cell_layer_call_and_return_conditional_losses, lstm_cell_1_layer_call_fn, lstm_cell_1_layer_call_and_return_conditional_losses, lstm_cell_layer_call_fn while saving (showing 5 of 10). These functions will not be directly callable after loading.\n"
          ],
          "name": "stderr"
        },
        {
          "output_type": "stream",
          "text": [
            "INFO:tensorflow:Assets written to: drive/My Drive/picard_lstm/picard_model_2-049-1.2195/assets\n"
          ],
          "name": "stdout"
        },
        {
          "output_type": "stream",
          "text": [
            "INFO:tensorflow:Assets written to: drive/My Drive/picard_lstm/picard_model_2-049-1.2195/assets\n"
          ],
          "name": "stderr"
        },
        {
          "output_type": "stream",
          "text": [
            "Epoch 50/200\n",
            "1062/1062 [==============================] - 176s 165ms/step - loss: 1.2119 - accuracy: 0.6324\n",
            "\n",
            "----- Generating text after Epoch: 49\n",
            "----- Generating with seed: \"tlemen, your theories on this sudden vul\" /n\n",
            "tlemen, your theories on this sudden vulber was a myd possible towother becavion. It some thing this time hundred as intecks that I had you mucting all tompy. Whether a relation too possibility. The ally transporter sime the interious withdered in one in the shuttle's problem time. The conference wht any onommynd from Resple. Th\n",
            "----- Generating with seed: tlemen, your theories on this sudden vul /n\n",
            "tlemen, your theories on this sudden vulse interested our pelpoined the course for the Bridge, which is the ship and order. You make the two ship. The shiptate for the Enterprise has ardrocinations and sking the handled the dimense and prime the Bridge, whith you should killed the stipll Bridge. The Enterprise has destroyed save\n",
            "\n",
            "Epoch 00050: saving model to drive/My Drive/picard_lstm/picard_model_2-050-1.2119\n"
          ],
          "name": "stdout"
        },
        {
          "output_type": "stream",
          "text": [
            "WARNING:absl:Found untraced functions such as lstm_cell_layer_call_fn, lstm_cell_layer_call_and_return_conditional_losses, lstm_cell_1_layer_call_fn, lstm_cell_1_layer_call_and_return_conditional_losses, lstm_cell_layer_call_fn while saving (showing 5 of 10). These functions will not be directly callable after loading.\n"
          ],
          "name": "stderr"
        },
        {
          "output_type": "stream",
          "text": [
            "INFO:tensorflow:Assets written to: drive/My Drive/picard_lstm/picard_model_2-050-1.2119/assets\n"
          ],
          "name": "stdout"
        },
        {
          "output_type": "stream",
          "text": [
            "INFO:tensorflow:Assets written to: drive/My Drive/picard_lstm/picard_model_2-050-1.2119/assets\n"
          ],
          "name": "stderr"
        },
        {
          "output_type": "stream",
          "text": [
            "Epoch 51/200\n",
            "1062/1062 [==============================] - 176s 165ms/step - loss: 1.2116 - accuracy: 0.6316\n",
            "\n",
            "----- Generating text after Epoch: 50\n",
            "----- Generating with seed: \"build huts and, in time, to build ships \" /n\n",
            "build huts and, in time, to build ships and bone before. The dappase channel system. Well, fever forde. Head, it's someone we will ted end for your mother. Meady possibility. I actuse the attered the  twultrbes. But we're ready. Picard out, Irwant on here.    \n",
            "----- Generating with seed: build huts and, in time, to build ships  /n\n",
            "build huts and, in time, to build ships you muptine what you understand might a security that you would be obless and stictly areation three survive. I have a way the attersation and insorestace communication. There's everything you will computer. We should kileed it which of the Federation Starfleet Commander. I want to have a \n",
            "\n",
            "Epoch 00051: saving model to drive/My Drive/picard_lstm/picard_model_2-051-1.2116\n"
          ],
          "name": "stdout"
        },
        {
          "output_type": "stream",
          "text": [
            "WARNING:absl:Found untraced functions such as lstm_cell_layer_call_fn, lstm_cell_layer_call_and_return_conditional_losses, lstm_cell_1_layer_call_fn, lstm_cell_1_layer_call_and_return_conditional_losses, lstm_cell_layer_call_fn while saving (showing 5 of 10). These functions will not be directly callable after loading.\n"
          ],
          "name": "stderr"
        },
        {
          "output_type": "stream",
          "text": [
            "INFO:tensorflow:Assets written to: drive/My Drive/picard_lstm/picard_model_2-051-1.2116/assets\n"
          ],
          "name": "stdout"
        },
        {
          "output_type": "stream",
          "text": [
            "INFO:tensorflow:Assets written to: drive/My Drive/picard_lstm/picard_model_2-051-1.2116/assets\n"
          ],
          "name": "stderr"
        },
        {
          "output_type": "stream",
          "text": [
            "Epoch 52/200\n",
            "1062/1062 [==============================] - 177s 166ms/step - loss: 1.1934 - accuracy: 0.6359\n",
            "\n",
            "----- Generating text after Epoch: 51\n",
            "----- Generating with seed: \"ry, I cannot help you to make this decis\" /n\n",
            "ry, I cannot help you to make this decisions officers donition has together the dodetifise on chienter done. Pley for interested. Starfleet Commander Riker. Lit's a best to be. We had a fiviou with the transporter fore.    \n",
            "----- Generating with seed: ry, I cannot help you to make this decis /n\n",
            "ry, I cannot help you to make this decisions, and I had a bank of the powenty the recovery for the Neutral Zone, has a control course for the Enterprise. Where ship prime suppressed by the removemy, Doctor Crusher has the Enterprise. Welcould condinue provene out of the Neutral Zone. I'm Captain Jeliam Deanna                    \n",
            "\n",
            "Epoch 00052: saving model to drive/My Drive/picard_lstm/picard_model_2-052-1.1934\n"
          ],
          "name": "stdout"
        },
        {
          "output_type": "stream",
          "text": [
            "WARNING:absl:Found untraced functions such as lstm_cell_layer_call_fn, lstm_cell_layer_call_and_return_conditional_losses, lstm_cell_1_layer_call_fn, lstm_cell_1_layer_call_and_return_conditional_losses, lstm_cell_layer_call_fn while saving (showing 5 of 10). These functions will not be directly callable after loading.\n"
          ],
          "name": "stderr"
        },
        {
          "output_type": "stream",
          "text": [
            "INFO:tensorflow:Assets written to: drive/My Drive/picard_lstm/picard_model_2-052-1.1934/assets\n"
          ],
          "name": "stdout"
        },
        {
          "output_type": "stream",
          "text": [
            "INFO:tensorflow:Assets written to: drive/My Drive/picard_lstm/picard_model_2-052-1.1934/assets\n"
          ],
          "name": "stderr"
        },
        {
          "output_type": "stream",
          "text": [
            "Epoch 53/200\n",
            "1062/1062 [==============================] - 176s 166ms/step - loss: 1.2045 - accuracy: 0.6346\n",
            "\n",
            "----- Generating text after Epoch: 52\n",
            "----- Generating with seed: \"ity there?How can I help?And for that, y\" /n\n",
            "ity there?How can I help?And for that, you sta the servive your teles, but I wantianything about the Starship Enterprise, setting Daka. Ine's appersest mys  pmagutanted zore the Commander Riker. I'm Captain Vazcac Four. I'm getting ess and not long to logrtition. Cause portinual vessel. Boke the shuttled wate huppress that you a\n",
            "----- Generating with seed: ity there?How can I help?And for that, y /n\n",
            "ity there?How can I help?And for that, you huve you the ship are two chink about the Bridge. Insignific an your team without persore for you. Not you to a precent insistuded the starbase provent in the Captain porciend. Inshould kine you to have to do the Bridge?                                                                   \n",
            "\n",
            "Epoch 00053: saving model to drive/My Drive/picard_lstm/picard_model_2-053-1.2045\n"
          ],
          "name": "stdout"
        },
        {
          "output_type": "stream",
          "text": [
            "WARNING:absl:Found untraced functions such as lstm_cell_layer_call_fn, lstm_cell_layer_call_and_return_conditional_losses, lstm_cell_1_layer_call_fn, lstm_cell_1_layer_call_and_return_conditional_losses, lstm_cell_layer_call_fn while saving (showing 5 of 10). These functions will not be directly callable after loading.\n"
          ],
          "name": "stderr"
        },
        {
          "output_type": "stream",
          "text": [
            "INFO:tensorflow:Assets written to: drive/My Drive/picard_lstm/picard_model_2-053-1.2045/assets\n"
          ],
          "name": "stdout"
        },
        {
          "output_type": "stream",
          "text": [
            "INFO:tensorflow:Assets written to: drive/My Drive/picard_lstm/picard_model_2-053-1.2045/assets\n"
          ],
          "name": "stderr"
        },
        {
          "output_type": "stream",
          "text": [
            "Epoch 54/200\n",
            "1062/1062 [==============================] - 177s 167ms/step - loss: 1.1850 - accuracy: 0.6418\n",
            "\n",
            "----- Generating text after Epoch: 53\n",
            "----- Generating with seed: \"ram. Computer, exit.Number One, what is \" /n\n",
            "ram. Computer, exit.Number One, what is orbit him ship. And you murd Cowmander Riker?    \n",
            "----- Generating with seed: ram. Computer, exit.Number One, what is  /n\n",
            "ram. Computer, exit.Number One, what is itsime thing the rupture without situation was starfleet Captain Jean. Doctor Crusher has siets a certain go the Bridge, Misser Data. Lieutenant Worf, and so monitor his apperience, and I want you to a procestionally arrive a weapon. Why all we can't tell you are prepared to take a course \n",
            "\n",
            "Epoch 00054: saving model to drive/My Drive/picard_lstm/picard_model_2-054-1.1850\n"
          ],
          "name": "stdout"
        },
        {
          "output_type": "stream",
          "text": [
            "WARNING:absl:Found untraced functions such as lstm_cell_layer_call_fn, lstm_cell_layer_call_and_return_conditional_losses, lstm_cell_1_layer_call_fn, lstm_cell_1_layer_call_and_return_conditional_losses, lstm_cell_layer_call_fn while saving (showing 5 of 10). These functions will not be directly callable after loading.\n"
          ],
          "name": "stderr"
        },
        {
          "output_type": "stream",
          "text": [
            "INFO:tensorflow:Assets written to: drive/My Drive/picard_lstm/picard_model_2-054-1.1850/assets\n"
          ],
          "name": "stdout"
        },
        {
          "output_type": "stream",
          "text": [
            "INFO:tensorflow:Assets written to: drive/My Drive/picard_lstm/picard_model_2-054-1.1850/assets\n"
          ],
          "name": "stderr"
        },
        {
          "output_type": "stream",
          "text": [
            "Epoch 55/200\n",
            "1062/1062 [==============================] - 177s 167ms/step - loss: 1.1903 - accuracy: 0.6389\n",
            "\n",
            "----- Generating text after Epoch: 54\n",
            "----- Generating with seed: \".What's causing the interference?Are the\" /n\n",
            ".What's causing the interference?Are the transportir beck fields about it. We've reepance, shat you for the Kling to you. I can defact and spend mess gond the toreally planet in prevented and wrere traveuine mave canet anyone secured Counselor. Presens. I aske get un. Preserves from 2123. O3d I want the cray for beam. Mister Wor\n",
            "----- Generating with seed: .What's causing the interference?Are the /n\n",
            ".What's causing the interference?Are the opperation lafe through the ship. We've relay, arrive the permanent and fear have a course for the Federation Starfleet Captain USS Enterprise. What's the repert you want about the sersace through the Federation Starfleet vessel. Pecard to deck of the surface well to stay future? I think \n",
            "\n",
            "Epoch 00055: saving model to drive/My Drive/picard_lstm/picard_model_2-055-1.1903\n"
          ],
          "name": "stdout"
        },
        {
          "output_type": "stream",
          "text": [
            "WARNING:absl:Found untraced functions such as lstm_cell_layer_call_fn, lstm_cell_layer_call_and_return_conditional_losses, lstm_cell_1_layer_call_fn, lstm_cell_1_layer_call_and_return_conditional_losses, lstm_cell_layer_call_fn while saving (showing 5 of 10). These functions will not be directly callable after loading.\n"
          ],
          "name": "stderr"
        },
        {
          "output_type": "stream",
          "text": [
            "INFO:tensorflow:Assets written to: drive/My Drive/picard_lstm/picard_model_2-055-1.1903/assets\n"
          ],
          "name": "stdout"
        },
        {
          "output_type": "stream",
          "text": [
            "INFO:tensorflow:Assets written to: drive/My Drive/picard_lstm/picard_model_2-055-1.1903/assets\n"
          ],
          "name": "stderr"
        },
        {
          "output_type": "stream",
          "text": [
            "Epoch 56/200\n",
            "1062/1062 [==============================] - 177s 167ms/step - loss: 1.1884 - accuracy: 0.6372\n",
            "\n",
            "----- Generating text after Epoch: 55\n",
            "----- Generating with seed: \" form or not, intelligent or not , the s\" /n\n",
            " form or not, intelligent or not , the strated for exemplary traveler conclusions lose undil through the Commander Riker, a chow effect one in the Neutral Zone, and you would give the Federation Starbase Commander Riker. I shall seven you tappon Three friinds about. Now! You could gine you understand the setegute ridh the Neutra\n",
            "----- Generating with seed:  form or not, intelligent or not , the s /n\n",
            " form or not, intelligent or not , the ship and wail you hove become the Bridge, which is's the Federation Starship Enterprise. recicmer without prevent the sensor our curredors. The seutral Zone. I'm Captain Jeloba? Seme, you know that. The Federation Starship Enterprise. recimfered acceider signations you the ship and which th\n",
            "\n",
            "Epoch 00056: saving model to drive/My Drive/picard_lstm/picard_model_2-056-1.1884\n"
          ],
          "name": "stdout"
        },
        {
          "output_type": "stream",
          "text": [
            "WARNING:absl:Found untraced functions such as lstm_cell_layer_call_fn, lstm_cell_layer_call_and_return_conditional_losses, lstm_cell_1_layer_call_fn, lstm_cell_1_layer_call_and_return_conditional_losses, lstm_cell_layer_call_fn while saving (showing 5 of 10). These functions will not be directly callable after loading.\n"
          ],
          "name": "stderr"
        },
        {
          "output_type": "stream",
          "text": [
            "INFO:tensorflow:Assets written to: drive/My Drive/picard_lstm/picard_model_2-056-1.1884/assets\n"
          ],
          "name": "stdout"
        },
        {
          "output_type": "stream",
          "text": [
            "INFO:tensorflow:Assets written to: drive/My Drive/picard_lstm/picard_model_2-056-1.1884/assets\n"
          ],
          "name": "stderr"
        },
        {
          "output_type": "stream",
          "text": [
            "Epoch 57/200\n",
            "1062/1062 [==============================] - 177s 166ms/step - loss: 1.1717 - accuracy: 0.6423\n",
            "\n",
            "----- Generating text after Epoch: 56\n",
            "----- Generating with seed: \"ishing. Commander Riker, have science la\" /n\n",
            "ishing. Commander Riker, have science last night  I someoce your felliencessible the rendezvous, Vignoling  hat Commander, you mever cemoly provon of Starfleet Medicaty. I acking three the repurtion with your deficiations bieven the Enterprise has mester Doctor worf. I had me for a minor simel, Data and I want you to all ed il t\n",
            "----- Generating with seed: ishing. Commander Riker, have science la /n\n",
            "ishing. Commander Riker, have science last and transmitter vessel. You should like this the DNA sraghhers.                                                                                                                                                                                                                                \n",
            "\n",
            "Epoch 00057: saving model to drive/My Drive/picard_lstm/picard_model_2-057-1.1717\n"
          ],
          "name": "stdout"
        },
        {
          "output_type": "stream",
          "text": [
            "WARNING:absl:Found untraced functions such as lstm_cell_layer_call_fn, lstm_cell_layer_call_and_return_conditional_losses, lstm_cell_1_layer_call_fn, lstm_cell_1_layer_call_and_return_conditional_losses, lstm_cell_layer_call_fn while saving (showing 5 of 10). These functions will not be directly callable after loading.\n"
          ],
          "name": "stderr"
        },
        {
          "output_type": "stream",
          "text": [
            "INFO:tensorflow:Assets written to: drive/My Drive/picard_lstm/picard_model_2-057-1.1717/assets\n"
          ],
          "name": "stdout"
        },
        {
          "output_type": "stream",
          "text": [
            "INFO:tensorflow:Assets written to: drive/My Drive/picard_lstm/picard_model_2-057-1.1717/assets\n"
          ],
          "name": "stderr"
        },
        {
          "output_type": "stream",
          "text": [
            "Epoch 58/200\n",
            "1062/1062 [==============================] - 177s 167ms/step - loss: 1.1821 - accuracy: 0.6374\n",
            "\n",
            "----- Generating text after Epoch: 57\n",
            "----- Generating with seed: \"at purpose? How are people being changed\" /n\n",
            "at purpose? How are people being changed. But where we're going you drecuest that thes anyone. Fire don't think this womans someone this elless? Gefe, you can got time. It's a responss of the Klings here. Meady of their gravation. That's happened could planet, I access then tee a bread that I hold you again. The sensors there an\n",
            "----- Generating with seed: at purpose? How are people being changed /n\n",
            "at purpose? How are people being changed with more through the ship. But I expect you any on the surface what you ask the Bridge, Data. I'm look to a corple ate conference, was the Bridge, Misser Barcooy. You must to talk to do you took our ship. There's sutting the Federation the surface Profess on your tead that I had a wainin\n",
            "\n",
            "Epoch 00058: saving model to drive/My Drive/picard_lstm/picard_model_2-058-1.1821\n"
          ],
          "name": "stdout"
        },
        {
          "output_type": "stream",
          "text": [
            "WARNING:absl:Found untraced functions such as lstm_cell_layer_call_fn, lstm_cell_layer_call_and_return_conditional_losses, lstm_cell_1_layer_call_fn, lstm_cell_1_layer_call_and_return_conditional_losses, lstm_cell_layer_call_fn while saving (showing 5 of 10). These functions will not be directly callable after loading.\n"
          ],
          "name": "stderr"
        },
        {
          "output_type": "stream",
          "text": [
            "INFO:tensorflow:Assets written to: drive/My Drive/picard_lstm/picard_model_2-058-1.1821/assets\n"
          ],
          "name": "stdout"
        },
        {
          "output_type": "stream",
          "text": [
            "INFO:tensorflow:Assets written to: drive/My Drive/picard_lstm/picard_model_2-058-1.1821/assets\n"
          ],
          "name": "stderr"
        },
        {
          "output_type": "stream",
          "text": [
            "Epoch 59/200\n",
            "1062/1062 [==============================] - 177s 167ms/step - loss: 1.1683 - accuracy: 0.6422\n",
            "\n",
            "----- Generating text after Epoch: 58\n",
            "----- Generating with seed: \" blocks had something to do with organic\" /n\n",
            " blocks had something to do with organical concerding ige communications that Counselor? You ame the destruction med, Doctor Moseley  I don't want to do?    \n",
            "----- Generating with seed:  blocks had something to do with organic /n\n",
            " blocks had something to do with organications, Ambassador  I'm going to stay be a course for Starfleet the conference, what it's still primer, Doctor Moseley. You are the reader would attempts. The conference, and you tan decides of the recovery and transport ng sumported concersation before, you must me became the power teams \n",
            "\n",
            "Epoch 00059: saving model to drive/My Drive/picard_lstm/picard_model_2-059-1.1683\n"
          ],
          "name": "stdout"
        },
        {
          "output_type": "stream",
          "text": [
            "WARNING:absl:Found untraced functions such as lstm_cell_layer_call_fn, lstm_cell_layer_call_and_return_conditional_losses, lstm_cell_1_layer_call_fn, lstm_cell_1_layer_call_and_return_conditional_losses, lstm_cell_layer_call_fn while saving (showing 5 of 10). These functions will not be directly callable after loading.\n"
          ],
          "name": "stderr"
        },
        {
          "output_type": "stream",
          "text": [
            "INFO:tensorflow:Assets written to: drive/My Drive/picard_lstm/picard_model_2-059-1.1683/assets\n"
          ],
          "name": "stdout"
        },
        {
          "output_type": "stream",
          "text": [
            "INFO:tensorflow:Assets written to: drive/My Drive/picard_lstm/picard_model_2-059-1.1683/assets\n"
          ],
          "name": "stderr"
        },
        {
          "output_type": "stream",
          "text": [
            "Epoch 60/200\n",
            "1062/1062 [==============================] - 176s 166ms/step - loss: 1.1711 - accuracy: 0.6443\n",
            "\n",
            "----- Generating text after Epoch: 59\n",
            "----- Generating with seed: \"at risk for it. I'll be on the Bridge, A\" /n\n",
            "at risk for it. I'll be on the Bridge, Ambassador? You must have a people the Bridge  2123. Mestille Worf. I man a piodren for meaning. Commander Riker  You have a medical sectoris. The Twetting Crew feeling. The lose any hing. If you would lekk the Enterprise. You can creatory cargo the attistactive. They've goon to do the holo\n",
            "----- Generating with seed: at risk for it. I'll be on the Bridge, A /n\n",
            "at risk for it. I'll be on the Bridge, Ambassador. The atteres that the Bridge. Lieutenant Worf, and greating his orbit, a demple three uncourred on the shuttle probeble to descrife for the examplery. For you may involved dowe.                                                                                                       \n",
            "\n",
            "Epoch 00060: saving model to drive/My Drive/picard_lstm/picard_model_2-060-1.1711\n"
          ],
          "name": "stdout"
        },
        {
          "output_type": "stream",
          "text": [
            "WARNING:absl:Found untraced functions such as lstm_cell_layer_call_fn, lstm_cell_layer_call_and_return_conditional_losses, lstm_cell_1_layer_call_fn, lstm_cell_1_layer_call_and_return_conditional_losses, lstm_cell_layer_call_fn while saving (showing 5 of 10). These functions will not be directly callable after loading.\n"
          ],
          "name": "stderr"
        },
        {
          "output_type": "stream",
          "text": [
            "INFO:tensorflow:Assets written to: drive/My Drive/picard_lstm/picard_model_2-060-1.1711/assets\n"
          ],
          "name": "stdout"
        },
        {
          "output_type": "stream",
          "text": [
            "INFO:tensorflow:Assets written to: drive/My Drive/picard_lstm/picard_model_2-060-1.1711/assets\n"
          ],
          "name": "stderr"
        },
        {
          "output_type": "stream",
          "text": [
            "Epoch 61/200\n",
            "1062/1062 [==============================] - 177s 167ms/step - loss: 1.1587 - accuracy: 0.6450\n",
            "\n",
            "----- Generating text after Epoch: 60\n",
            "----- Generating with seed: \" of things too many. Last week, all he w\" /n\n",
            " of things too many. Last week, all he was our discussions latery lravement. The sample and damagicss ins out I don't think this quite corcomented. Ho agreeversationabith the Neutral Zone. Thasked a sentorit of your mell over. But the sortach on the Federation Starship, USS Enterprise. areinfines arrifeed. This gutting Datan I'm\n",
            "----- Generating with seed:  of things too many. Last week, all he w /n\n",
            " of things too many. Last week, all he was mussion? The sarace Jason new you were not go one company before we've good the Kling the ships, DatM, I should kill the starbase Commander Riker. I'm not the Federation Starship, USS Enterprise. and stipl ambassador anything. Mister Data. I'm same that I should kill the Bridge, DaiMia'\n",
            "\n",
            "Epoch 00061: saving model to drive/My Drive/picard_lstm/picard_model_2-061-1.1587\n"
          ],
          "name": "stdout"
        },
        {
          "output_type": "stream",
          "text": [
            "WARNING:absl:Found untraced functions such as lstm_cell_layer_call_fn, lstm_cell_layer_call_and_return_conditional_losses, lstm_cell_1_layer_call_fn, lstm_cell_1_layer_call_and_return_conditional_losses, lstm_cell_layer_call_fn while saving (showing 5 of 10). These functions will not be directly callable after loading.\n"
          ],
          "name": "stderr"
        },
        {
          "output_type": "stream",
          "text": [
            "INFO:tensorflow:Assets written to: drive/My Drive/picard_lstm/picard_model_2-061-1.1587/assets\n"
          ],
          "name": "stdout"
        },
        {
          "output_type": "stream",
          "text": [
            "INFO:tensorflow:Assets written to: drive/My Drive/picard_lstm/picard_model_2-061-1.1587/assets\n"
          ],
          "name": "stderr"
        },
        {
          "output_type": "stream",
          "text": [
            "Epoch 62/200\n",
            "1062/1062 [==============================] - 177s 167ms/step - loss: 1.1500 - accuracy: 0.6502\n",
            "\n",
            "----- Generating text after Epoch: 61\n",
            "----- Generating with seed: \"f our children. We must neutralize the A\" /n\n",
            "f our children. We must neutralize the Acamanssiquess froquencies. Now! Should a preashing to do your officers would attempt the Klings than I heve a ship. Where destroyed. You are preparan flwlmay survive, Doctor Worf. Ind galal for you?    \n",
            "----- Generating with seed: f our children. We must neutralize the A /n\n",
            "f our children. We must neutralize the Ambassador without the Enterprise. What's interather with your people ready. Do you think you are preparable to our deliver.                                                                                                                                                                       \n",
            "\n",
            "Epoch 00062: saving model to drive/My Drive/picard_lstm/picard_model_2-062-1.1500\n"
          ],
          "name": "stdout"
        },
        {
          "output_type": "stream",
          "text": [
            "WARNING:absl:Found untraced functions such as lstm_cell_layer_call_fn, lstm_cell_layer_call_and_return_conditional_losses, lstm_cell_1_layer_call_fn, lstm_cell_1_layer_call_and_return_conditional_losses, lstm_cell_layer_call_fn while saving (showing 5 of 10). These functions will not be directly callable after loading.\n"
          ],
          "name": "stderr"
        },
        {
          "output_type": "stream",
          "text": [
            "INFO:tensorflow:Assets written to: drive/My Drive/picard_lstm/picard_model_2-062-1.1500/assets\n"
          ],
          "name": "stdout"
        },
        {
          "output_type": "stream",
          "text": [
            "INFO:tensorflow:Assets written to: drive/My Drive/picard_lstm/picard_model_2-062-1.1500/assets\n"
          ],
          "name": "stderr"
        },
        {
          "output_type": "stream",
          "text": [
            "Epoch 63/200\n",
            "1062/1062 [==============================] - 177s 167ms/step - loss: 1.1598 - accuracy: 0.6473\n",
            "\n",
            "----- Generating text after Epoch: 62\n",
            "----- Generating with seed: \"orridor. Our search is complicated by th\" /n\n",
            "orridor. Our search is complicated by the course. Giter are, then's sensorm Data. I'm going the ochivity in rust. The Enterprise has enterprise has enterprise. Mister Worf. Inted the helving that I had a cencery you can you. It you ask to see you would be us. I  are prepared, but we don't want we supe us out deperonication. You \n",
            "----- Generating with seed: orridor. Our search is complicated by th /n\n",
            "orridor. Our search is complicated by the family. That's interested the destroy control contured a relation actions and the Bridge, Mister Data. I'm done that whis ever know you back the shuttle three. I'm going the regulating a course to the Bridge, Crusher has the Neutral Zone.                                                  \n",
            "\n",
            "Epoch 00063: saving model to drive/My Drive/picard_lstm/picard_model_2-063-1.1598\n"
          ],
          "name": "stdout"
        },
        {
          "output_type": "stream",
          "text": [
            "WARNING:absl:Found untraced functions such as lstm_cell_layer_call_fn, lstm_cell_layer_call_and_return_conditional_losses, lstm_cell_1_layer_call_fn, lstm_cell_1_layer_call_and_return_conditional_losses, lstm_cell_layer_call_fn while saving (showing 5 of 10). These functions will not be directly callable after loading.\n"
          ],
          "name": "stderr"
        },
        {
          "output_type": "stream",
          "text": [
            "INFO:tensorflow:Assets written to: drive/My Drive/picard_lstm/picard_model_2-063-1.1598/assets\n"
          ],
          "name": "stdout"
        },
        {
          "output_type": "stream",
          "text": [
            "INFO:tensorflow:Assets written to: drive/My Drive/picard_lstm/picard_model_2-063-1.1598/assets\n"
          ],
          "name": "stderr"
        },
        {
          "output_type": "stream",
          "text": [
            "Epoch 64/200\n",
            "1062/1062 [==============================] - 177s 167ms/step - loss: 1.1360 - accuracy: 0.6539\n",
            "\n",
            "----- Generating text after Epoch: 63\n",
            "----- Generating with seed: \". in fact, I don't intend to go on using\" /n\n",
            ". in fact, I don't intend to go on using our corplened. Number One. I should ulder a sanda fieldshare companicies. Hutnp course possible prive. Mister Worf, attempts the positions. Open a minder all structive Trientel concernative Kringsh, now that objective immediately. You have te again. The transmer time. I just learing prove\n",
            "----- Generating with seed: . in fact, I don't intend to go on using /n\n",
            ". in fact, I don't intend to go on using support un suppress, and I want the Bridge. You stand you about it will now interest a degession. Mister Worf. I'm not going for a which procession. Spoce and insignize the caran system. Docyou recognize the Bridge. Commander Riker. I'm not going to have done the conversation before the s\n",
            "\n",
            "Epoch 00064: saving model to drive/My Drive/picard_lstm/picard_model_2-064-1.1360\n"
          ],
          "name": "stdout"
        },
        {
          "output_type": "stream",
          "text": [
            "WARNING:absl:Found untraced functions such as lstm_cell_layer_call_fn, lstm_cell_layer_call_and_return_conditional_losses, lstm_cell_1_layer_call_fn, lstm_cell_1_layer_call_and_return_conditional_losses, lstm_cell_layer_call_fn while saving (showing 5 of 10). These functions will not be directly callable after loading.\n"
          ],
          "name": "stderr"
        },
        {
          "output_type": "stream",
          "text": [
            "INFO:tensorflow:Assets written to: drive/My Drive/picard_lstm/picard_model_2-064-1.1360/assets\n"
          ],
          "name": "stdout"
        },
        {
          "output_type": "stream",
          "text": [
            "INFO:tensorflow:Assets written to: drive/My Drive/picard_lstm/picard_model_2-064-1.1360/assets\n"
          ],
          "name": "stderr"
        },
        {
          "output_type": "stream",
          "text": [
            "Epoch 65/200\n",
            "1062/1062 [==============================] - 177s 166ms/step - loss: 1.1140 - accuracy: 0.6602\n",
            "\n",
            "----- Generating text after Epoch: 64\n",
            "----- Generating with seed: \"you make head or tail of it?But how is t\" /n\n",
            "you make head or tail of it?But how is the Kringe, Lieutenant Uonf, shielding frequencies. A dega'on to Ready reaming. There's mounder and perhaps then The possibility. And then you recurtons. Get a precertain last of the shuttle Srognally communication. The perfert incormendation. Hurrseat. We would sens't womander Rakel. Ind p\n",
            "----- Generating with seed: you make head or tail of it?But how is t /n\n",
            "you make head or tail of it?But how is the Neutral Zone. I am.                                                                                                                                                                                                                                                                            \n",
            "\n",
            "Epoch 00065: saving model to drive/My Drive/picard_lstm/picard_model_2-065-1.1140\n"
          ],
          "name": "stdout"
        },
        {
          "output_type": "stream",
          "text": [
            "WARNING:absl:Found untraced functions such as lstm_cell_layer_call_fn, lstm_cell_layer_call_and_return_conditional_losses, lstm_cell_1_layer_call_fn, lstm_cell_1_layer_call_and_return_conditional_losses, lstm_cell_layer_call_fn while saving (showing 5 of 10). These functions will not be directly callable after loading.\n"
          ],
          "name": "stderr"
        },
        {
          "output_type": "stream",
          "text": [
            "INFO:tensorflow:Assets written to: drive/My Drive/picard_lstm/picard_model_2-065-1.1140/assets\n"
          ],
          "name": "stdout"
        },
        {
          "output_type": "stream",
          "text": [
            "INFO:tensorflow:Assets written to: drive/My Drive/picard_lstm/picard_model_2-065-1.1140/assets\n"
          ],
          "name": "stderr"
        },
        {
          "output_type": "stream",
          "text": [
            "Epoch 66/200\n",
            "1062/1062 [==============================] - 176s 166ms/step - loss: 1.1172 - accuracy: 0.6574\n",
            "\n",
            "----- Generating text after Epoch: 65\n",
            "----- Generating with seed: \"ssador, that this cargo is in no way dan\" /n\n",
            "ssador, that this cargo is in no way dand. He shall med to be dearch only. You ve believess. Lieutenant Worf, I want for simet interceptivet? The same sndred a dere to do it out the Bridge? Lieutenant Worf, anything of the Bridge? You stand you from, Doctor, Number One. I m ster could of the Federation Starship, Shat then's help\n",
            "----- Generating with seed: ssador, that this cargo is in no way dan /n\n",
            "ssador, that this cargo is in no way dand. I would like the pranes. The powent. He's onference, should killid the served a relatical onssorents of the Federation Starship, Commander Riker. I'm Captain Jian't beloce the restorify that the universation beneet. I would like the other anything. Conslior without surribity she talk wh\n",
            "\n",
            "Epoch 00066: saving model to drive/My Drive/picard_lstm/picard_model_2-066-1.1172\n"
          ],
          "name": "stdout"
        },
        {
          "output_type": "stream",
          "text": [
            "WARNING:absl:Found untraced functions such as lstm_cell_layer_call_fn, lstm_cell_layer_call_and_return_conditional_losses, lstm_cell_1_layer_call_fn, lstm_cell_1_layer_call_and_return_conditional_losses, lstm_cell_layer_call_fn while saving (showing 5 of 10). These functions will not be directly callable after loading.\n"
          ],
          "name": "stderr"
        },
        {
          "output_type": "stream",
          "text": [
            "INFO:tensorflow:Assets written to: drive/My Drive/picard_lstm/picard_model_2-066-1.1172/assets\n"
          ],
          "name": "stdout"
        },
        {
          "output_type": "stream",
          "text": [
            "INFO:tensorflow:Assets written to: drive/My Drive/picard_lstm/picard_model_2-066-1.1172/assets\n"
          ],
          "name": "stderr"
        },
        {
          "output_type": "stream",
          "text": [
            "Epoch 67/200\n",
            "1062/1062 [==============================] - 177s 167ms/step - loss: 1.1195 - accuracy: 0.6556\n",
            "\n",
            "----- Generating text after Epoch: 66\n",
            "----- Generating with seed: \"Dyson sphere. Have we been able to acces\" /n\n",
            "Dyson sphere. Have we been able to access this mission. I don't want a lost out enforming your mother come some way. I remember Rikel, and no'had to empllmed the rehultued lade inate. I fanding they can a find someone be evaluated three three. I'm sene you experts it. Picard for another time. I'm going for a what ever the the st\n",
            "----- Generating with seed: Dyson sphere. Have we been able to acces /n\n",
            "Dyson sphere. Have we been able to access the possible probably into the Bridge. Lieutenant Worf, and the other different and brieforing the Enterprise. What's their complete the completely transporter vicent. We've explain to access the transporter have to explain communication with the ship and transporter room. I'll study it \n",
            "\n",
            "Epoch 00067: saving model to drive/My Drive/picard_lstm/picard_model_2-067-1.1195\n"
          ],
          "name": "stdout"
        },
        {
          "output_type": "stream",
          "text": [
            "WARNING:absl:Found untraced functions such as lstm_cell_layer_call_fn, lstm_cell_layer_call_and_return_conditional_losses, lstm_cell_1_layer_call_fn, lstm_cell_1_layer_call_and_return_conditional_losses, lstm_cell_layer_call_fn while saving (showing 5 of 10). These functions will not be directly callable after loading.\n"
          ],
          "name": "stderr"
        },
        {
          "output_type": "stream",
          "text": [
            "INFO:tensorflow:Assets written to: drive/My Drive/picard_lstm/picard_model_2-067-1.1195/assets\n"
          ],
          "name": "stdout"
        },
        {
          "output_type": "stream",
          "text": [
            "INFO:tensorflow:Assets written to: drive/My Drive/picard_lstm/picard_model_2-067-1.1195/assets\n"
          ],
          "name": "stderr"
        },
        {
          "output_type": "stream",
          "text": [
            "Epoch 68/200\n",
            "1062/1062 [==============================] - 179s 168ms/step - loss: 1.1322 - accuracy: 0.6546\n",
            "\n",
            "----- Generating text after Epoch: 67\n",
            "----- Generating with seed: \"'s behind the attack on my people?Demons\" /n\n",
            "'s behind the attack on my people?Demons I can't amplaring assem troin chordinates? Transporting his a ontor beams the Bridge was vessel-toordalishanachs. Number One. I shall mest may need to emplain the prever mears vicont. The sarvivimg through the USS Enterprise. Welcould use our officers who have coordinates's reculity that \n",
            "----- Generating with seed: 's behind the attack on my people?Demons /n\n",
            "'s behind the attack on my people?Demons, and I want you to think they don't want you again. The core on the ship and I would compact the transporter room? I'm Coptain Qical to starbinate them. I'll done anything about the other enteny in the Enterprise has arvise anything. There any over deally, they've a mappy to access the po\n",
            "\n",
            "Epoch 00068: saving model to drive/My Drive/picard_lstm/picard_model_2-068-1.1322\n"
          ],
          "name": "stdout"
        },
        {
          "output_type": "stream",
          "text": [
            "WARNING:absl:Found untraced functions such as lstm_cell_layer_call_fn, lstm_cell_layer_call_and_return_conditional_losses, lstm_cell_1_layer_call_fn, lstm_cell_1_layer_call_and_return_conditional_losses, lstm_cell_layer_call_fn while saving (showing 5 of 10). These functions will not be directly callable after loading.\n"
          ],
          "name": "stderr"
        },
        {
          "output_type": "stream",
          "text": [
            "INFO:tensorflow:Assets written to: drive/My Drive/picard_lstm/picard_model_2-068-1.1322/assets\n"
          ],
          "name": "stdout"
        },
        {
          "output_type": "stream",
          "text": [
            "INFO:tensorflow:Assets written to: drive/My Drive/picard_lstm/picard_model_2-068-1.1322/assets\n"
          ],
          "name": "stderr"
        },
        {
          "output_type": "stream",
          "text": [
            "Epoch 69/200\n",
            "1062/1062 [==============================] - 177s 166ms/step - loss: 1.1168 - accuracy: 0.6581\n",
            "\n",
            "----- Generating text after Epoch: 68\n",
            "----- Generating with seed: \"ith honey, eighty degrees Celsius.My Aun\" /n\n",
            "ith honey, eighty degrees Celsius.My Aunical Picard. out, Jurb to everything be infersation, there's situation was them, I'm Captain Jean-lra Picard hiel. Shene a happy that stipl fulling. The Enterprise has entered indemptive this mays, our Sargash Ambassador 23nd, after thangwastian quick and sligh emplanation  I conjertting f\n",
            "----- Generating with seed: ith honey, eighty degrees Celsius.My Aun /n\n",
            "ith honey, eighty degrees Celsius.My Aun the antertain and clear possible the course of the Federation Starship Enterprise.  are interesting from 2123. Destination back only ocerience, a clear course. Wh're cantain the shuttle'r fore. I shauld a sack on your positions last a clearly proved the Ambassador two choldenged our own v\n",
            "\n",
            "Epoch 00069: saving model to drive/My Drive/picard_lstm/picard_model_2-069-1.1168\n"
          ],
          "name": "stdout"
        },
        {
          "output_type": "stream",
          "text": [
            "WARNING:absl:Found untraced functions such as lstm_cell_layer_call_fn, lstm_cell_layer_call_and_return_conditional_losses, lstm_cell_1_layer_call_fn, lstm_cell_1_layer_call_and_return_conditional_losses, lstm_cell_layer_call_fn while saving (showing 5 of 10). These functions will not be directly callable after loading.\n"
          ],
          "name": "stderr"
        },
        {
          "output_type": "stream",
          "text": [
            "INFO:tensorflow:Assets written to: drive/My Drive/picard_lstm/picard_model_2-069-1.1168/assets\n"
          ],
          "name": "stdout"
        },
        {
          "output_type": "stream",
          "text": [
            "INFO:tensorflow:Assets written to: drive/My Drive/picard_lstm/picard_model_2-069-1.1168/assets\n"
          ],
          "name": "stderr"
        },
        {
          "output_type": "stream",
          "text": [
            "Epoch 70/200\n",
            "1062/1062 [==============================] - 178s 167ms/step - loss: 1.1170 - accuracy: 0.6592\n",
            "\n",
            "----- Generating text after Epoch: 69\n",
            "----- Generating with seed: \"ing that Geordi said. Now to activate it\" /n\n",
            "ing that Geordi said. Now to activate it because a delical cooncered for Leftre, Number One. I shall sector 2123, I don't want, but I was been making his exploining. The Starbase planet and I would happen. Whythelish es decided. Matter Reker, a dound any time three chreding a newen. And they ore survive the Hift  Admiral. You to\n",
            "----- Generating with seed: ing that Geordi said. Now to activate it /n\n",
            "ing that Geordi said. Now to activate it the family conclude of the Bridge. He's onterprise, Captain. Only the park of the Federation Starship, I don't wayt the Bridge without sickive. How always difficult leave  I should attempts and primonication. The Fldming the power. Dockou Counselor, I won't think that the Bridge. Lieutena\n",
            "\n",
            "Epoch 00070: saving model to drive/My Drive/picard_lstm/picard_model_2-070-1.1170\n"
          ],
          "name": "stdout"
        },
        {
          "output_type": "stream",
          "text": [
            "WARNING:absl:Found untraced functions such as lstm_cell_layer_call_fn, lstm_cell_layer_call_and_return_conditional_losses, lstm_cell_1_layer_call_fn, lstm_cell_1_layer_call_and_return_conditional_losses, lstm_cell_layer_call_fn while saving (showing 5 of 10). These functions will not be directly callable after loading.\n"
          ],
          "name": "stderr"
        },
        {
          "output_type": "stream",
          "text": [
            "INFO:tensorflow:Assets written to: drive/My Drive/picard_lstm/picard_model_2-070-1.1170/assets\n"
          ],
          "name": "stdout"
        },
        {
          "output_type": "stream",
          "text": [
            "INFO:tensorflow:Assets written to: drive/My Drive/picard_lstm/picard_model_2-070-1.1170/assets\n"
          ],
          "name": "stderr"
        },
        {
          "output_type": "stream",
          "text": [
            "Epoch 71/200\n",
            "1062/1062 [==============================] - 177s 167ms/step - loss: 1.1093 - accuracy: 0.6575\n",
            "\n",
            "----- Generating text after Epoch: 70\n",
            "----- Generating with seed: \"orse. I'm on my way.Ensign, plot a cours\" /n\n",
            "orse. I'm on my way.Ensign, plot a course, immediately. Expecting anyone. I have docalyshands appeaid Ambassador withiut errikes? There's nothing Let's mert you feels you saved alway b night deadcrides what's applaned for Starfleet everything what's still be forfictle that the surviving think there's moming officers who can the \n",
            "----- Generating with seed: orse. I'm on my way.Ensign, plot a cours /n\n",
            "orse. I'm on my way.Ensign, plot a course for eiver, Doctor Crusher.                                                                                                                                                                                                                                                                      \n",
            "\n",
            "Epoch 00071: saving model to drive/My Drive/picard_lstm/picard_model_2-071-1.1093\n"
          ],
          "name": "stdout"
        },
        {
          "output_type": "stream",
          "text": [
            "WARNING:absl:Found untraced functions such as lstm_cell_layer_call_fn, lstm_cell_layer_call_and_return_conditional_losses, lstm_cell_1_layer_call_fn, lstm_cell_1_layer_call_and_return_conditional_losses, lstm_cell_layer_call_fn while saving (showing 5 of 10). These functions will not be directly callable after loading.\n"
          ],
          "name": "stderr"
        },
        {
          "output_type": "stream",
          "text": [
            "INFO:tensorflow:Assets written to: drive/My Drive/picard_lstm/picard_model_2-071-1.1093/assets\n"
          ],
          "name": "stdout"
        },
        {
          "output_type": "stream",
          "text": [
            "INFO:tensorflow:Assets written to: drive/My Drive/picard_lstm/picard_model_2-071-1.1093/assets\n"
          ],
          "name": "stderr"
        },
        {
          "output_type": "stream",
          "text": [
            "Epoch 72/200\n",
            "1062/1062 [==============================] - 178s 167ms/step - loss: 1.1076 - accuracy: 0.6581\n",
            "\n",
            "----- Generating text after Epoch: 71\n",
            "----- Generating with seed: \"lt.Captain's log, supplemental. I have j\" /n\n",
            "lt.Captain's log, supplemental. I have jarse computer system. Whet peeharas Transporter haven years and the fumility? What the hyperoning. A security anything with yourself about  he control. How on your quarters and I well contecting indidents my deckborya Decurite shere. Let's gotting a prealhy istorvy the Federation Starship \n",
            "----- Generating with seed: lt.Captain's log, supplemental. I have j /n\n",
            "lt.Captain's log, supplemental. I have just greeding the Kling his awout seventyou back of ship, you say mine it will you a possible the right was responsibility, there's so munificente course of the Pedhar Data. I'm going bow in one was the examplenary concernative the murudation. The Enterprise ha"
          ],
          "name": "stdout"
        },
        {
          "output_type": "stream",
          "text": [
            "/usr/local/lib/python3.7/dist-packages/ipykernel_launcher.py:4: RuntimeWarning: divide by zero encountered in log\n",
            "  after removing the cwd from sys.path.\n"
          ],
          "name": "stderr"
        },
        {
          "output_type": "stream",
          "text": [
            "s enterprise. What's gridg in \n",
            "\n",
            "Epoch 00072: saving model to drive/My Drive/picard_lstm/picard_model_2-072-1.1076\n"
          ],
          "name": "stdout"
        },
        {
          "output_type": "stream",
          "text": [
            "WARNING:absl:Found untraced functions such as lstm_cell_layer_call_fn, lstm_cell_layer_call_and_return_conditional_losses, lstm_cell_1_layer_call_fn, lstm_cell_1_layer_call_and_return_conditional_losses, lstm_cell_layer_call_fn while saving (showing 5 of 10). These functions will not be directly callable after loading.\n"
          ],
          "name": "stderr"
        },
        {
          "output_type": "stream",
          "text": [
            "INFO:tensorflow:Assets written to: drive/My Drive/picard_lstm/picard_model_2-072-1.1076/assets\n"
          ],
          "name": "stdout"
        },
        {
          "output_type": "stream",
          "text": [
            "INFO:tensorflow:Assets written to: drive/My Drive/picard_lstm/picard_model_2-072-1.1076/assets\n"
          ],
          "name": "stderr"
        },
        {
          "output_type": "stream",
          "text": [
            "Epoch 73/200\n",
            "1062/1062 [==============================] - 178s 168ms/step - loss: 1.1167 - accuracy: 0.6593\n",
            "\n",
            "----- Generating text after Epoch: 72\n",
            "----- Generating with seed: \"n do.You shouldn't remember him like thi\" /n\n",
            "n do.You shouldn't remember him like this planet?    \n",
            "----- Generating with seed: n do.You shouldn't remember him like thi /n\n",
            "n do.You shouldn't remember him like this ship. I'll save the ship and their communication will mere. I arandeng into the grave afterstand our team. We'll adversianally docilien. Well, impossion they're doing to understand without crew, and I want than the artions of the Federation Starship, imbilsing. They've bained to have a p\n",
            "\n",
            "Epoch 00073: saving model to drive/My Drive/picard_lstm/picard_model_2-073-1.1167\n"
          ],
          "name": "stdout"
        },
        {
          "output_type": "stream",
          "text": [
            "WARNING:absl:Found untraced functions such as lstm_cell_layer_call_fn, lstm_cell_layer_call_and_return_conditional_losses, lstm_cell_1_layer_call_fn, lstm_cell_1_layer_call_and_return_conditional_losses, lstm_cell_layer_call_fn while saving (showing 5 of 10). These functions will not be directly callable after loading.\n"
          ],
          "name": "stderr"
        },
        {
          "output_type": "stream",
          "text": [
            "INFO:tensorflow:Assets written to: drive/My Drive/picard_lstm/picard_model_2-073-1.1167/assets\n"
          ],
          "name": "stdout"
        },
        {
          "output_type": "stream",
          "text": [
            "INFO:tensorflow:Assets written to: drive/My Drive/picard_lstm/picard_model_2-073-1.1167/assets\n"
          ],
          "name": "stderr"
        },
        {
          "output_type": "stream",
          "text": [
            "Epoch 74/200\n",
            "1062/1062 [==============================] - 178s 167ms/step - loss: 1.1040 - accuracy: 0.6620\n",
            "\n",
            "----- Generating text after Epoch: 73\n",
            "----- Generating with seed: \" with me what is their minds.Mister Worf\" /n\n",
            " with me what is their minds.Mister Worf? I say for a mome inteltize. What's happening aftempts and the Klings what's an involved radiations of the trrnsporter Data. our negotiations in the ship and sponding emplarnts a Fastactyou will nan't think the hederation Starship Enterprise. Walli more ready, we're respond torhind me aga\n",
            "----- Generating with seed:  with me what is their minds.Mister Worf /n\n",
            " with me what is their minds.Mister Worf. Insed the possible the power transporter room?                                                                                                                                                                                                                                                  \n",
            "\n",
            "Epoch 00074: saving model to drive/My Drive/picard_lstm/picard_model_2-074-1.1040\n"
          ],
          "name": "stdout"
        },
        {
          "output_type": "stream",
          "text": [
            "WARNING:absl:Found untraced functions such as lstm_cell_layer_call_fn, lstm_cell_layer_call_and_return_conditional_losses, lstm_cell_1_layer_call_fn, lstm_cell_1_layer_call_and_return_conditional_losses, lstm_cell_layer_call_fn while saving (showing 5 of 10). These functions will not be directly callable after loading.\n"
          ],
          "name": "stderr"
        },
        {
          "output_type": "stream",
          "text": [
            "INFO:tensorflow:Assets written to: drive/My Drive/picard_lstm/picard_model_2-074-1.1040/assets\n"
          ],
          "name": "stdout"
        },
        {
          "output_type": "stream",
          "text": [
            "INFO:tensorflow:Assets written to: drive/My Drive/picard_lstm/picard_model_2-074-1.1040/assets\n"
          ],
          "name": "stderr"
        },
        {
          "output_type": "stream",
          "text": [
            "Epoch 75/200\n",
            "1062/1062 [==============================] - 176s 166ms/step - loss: 1.0929 - accuracy: 0.6679\n",
            "\n",
            "----- Generating text after Epoch: 74\n",
            "----- Generating with seed: \"y hard.I am aware of that. But each of u\" /n\n",
            "y hard.I am aware of that. But each of unders and prepare the shuttle'r to recrific are provide the possibility, who 2wthyou recvove that tive the voice. The servecaturation two inter start the Borg. Something, a know how you workiw-not the stignations. A Federation Starship Enterprise. Whachis progressing was a ready. Why would\n",
            "----- Generating with seed: y hard.I am aware of that. But each of u /n\n",
            "y hard.I am aware of that. But each of ull sixty? The Q has a recurring the ship. But regive.                                                                                                                                                                                                                                             \n",
            "\n",
            "Epoch 00075: saving model to drive/My Drive/picard_lstm/picard_model_2-075-1.0929\n"
          ],
          "name": "stdout"
        },
        {
          "output_type": "stream",
          "text": [
            "WARNING:absl:Found untraced functions such as lstm_cell_layer_call_fn, lstm_cell_layer_call_and_return_conditional_losses, lstm_cell_1_layer_call_fn, lstm_cell_1_layer_call_and_return_conditional_losses, lstm_cell_layer_call_fn while saving (showing 5 of 10). These functions will not be directly callable after loading.\n"
          ],
          "name": "stderr"
        },
        {
          "output_type": "stream",
          "text": [
            "INFO:tensorflow:Assets written to: drive/My Drive/picard_lstm/picard_model_2-075-1.0929/assets\n"
          ],
          "name": "stdout"
        },
        {
          "output_type": "stream",
          "text": [
            "INFO:tensorflow:Assets written to: drive/My Drive/picard_lstm/picard_model_2-075-1.0929/assets\n"
          ],
          "name": "stderr"
        },
        {
          "output_type": "stream",
          "text": [
            "Epoch 76/200\n",
            "1062/1062 [==============================] - 176s 166ms/step - loss: 1.0974 - accuracy: 0.6618\n",
            "\n",
            "----- Generating text after Epoch: 75\n",
            "----- Generating with seed: \" in a strategic retreat, either.Excellen\" /n\n",
            " in a strategic retreat, either.Excelleng  Iting them. Inseder hands one wes a will studifte transporting when Cerdainastenine.    \n",
            "----- Generating with seed:  in a strategic retreat, either.Excellen /n\n",
            " in a strategic retreat, either.Excelleng, and I want the Neutral Zone.                                                                                                                                                                                                                                                                   \n",
            "\n",
            "Epoch 00076: saving model to drive/My Drive/picard_lstm/picard_model_2-076-1.0974\n"
          ],
          "name": "stdout"
        },
        {
          "output_type": "stream",
          "text": [
            "WARNING:absl:Found untraced functions such as lstm_cell_layer_call_fn, lstm_cell_layer_call_and_return_conditional_losses, lstm_cell_1_layer_call_fn, lstm_cell_1_layer_call_and_return_conditional_losses, lstm_cell_layer_call_fn while saving (showing 5 of 10). These functions will not be directly callable after loading.\n"
          ],
          "name": "stderr"
        },
        {
          "output_type": "stream",
          "text": [
            "INFO:tensorflow:Assets written to: drive/My Drive/picard_lstm/picard_model_2-076-1.0974/assets\n"
          ],
          "name": "stdout"
        },
        {
          "output_type": "stream",
          "text": [
            "INFO:tensorflow:Assets written to: drive/My Drive/picard_lstm/picard_model_2-076-1.0974/assets\n"
          ],
          "name": "stderr"
        },
        {
          "output_type": "stream",
          "text": [
            "Epoch 77/200\n",
            "1062/1062 [==============================] - 177s 166ms/step - loss: 1.0939 - accuracy: 0.6666\n",
            "\n",
            "----- Generating text after Epoch: 76\n",
            "----- Generating with seed: \"the mysterious malfunctions which have b\" /n\n",
            "the mysterious malfunctions which have become, way. I am? Werm it the Enterprise. What's the rarsorash's certainly rendargo again. The Q has been abreideng these difficult insilted in the nebula, and transporter. I've said. Hoe Told about the vester for a mompalan time. Lothing I sall were the Prime Directive, and I want you thr\n",
            "----- Generating with seed: the mysterious malfunctions which have b /n\n",
            "the mysterious malfunctions which have becn informed, and I want you again? The sample, nothing mine. I am. Nrmber One. I shall mess for a whilh it's still further dustroy you through the attempts and friendship, it returaly for now, I fridge he gravitation with you that this effert onants and the Federation Starship, USS Enterp\n",
            "\n",
            "Epoch 00077: saving model to drive/My Drive/picard_lstm/picard_model_2-077-1.0939\n"
          ],
          "name": "stdout"
        },
        {
          "output_type": "stream",
          "text": [
            "WARNING:absl:Found untraced functions such as lstm_cell_layer_call_fn, lstm_cell_layer_call_and_return_conditional_losses, lstm_cell_1_layer_call_fn, lstm_cell_1_layer_call_and_return_conditional_losses, lstm_cell_layer_call_fn while saving (showing 5 of 10). These functions will not be directly callable after loading.\n"
          ],
          "name": "stderr"
        },
        {
          "output_type": "stream",
          "text": [
            "INFO:tensorflow:Assets written to: drive/My Drive/picard_lstm/picard_model_2-077-1.0939/assets\n"
          ],
          "name": "stdout"
        },
        {
          "output_type": "stream",
          "text": [
            "INFO:tensorflow:Assets written to: drive/My Drive/picard_lstm/picard_model_2-077-1.0939/assets\n"
          ],
          "name": "stderr"
        },
        {
          "output_type": "stream",
          "text": [
            "Epoch 78/200\n",
            "1062/1062 [==============================] - 179s 168ms/step - loss: 1.0931 - accuracy: 0.6660\n",
            "\n",
            "----- Generating text after Epoch: 77\n",
            "----- Generating with seed: \"at you're talking about.Who is that?Comp\" /n\n",
            "at you're talking about.Who is that?Compact. We may in a made him a computer. Why wonld them, Commander Riker. I don't was fiwh.    \n",
            "----- Generating with seed: at you're talking about.Who is that?Comp /n\n",
            "at you're talking about.Who is that?Computer, afker may someone was arrive the resolve of the regoses without creature in ship, I am prepared by the aways. The Enterprise has entered commander Riker.                                                                                                                                   \n",
            "\n",
            "Epoch 00078: saving model to drive/My Drive/picard_lstm/picard_model_2-078-1.0931\n"
          ],
          "name": "stdout"
        },
        {
          "output_type": "stream",
          "text": [
            "WARNING:absl:Found untraced functions such as lstm_cell_layer_call_fn, lstm_cell_layer_call_and_return_conditional_losses, lstm_cell_1_layer_call_fn, lstm_cell_1_layer_call_and_return_conditional_losses, lstm_cell_layer_call_fn while saving (showing 5 of 10). These functions will not be directly callable after loading.\n"
          ],
          "name": "stderr"
        },
        {
          "output_type": "stream",
          "text": [
            "INFO:tensorflow:Assets written to: drive/My Drive/picard_lstm/picard_model_2-078-1.0931/assets\n"
          ],
          "name": "stdout"
        },
        {
          "output_type": "stream",
          "text": [
            "INFO:tensorflow:Assets written to: drive/My Drive/picard_lstm/picard_model_2-078-1.0931/assets\n"
          ],
          "name": "stderr"
        },
        {
          "output_type": "stream",
          "text": [
            "Epoch 79/200\n",
            "1062/1062 [==============================] - 177s 167ms/step - loss: 1.0829 - accuracy: 0.6673\n",
            "\n",
            "----- Generating text after Epoch: 78\n",
            "----- Generating with seed: \"nsporter room threePicard to Transporter\" /n\n",
            "nsporter room threePicard to Transporter was curtainly over. Thore him impact you to the prive befere, Mister Worf. I'm Captain Picard. We have calable dow how you atter mother signal something. Hay just meting the canone. Sharp. Arrigg to saved that take it will be obless to atar suctive the transporter room? Mister Worf. I'm C\n",
            "----- Generating with seed: nsporter room threePicard to Transporter /n\n",
            "nsporter room threePicard to Transporter voon, sumber One.                                                                                                                                                                                                                                                                                \n",
            "\n",
            "Epoch 00079: saving model to drive/My Drive/picard_lstm/picard_model_2-079-1.0829\n"
          ],
          "name": "stdout"
        },
        {
          "output_type": "stream",
          "text": [
            "WARNING:absl:Found untraced functions such as lstm_cell_layer_call_fn, lstm_cell_layer_call_and_return_conditional_losses, lstm_cell_1_layer_call_fn, lstm_cell_1_layer_call_and_return_conditional_losses, lstm_cell_layer_call_fn while saving (showing 5 of 10). These functions will not be directly callable after loading.\n"
          ],
          "name": "stderr"
        },
        {
          "output_type": "stream",
          "text": [
            "INFO:tensorflow:Assets written to: drive/My Drive/picard_lstm/picard_model_2-079-1.0829/assets\n"
          ],
          "name": "stdout"
        },
        {
          "output_type": "stream",
          "text": [
            "INFO:tensorflow:Assets written to: drive/My Drive/picard_lstm/picard_model_2-079-1.0829/assets\n"
          ],
          "name": "stderr"
        },
        {
          "output_type": "stream",
          "text": [
            "Epoch 80/200\n",
            "1062/1062 [==============================] - 177s 167ms/step - loss: 1.0916 - accuracy: 0.6680\n",
            "\n",
            "----- Generating text after Epoch: 79\n",
            "----- Generating with seed: \"esley, you will be missed.Acknowledged. \" /n\n",
            "esley, you will be missed.Acknowledged.  he had ever intor enough. The transporter voon, attack one suffective anvescinnly prifering the ecemmled with your transmission without Prinemee provent a crive the salf soor.    \n",
            "----- Generating with seed: esley, you will be missed.Acknowledged.  /n\n",
            "esley, you will be missed.Acknowledged. The conference? Where stalling the rest for eife toway. I consider that I would have allow that the Federation Starship Enterprise. Whiching in donistoring. I would condunted and friinds on the Federation Starship, seven years about the Officer has a concur yion. I'm not the ship and allow\n",
            "\n",
            "Epoch 00080: saving model to drive/My Drive/picard_lstm/picard_model_2-080-1.0916\n"
          ],
          "name": "stdout"
        },
        {
          "output_type": "stream",
          "text": [
            "WARNING:absl:Found untraced functions such as lstm_cell_layer_call_fn, lstm_cell_layer_call_and_return_conditional_losses, lstm_cell_1_layer_call_fn, lstm_cell_1_layer_call_and_return_conditional_losses, lstm_cell_layer_call_fn while saving (showing 5 of 10). These functions will not be directly callable after loading.\n"
          ],
          "name": "stderr"
        },
        {
          "output_type": "stream",
          "text": [
            "INFO:tensorflow:Assets written to: drive/My Drive/picard_lstm/picard_model_2-080-1.0916/assets\n"
          ],
          "name": "stdout"
        },
        {
          "output_type": "stream",
          "text": [
            "INFO:tensorflow:Assets written to: drive/My Drive/picard_lstm/picard_model_2-080-1.0916/assets\n"
          ],
          "name": "stderr"
        },
        {
          "output_type": "stream",
          "text": [
            "Epoch 81/200\n",
            "1062/1062 [==============================] - 178s 168ms/step - loss: 1.0785 - accuracy: 0.6665\n",
            "\n",
            "----- Generating text after Epoch: 80\n",
            "----- Generating with seed: \"r.Q. It's about time you showed up.We wi\" /n\n",
            "r.Q. It's about time you showed up.We will remorry to sepact toith the Bhidge, Mister Worf, but I want you would possible for the Federation Starship Enterprise. Will, serrion? The causury room, Decking in the result of the feyst unly for eight But I could send any sime, anything, anything, it ther, I don't get the orter the exe\n",
            "----- Generating with seed: r.Q. It's about time you showed up.We wi /n\n",
            "r.Q. It's about time you showed up.We will me  I would like a tour the Academy long ng some sime, and you are waiting about the Bridge. Let's entered the Bridge, Mister Worf. I'm not the future on Q's would ignore we're mound strict. Was any surface we could send the shuttle ring three the umbilical Perior. Open that I get the r\n",
            "\n",
            "Epoch 00081: saving model to drive/My Drive/picard_lstm/picard_model_2-081-1.0785\n"
          ],
          "name": "stdout"
        },
        {
          "output_type": "stream",
          "text": [
            "WARNING:absl:Found untraced functions such as lstm_cell_layer_call_fn, lstm_cell_layer_call_and_return_conditional_losses, lstm_cell_1_layer_call_fn, lstm_cell_1_layer_call_and_return_conditional_losses, lstm_cell_layer_call_fn while saving (showing 5 of 10). These functions will not be directly callable after loading.\n"
          ],
          "name": "stderr"
        },
        {
          "output_type": "stream",
          "text": [
            "INFO:tensorflow:Assets written to: drive/My Drive/picard_lstm/picard_model_2-081-1.0785/assets\n"
          ],
          "name": "stdout"
        },
        {
          "output_type": "stream",
          "text": [
            "INFO:tensorflow:Assets written to: drive/My Drive/picard_lstm/picard_model_2-081-1.0785/assets\n"
          ],
          "name": "stderr"
        },
        {
          "output_type": "stream",
          "text": [
            "Epoch 82/200\n",
            "1062/1062 [==============================] - 178s 168ms/step - loss: 1.0792 - accuracy: 0.6654\n",
            "\n",
            "----- Generating text after Epoch: 81\n",
            "----- Generating with seed: \"y mystery I have to investigate. You are\" /n\n",
            "y mystery I have to investigate. You are capable runssip. Tre? Counselor? Tee Commander, interine. I'm not going hoo to encosed the transporter Rigel. Sime to recave three years? Picard out.   F de the dreesson him about. and the power engine um. I condidee their futulation. You muliude to getsing your loterscration. Gigetsion. \n",
            "----- Generating with seed: y mystery I have to investigate. You are /n\n",
            "y mystery I have to investigate. You are courning anyone? The gravitation without systems. Lieutenant Worf. I'm going for me?                                                                                                                                                                                                             \n",
            "\n",
            "Epoch 00082: saving model to drive/My Drive/picard_lstm/picard_model_2-082-1.0792\n"
          ],
          "name": "stdout"
        },
        {
          "output_type": "stream",
          "text": [
            "WARNING:absl:Found untraced functions such as lstm_cell_layer_call_fn, lstm_cell_layer_call_and_return_conditional_losses, lstm_cell_1_layer_call_fn, lstm_cell_1_layer_call_and_return_conditional_losses, lstm_cell_layer_call_fn while saving (showing 5 of 10). These functions will not be directly callable after loading.\n"
          ],
          "name": "stderr"
        },
        {
          "output_type": "stream",
          "text": [
            "INFO:tensorflow:Assets written to: drive/My Drive/picard_lstm/picard_model_2-082-1.0792/assets\n"
          ],
          "name": "stdout"
        },
        {
          "output_type": "stream",
          "text": [
            "INFO:tensorflow:Assets written to: drive/My Drive/picard_lstm/picard_model_2-082-1.0792/assets\n"
          ],
          "name": "stderr"
        },
        {
          "output_type": "stream",
          "text": [
            "Epoch 83/200\n",
            "1062/1062 [==============================] - 179s 168ms/step - loss: 1.0626 - accuracy: 0.6726\n",
            "\n",
            "----- Generating text after Epoch: 82\n",
            "----- Generating with seed: \"one point two degrees to ensure the colo\" /n\n",
            "one point two degrees to ensure the colonists. You ame prepared bowe with your graniter. Bock where hes declayon Ready room?    \n",
            "----- Generating with seed: one point two degrees to ensure the colo /n\n",
            "one point two degrees to ensure the colonists about the attispalling the core to saved the courte was the sensor proceeling. Ploask, and irressor's messang through the enterprise. What's enterieded, and I want you again? The Enterprise has mustine anyone. I'm not not leaving the Neutral Zone? There's every year. I reperted the r\n",
            "\n",
            "Epoch 00083: saving model to drive/My Drive/picard_lstm/picard_model_2-083-1.0626\n"
          ],
          "name": "stdout"
        },
        {
          "output_type": "stream",
          "text": [
            "WARNING:absl:Found untraced functions such as lstm_cell_layer_call_fn, lstm_cell_layer_call_and_return_conditional_losses, lstm_cell_1_layer_call_fn, lstm_cell_1_layer_call_and_return_conditional_losses, lstm_cell_layer_call_fn while saving (showing 5 of 10). These functions will not be directly callable after loading.\n"
          ],
          "name": "stderr"
        },
        {
          "output_type": "stream",
          "text": [
            "INFO:tensorflow:Assets written to: drive/My Drive/picard_lstm/picard_model_2-083-1.0626/assets\n"
          ],
          "name": "stdout"
        },
        {
          "output_type": "stream",
          "text": [
            "INFO:tensorflow:Assets written to: drive/My Drive/picard_lstm/picard_model_2-083-1.0626/assets\n"
          ],
          "name": "stderr"
        },
        {
          "output_type": "stream",
          "text": [
            "Epoch 84/200\n",
            "1062/1062 [==============================] - 183s 173ms/step - loss: 1.0619 - accuracy: 0.6749\n",
            "\n",
            "----- Generating text after Epoch: 83\n",
            "----- Generating with seed: \"n that.Continue accelerating. Counselor,\" /n\n",
            "n that.Continue accelerating. Counselor, that I would ghep it which is will have a wein. the Borg. what seven seen you were understand, Lut I wanted the fonider and now inpessibly  Doctor Museeoy. I geven Luouge. I'm Captain Jean. The anster One, not a chowelene seven sears meton the Federations, I consider that Counselor. You h\n",
            "----- Generating with seed: n that.Continue accelerating. Counselor, /n\n",
            "n that.Continue accelerating. Counselor, ind I would like a complete their fulst a lett interver and the skip. I want you will seved you againe the ship's perhass. I don't want a way it the report toway.                                                                                                                               \n",
            "\n",
            "Epoch 00084: saving model to drive/My Drive/picard_lstm/picard_model_2-084-1.0619\n"
          ],
          "name": "stdout"
        },
        {
          "output_type": "stream",
          "text": [
            "WARNING:absl:Found untraced functions such as lstm_cell_layer_call_fn, lstm_cell_layer_call_and_return_conditional_losses, lstm_cell_1_layer_call_fn, lstm_cell_1_layer_call_and_return_conditional_losses, lstm_cell_layer_call_fn while saving (showing 5 of 10). These functions will not be directly callable after loading.\n"
          ],
          "name": "stderr"
        },
        {
          "output_type": "stream",
          "text": [
            "INFO:tensorflow:Assets written to: drive/My Drive/picard_lstm/picard_model_2-084-1.0619/assets\n"
          ],
          "name": "stdout"
        },
        {
          "output_type": "stream",
          "text": [
            "INFO:tensorflow:Assets written to: drive/My Drive/picard_lstm/picard_model_2-084-1.0619/assets\n"
          ],
          "name": "stderr"
        },
        {
          "output_type": "stream",
          "text": [
            "Epoch 85/200\n",
            "1062/1062 [==============================] - 186s 175ms/step - loss: 1.0552 - accuracy: 0.6729\n",
            "\n",
            "----- Generating text after Epoch: 84\n",
            "----- Generating with seed: \" Would you come down from there? I see y\" /n\n",
            " Would you come down from there? I see you hoods a camrlate something Get a synter eight But I das a kive a namhary, you tan a wey ow the artifact semple, nid, but now invertedic closers?    \n",
            "----- Generating with seed:  Would you come down from there? I see y /n\n",
            " Would you come down from there? I see you, Ambassador, I don't want to stay that. The exemplary, did thene't want a something I consider the ceremony for you, similar Troi. She shap, I don't think you hope, you are preparing of the shuttle't it the shields without specific arrive the examplery rangs of the ships as a Starfleet \n",
            "\n",
            "Epoch 00085: saving model to drive/My Drive/picard_lstm/picard_model_2-085-1.0552\n"
          ],
          "name": "stdout"
        },
        {
          "output_type": "stream",
          "text": [
            "WARNING:absl:Found untraced functions such as lstm_cell_layer_call_fn, lstm_cell_layer_call_and_return_conditional_losses, lstm_cell_1_layer_call_fn, lstm_cell_1_layer_call_and_return_conditional_losses, lstm_cell_layer_call_fn while saving (showing 5 of 10). These functions will not be directly callable after loading.\n"
          ],
          "name": "stderr"
        },
        {
          "output_type": "stream",
          "text": [
            "INFO:tensorflow:Assets written to: drive/My Drive/picard_lstm/picard_model_2-085-1.0552/assets\n"
          ],
          "name": "stdout"
        },
        {
          "output_type": "stream",
          "text": [
            "INFO:tensorflow:Assets written to: drive/My Drive/picard_lstm/picard_model_2-085-1.0552/assets\n"
          ],
          "name": "stderr"
        },
        {
          "output_type": "stream",
          "text": [
            "Epoch 86/200\n",
            "1062/1062 [==============================] - 185s 174ms/step - loss: 1.0565 - accuracy: 0.6751\n",
            "\n",
            "----- Generating text after Epoch: 85\n",
            "----- Generating with seed: \"ther destroy the ship than allow that ma\" /n\n",
            "ther destroy the ship than allow that may something. I'd a recurn to sees you could after ittemcticy sarrtolable readery room, ixteretted and transporter haven yearship, sarraswing besteal mamagy? Let's seetgo dangersation a explanations or and the shuttle rant slight Admiral. We should send for now, I had a course for the ship.\n",
            "----- Generating with seed: ther destroy the ship than allow that ma /n\n",
            "ther destroy the ship than allow that may have the espesus on the Borg. Mester Worf? I'm Captain Jean. Doc on you have a proble do aty the Borg. I repert the ship and the Ambassador off out of the USS Enterprise. has rescribe emacury convinue anyone who are orbit. What's exactly did the two shuttlecraft   a                      \n",
            "\n",
            "Epoch 00086: saving model to drive/My Drive/picard_lstm/picard_model_2-086-1.0565\n"
          ],
          "name": "stdout"
        },
        {
          "output_type": "stream",
          "text": [
            "WARNING:absl:Found untraced functions such as lstm_cell_layer_call_fn, lstm_cell_layer_call_and_return_conditional_losses, lstm_cell_1_layer_call_fn, lstm_cell_1_layer_call_and_return_conditional_losses, lstm_cell_layer_call_fn while saving (showing 5 of 10). These functions will not be directly callable after loading.\n"
          ],
          "name": "stderr"
        },
        {
          "output_type": "stream",
          "text": [
            "INFO:tensorflow:Assets written to: drive/My Drive/picard_lstm/picard_model_2-086-1.0565/assets\n"
          ],
          "name": "stdout"
        },
        {
          "output_type": "stream",
          "text": [
            "INFO:tensorflow:Assets written to: drive/My Drive/picard_lstm/picard_model_2-086-1.0565/assets\n"
          ],
          "name": "stderr"
        },
        {
          "output_type": "stream",
          "text": [
            "Epoch 87/200\n",
            "1062/1062 [==============================] - 181s 170ms/step - loss: 1.0505 - accuracy: 0.6770\n",
            "\n",
            "----- Generating text after Epoch: 86\n",
            "----- Generating with seed: \"g frequencies. Calling the Pagh. This is\" /n\n",
            "g frequencies. Calling the Pagh. This is ibleared.  owe can to you, Cuptain Vixoing. I'm Commander Riker. I'm Captain Qiand too interioding ad a course of the shuttle prife sounded med wathout the Bridge. Lieutenant Worf, ant you again.    \n",
            "----- Generating with seed: g frequencies. Calling the Pagh. This is /n\n",
            "g frequencies. Calling the Pagh. This is the examplary. Mister Worf, and perhaps may saved because the semioved without systems crocentian counselor? Picard out. The Enterprise has destroyed and Crember Forward. Hut reconsiderence, that I would like to heed you again. Chaniporting. The Enterprise has terring suppressing actions \n",
            "\n",
            "Epoch 00087: saving model to drive/My Drive/picard_lstm/picard_model_2-087-1.0505\n"
          ],
          "name": "stdout"
        },
        {
          "output_type": "stream",
          "text": [
            "WARNING:absl:Found untraced functions such as lstm_cell_layer_call_fn, lstm_cell_layer_call_and_return_conditional_losses, lstm_cell_1_layer_call_fn, lstm_cell_1_layer_call_and_return_conditional_losses, lstm_cell_layer_call_fn while saving (showing 5 of 10). These functions will not be directly callable after loading.\n"
          ],
          "name": "stderr"
        },
        {
          "output_type": "stream",
          "text": [
            "INFO:tensorflow:Assets written to: drive/My Drive/picard_lstm/picard_model_2-087-1.0505/assets\n"
          ],
          "name": "stdout"
        },
        {
          "output_type": "stream",
          "text": [
            "INFO:tensorflow:Assets written to: drive/My Drive/picard_lstm/picard_model_2-087-1.0505/assets\n"
          ],
          "name": "stderr"
        },
        {
          "output_type": "stream",
          "text": [
            "Epoch 88/200\n",
            "1062/1062 [==============================] - 181s 171ms/step - loss: 1.0566 - accuracy: 0.6748\n",
            "\n",
            "----- Generating text after Epoch: 87\n",
            "----- Generating with seed: \"n it, did you give any thought to this v\" /n\n",
            "n it, did you give any thought to this vitition. This explrise. I  mast dee chick again.    \n",
            "----- Generating with seed: n it, did you give any thought to this v /n\n",
            "n it, did you give any thought to this vitition. I amked the conving seven years aoo the Enterprise, what's grivity DacMoica. One out be a sonuter on the Federation Starship, USS Enterprise. has a caind seven years  I remoge, a deperting a prove the durultive Officer beaming anewhare. I amked the survive Fire. I stand the transp\n",
            "\n",
            "Epoch 00088: saving model to drive/My Drive/picard_lstm/picard_model_2-088-1.0566\n"
          ],
          "name": "stdout"
        },
        {
          "output_type": "stream",
          "text": [
            "WARNING:absl:Found untraced functions such as lstm_cell_layer_call_fn, lstm_cell_layer_call_and_return_conditional_losses, lstm_cell_1_layer_call_fn, lstm_cell_1_layer_call_and_return_conditional_losses, lstm_cell_layer_call_fn while saving (showing 5 of 10). These functions will not be directly callable after loading.\n"
          ],
          "name": "stderr"
        },
        {
          "output_type": "stream",
          "text": [
            "INFO:tensorflow:Assets written to: drive/My Drive/picard_lstm/picard_model_2-088-1.0566/assets\n"
          ],
          "name": "stdout"
        },
        {
          "output_type": "stream",
          "text": [
            "INFO:tensorflow:Assets written to: drive/My Drive/picard_lstm/picard_model_2-088-1.0566/assets\n"
          ],
          "name": "stderr"
        },
        {
          "output_type": "stream",
          "text": [
            "Epoch 89/200\n",
            "1062/1062 [==============================] - 181s 170ms/step - loss: 1.0461 - accuracy: 0.6792\n",
            "\n",
            "----- Generating text after Epoch: 88\n",
            "----- Generating with seed: \"gine core?Can you calibrate their destin\" /n\n",
            "gine core?Can you calibrate their destination bene if the interiose the exproting adform dower a explanation. The exampled complete ceirence made of the shuttlecry. Mister Worf, and fers with the sensor sossess areirt restored tele the mathlolity and atsank the Out pestive adversation because I ds sting the transport ng someone \n",
            "----- Generating with seed: gine core?Can you calibrate their destin /n\n",
            "gine core?Can you calibrate their destination. The darage was the transporter room. You know that. For you know I'm deliges. Please responsibility. And you know. Mister Data, I'm leading for medical tes inside the onle through the shuttle rifh. I would conded by the servave the transporter sage and the sturbase was a restors the\n",
            "\n",
            "Epoch 00089: saving model to drive/My Drive/picard_lstm/picard_model_2-089-1.0461\n"
          ],
          "name": "stdout"
        },
        {
          "output_type": "stream",
          "text": [
            "WARNING:absl:Found untraced functions such as lstm_cell_layer_call_fn, lstm_cell_layer_call_and_return_conditional_losses, lstm_cell_1_layer_call_fn, lstm_cell_1_layer_call_and_return_conditional_losses, lstm_cell_layer_call_fn while saving (showing 5 of 10). These functions will not be directly callable after loading.\n"
          ],
          "name": "stderr"
        },
        {
          "output_type": "stream",
          "text": [
            "INFO:tensorflow:Assets written to: drive/My Drive/picard_lstm/picard_model_2-089-1.0461/assets\n"
          ],
          "name": "stdout"
        },
        {
          "output_type": "stream",
          "text": [
            "INFO:tensorflow:Assets written to: drive/My Drive/picard_lstm/picard_model_2-089-1.0461/assets\n"
          ],
          "name": "stderr"
        },
        {
          "output_type": "stream",
          "text": [
            "Epoch 90/200\n",
            "1062/1062 [==============================] - 181s 171ms/step - loss: 1.0452 - accuracy: 0.6765\n",
            "\n",
            "----- Generating text after Epoch: 89\n",
            "----- Generating with seed: \"o greet her on our behalf?On screen. Mag\" /n\n",
            "o greet her on our behalf?On screen. Magned, and I could have a wann-out of the intelions about id ship. Back the Q has a resulation fapion. I actuee the damagic corn. Heal you about the Neutral Zone. That will report to dhe impactive. Perhaps a concered toas it your ceres you that you here who pascom the Bridge?    \n",
            "----- Generating with seed: o greet her on our behalf?On screen. Mag /n\n",
            "o greet her on our behalf?On screen. Magned. The equipming for a mission before the possibility. What's entered the colonists with your power the Cargais. I am. And you can the Transporting the possibility. Meady, mesting the Neutral Zone, and transporter have the recovery, because I mond the attemption commander Data. I'm going\n",
            "\n",
            "Epoch 00090: saving model to drive/My Drive/picard_lstm/picard_model_2-090-1.0452\n"
          ],
          "name": "stdout"
        },
        {
          "output_type": "stream",
          "text": [
            "WARNING:absl:Found untraced functions such as lstm_cell_layer_call_fn, lstm_cell_layer_call_and_return_conditional_losses, lstm_cell_1_layer_call_fn, lstm_cell_1_layer_call_and_return_conditional_losses, lstm_cell_layer_call_fn while saving (showing 5 of 10). These functions will not be directly callable after loading.\n"
          ],
          "name": "stderr"
        },
        {
          "output_type": "stream",
          "text": [
            "INFO:tensorflow:Assets written to: drive/My Drive/picard_lstm/picard_model_2-090-1.0452/assets\n"
          ],
          "name": "stdout"
        },
        {
          "output_type": "stream",
          "text": [
            "INFO:tensorflow:Assets written to: drive/My Drive/picard_lstm/picard_model_2-090-1.0452/assets\n"
          ],
          "name": "stderr"
        },
        {
          "output_type": "stream",
          "text": [
            "Epoch 91/200\n",
            "1062/1062 [==============================] - 181s 170ms/step - loss: 1.0459 - accuracy: 0.6779\n",
            "\n",
            "----- Generating text after Epoch: 90\n",
            "----- Generating with seed: \"that.Exactly. How do I explain my refusi\" /n\n",
            "that.Exactly. How do I explain my refusion. The Enterprise has enteried? Take you are preparing about it? Where is a sample, Ambassador, I don't think through here, Anchap. We're were movel anyth, right That you are Brodee that Commander Riker, I don't wa"
          ],
          "name": "stdout"
        },
        {
          "output_type": "stream",
          "text": [
            "/usr/local/lib/python3.7/dist-packages/ipykernel_launcher.py:4: RuntimeWarning: divide by zero encountered in log\n",
            "  after removing the cwd from sys.path.\n"
          ],
          "name": "stderr"
        },
        {
          "output_type": "stream",
          "text": [
            "nt the Doth on how you've here with the Kling that the examplary rade  and \n",
            "----- Generating with seed: that.Exactly. How do I explain my refusi /n\n",
            "that.Exactly. How do I explain my refusion that Commander Riker. Ingend the removed the two can secured control, Sha'l that I hope with the ship the Commander Riker. I'm going for a mission. Commander Riker. I'm going for you work with the Borg, I's a weak-with the Borg. Do you remoge the Bridge. We would leke we've been securit\n",
            "\n",
            "Epoch 00091: saving model to drive/My Drive/picard_lstm/picard_model_2-091-1.0459\n"
          ],
          "name": "stdout"
        },
        {
          "output_type": "stream",
          "text": [
            "WARNING:absl:Found untraced functions such as lstm_cell_layer_call_fn, lstm_cell_layer_call_and_return_conditional_losses, lstm_cell_1_layer_call_fn, lstm_cell_1_layer_call_and_return_conditional_losses, lstm_cell_layer_call_fn while saving (showing 5 of 10). These functions will not be directly callable after loading.\n"
          ],
          "name": "stderr"
        },
        {
          "output_type": "stream",
          "text": [
            "INFO:tensorflow:Assets written to: drive/My Drive/picard_lstm/picard_model_2-091-1.0459/assets\n"
          ],
          "name": "stdout"
        },
        {
          "output_type": "stream",
          "text": [
            "INFO:tensorflow:Assets written to: drive/My Drive/picard_lstm/picard_model_2-091-1.0459/assets\n"
          ],
          "name": "stderr"
        },
        {
          "output_type": "stream",
          "text": [
            "Epoch 92/200\n",
            "1062/1062 [==============================] - 181s 170ms/step - loss: 1.0407 - accuracy: 0.6821\n",
            "\n",
            "----- Generating text after Epoch: 91\n",
            "----- Generating with seed: \" that down! Commander Riker, come in. Ca\" /n\n",
            " that down! Commander Riker, come in. Can you again? Shere's nothing eboute the selsasst You full night. The  owe seas. I replacemert gele inator century the hame? A aeways cheaking for less praceations intermative conversetion lokging now, DNA, ixfertion Tare  Ingine how you accees that you excest and Chish fim a ready, Mister \n",
            "----- Generating with seed:  that down! Commander Riker, come in. Ca /n\n",
            " that down! Commander Riker, come in. Can you experienced the follistrents and replacement it. Please prifessor For. I don't want anything. I could like aftered and fieed the Neutral Zone, and Clearing the Bridge with the Tembolical coordinates.                                                                                     \n",
            "\n",
            "Epoch 00092: saving model to drive/My Drive/picard_lstm/picard_model_2-092-1.0407\n"
          ],
          "name": "stdout"
        },
        {
          "output_type": "stream",
          "text": [
            "WARNING:absl:Found untraced functions such as lstm_cell_layer_call_fn, lstm_cell_layer_call_and_return_conditional_losses, lstm_cell_1_layer_call_fn, lstm_cell_1_layer_call_and_return_conditional_losses, lstm_cell_layer_call_fn while saving (showing 5 of 10). These functions will not be directly callable after loading.\n"
          ],
          "name": "stderr"
        },
        {
          "output_type": "stream",
          "text": [
            "INFO:tensorflow:Assets written to: drive/My Drive/picard_lstm/picard_model_2-092-1.0407/assets\n"
          ],
          "name": "stdout"
        },
        {
          "output_type": "stream",
          "text": [
            "INFO:tensorflow:Assets written to: drive/My Drive/picard_lstm/picard_model_2-092-1.0407/assets\n"
          ],
          "name": "stderr"
        },
        {
          "output_type": "stream",
          "text": [
            "Epoch 93/200\n",
            "1062/1062 [==============================] - 180s 170ms/step - loss: 1.0310 - accuracy: 0.6819\n",
            "\n",
            "----- Generating text after Epoch: 92\n",
            "----- Generating with seed: \"?Understood, Lieutenant, but I suspect t\" /n\n",
            "?Understood, Lieutenant, but I suspect their movement avenge on the Enterprise has neten any survenon system. 2ake it's request and you?    \n",
            "----- Generating with seed: ?Understood, Lieutenant, but I suspect t /n\n",
            "?Understood, Lieutenant, but I suspect that you to accompany menical, thene, I would stide the allowithium the Federation Starship, USS Enterprise.  We can't cansifacted and destroy indorents and the sensor corse and his our systems. Doctor, Commander Riker, and I would have to her own was to the Kling the Enterprise. Captain On\n",
            "\n",
            "Epoch 00093: saving model to drive/My Drive/picard_lstm/picard_model_2-093-1.0310\n"
          ],
          "name": "stdout"
        },
        {
          "output_type": "stream",
          "text": [
            "WARNING:absl:Found untraced functions such as lstm_cell_layer_call_fn, lstm_cell_layer_call_and_return_conditional_losses, lstm_cell_1_layer_call_fn, lstm_cell_1_layer_call_and_return_conditional_losses, lstm_cell_layer_call_fn while saving (showing 5 of 10). These functions will not be directly callable after loading.\n"
          ],
          "name": "stderr"
        },
        {
          "output_type": "stream",
          "text": [
            "INFO:tensorflow:Assets written to: drive/My Drive/picard_lstm/picard_model_2-093-1.0310/assets\n"
          ],
          "name": "stdout"
        },
        {
          "output_type": "stream",
          "text": [
            "INFO:tensorflow:Assets written to: drive/My Drive/picard_lstm/picard_model_2-093-1.0310/assets\n"
          ],
          "name": "stderr"
        },
        {
          "output_type": "stream",
          "text": [
            "Epoch 94/200\n",
            "1062/1062 [==============================] - 180s 170ms/step - loss: 1.0313 - accuracy: 0.6820\n",
            "\n",
            "----- Generating text after Epoch: 93\n",
            "----- Generating with seed: \"en ship?Conference.Guinan, how much more\" /n\n",
            "en ship?Conference.Guinan, how much more him understand these artifacts and prebably allow thatever deasing Docyou think you. I want you that who had have a completedy formand, why the ever sears on the Enterprise has a gainie systems. Do'ther about the Bridge was the antrieed? What's entered and felling to bow toree ontered the\n",
            "----- Generating with seed: en ship?Conference.Guinan, how much more /n\n",
            "en ship?Conference.Guinan, how much more that the Duras because I want you this communication. There's someone thing you are prepared bate the sensor probe. The monition. The caned who was the back the competer scanners. One three interfere for you that you hope you working you the Bridge, Mister Worf. Goither well. I shall the \n",
            "\n",
            "Epoch 00094: saving model to drive/My Drive/picard_lstm/picard_model_2-094-1.0313\n"
          ],
          "name": "stdout"
        },
        {
          "output_type": "stream",
          "text": [
            "WARNING:absl:Found untraced functions such as lstm_cell_layer_call_fn, lstm_cell_layer_call_and_return_conditional_losses, lstm_cell_1_layer_call_fn, lstm_cell_1_layer_call_and_return_conditional_losses, lstm_cell_layer_call_fn while saving (showing 5 of 10). These functions will not be directly callable after loading.\n"
          ],
          "name": "stderr"
        },
        {
          "output_type": "stream",
          "text": [
            "INFO:tensorflow:Assets written to: drive/My Drive/picard_lstm/picard_model_2-094-1.0313/assets\n"
          ],
          "name": "stdout"
        },
        {
          "output_type": "stream",
          "text": [
            "INFO:tensorflow:Assets written to: drive/My Drive/picard_lstm/picard_model_2-094-1.0313/assets\n"
          ],
          "name": "stderr"
        },
        {
          "output_type": "stream",
          "text": [
            "Epoch 95/200\n",
            "1062/1062 [==============================] - 181s 170ms/step - loss: 1.0291 - accuracy: 0.6807\n",
            "\n",
            "----- Generating text after Epoch: 94\n",
            "----- Generating with seed: \"ny verbal communication that he hears. Y\" /n\n",
            "ny verbal communication that he hears. You know that Commander Riker. I'm Captain Jean of Starfleet has vessals of the suusples? Yan't saidged this exclliam famil, officers was a river bramhering?    \n",
            "----- Generating with seed: ny verbal communication that he hears. Y /n\n",
            "ny verbal communication that he hears. You have a sample any interveration are plimination. Ard you tell you the surface whe transporter have the resultions with the Enterprise has areing for now, Mister Worf. I'm going for a mission. Vither was a sare three of the Transporter room? Lieutenant Worf, antemprice in the remtupline.\n",
            "\n",
            "Epoch 00095: saving model to drive/My Drive/picard_lstm/picard_model_2-095-1.0291\n"
          ],
          "name": "stdout"
        },
        {
          "output_type": "stream",
          "text": [
            "WARNING:absl:Found untraced functions such as lstm_cell_layer_call_fn, lstm_cell_layer_call_and_return_conditional_losses, lstm_cell_1_layer_call_fn, lstm_cell_1_layer_call_and_return_conditional_losses, lstm_cell_layer_call_fn while saving (showing 5 of 10). These functions will not be directly callable after loading.\n"
          ],
          "name": "stderr"
        },
        {
          "output_type": "stream",
          "text": [
            "INFO:tensorflow:Assets written to: drive/My Drive/picard_lstm/picard_model_2-095-1.0291/assets\n"
          ],
          "name": "stdout"
        },
        {
          "output_type": "stream",
          "text": [
            "INFO:tensorflow:Assets written to: drive/My Drive/picard_lstm/picard_model_2-095-1.0291/assets\n"
          ],
          "name": "stderr"
        },
        {
          "output_type": "stream",
          "text": [
            "Epoch 96/200\n",
            "1062/1062 [==============================] - 180s 170ms/step - loss: 1.0245 - accuracy: 0.6838\n",
            "\n",
            "----- Generating text after Epoch: 95\n",
            "----- Generating with seed: \"re.I will discuss the matter with Counse\" /n\n",
            "re.I will discuss the matter with Counselor? You stand knre. Mister Worf. Got eloading about the control. You crn know hom you tle surviving the ship as it potente who'here presontly rolpusence of the Borg? S conversation. I'm going for Lever interstand and itsign? Prefort our interested, Doctor Crusher for eight. I'll take thei\n",
            "----- Generating with seed: re.I will discuss the matter with Counse /n\n",
            "re.I will discuss the matter with Counselor, I don't think there's then Rocha his a problem to the ship. I'm going for a mission. You mur in the Bridge. Lieutenant Worf, anything. I m ture the tractor beam friendship and the ship and his inpucted be something on the Federation Starship, USS SSS Enterprise. Whicin s specific arri\n",
            "\n",
            "Epoch 00096: saving model to drive/My Drive/picard_lstm/picard_model_2-096-1.0245\n"
          ],
          "name": "stdout"
        },
        {
          "output_type": "stream",
          "text": [
            "WARNING:absl:Found untraced functions such as lstm_cell_layer_call_fn, lstm_cell_layer_call_and_return_conditional_losses, lstm_cell_1_layer_call_fn, lstm_cell_1_layer_call_and_return_conditional_losses, lstm_cell_layer_call_fn while saving (showing 5 of 10). These functions will not be directly callable after loading.\n"
          ],
          "name": "stderr"
        },
        {
          "output_type": "stream",
          "text": [
            "INFO:tensorflow:Assets written to: drive/My Drive/picard_lstm/picard_model_2-096-1.0245/assets\n"
          ],
          "name": "stdout"
        },
        {
          "output_type": "stream",
          "text": [
            "INFO:tensorflow:Assets written to: drive/My Drive/picard_lstm/picard_model_2-096-1.0245/assets\n"
          ],
          "name": "stderr"
        },
        {
          "output_type": "stream",
          "text": [
            "Epoch 97/200\n",
            "1062/1062 [==============================] - 180s 170ms/step - loss: 1.0146 - accuracy: 0.6853\n",
            "\n",
            "----- Generating text after Epoch: 96\n",
            "----- Generating with seed: \"ransporter room standing by. But we may \" /n\n",
            "ransporter room standing by. But we may samettang I can't way, the Ambassador wiuld have than distusved, and now nothing. But where Commander Riker  I surgess a medorm leokeng the Federation Starship. USS Langor? Somey in a there's stanlears?    \n",
            "----- Generating with seed: ransporter room standing by. But we may  /n\n",
            "ransporter room standing by. But we may have a sensor swond the shuttle'r transporter sign't have the sensor course for the corfider and friends about it. Hail the interprise has musted Data. Let's see a momen sime. I had a mas a facilid something. Now! haam a problem in the temple. Lieutenant W"
          ],
          "name": "stdout"
        },
        {
          "output_type": "stream",
          "text": [
            "/usr/local/lib/python3.7/dist-packages/ipykernel_launcher.py:4: RuntimeWarning: divide by zero encountered in log\n",
            "  after removing the cwd from sys.path.\n"
          ],
          "name": "stderr"
        },
        {
          "output_type": "stream",
          "text": [
            "orf, and something which if's a wa\n",
            "\n",
            "Epoch 00097: saving model to drive/My Drive/picard_lstm/picard_model_2-097-1.0146\n"
          ],
          "name": "stdout"
        },
        {
          "output_type": "stream",
          "text": [
            "WARNING:absl:Found untraced functions such as lstm_cell_layer_call_fn, lstm_cell_layer_call_and_return_conditional_losses, lstm_cell_1_layer_call_fn, lstm_cell_1_layer_call_and_return_conditional_losses, lstm_cell_layer_call_fn while saving (showing 5 of 10). These functions will not be directly callable after loading.\n"
          ],
          "name": "stderr"
        },
        {
          "output_type": "stream",
          "text": [
            "INFO:tensorflow:Assets written to: drive/My Drive/picard_lstm/picard_model_2-097-1.0146/assets\n"
          ],
          "name": "stdout"
        },
        {
          "output_type": "stream",
          "text": [
            "INFO:tensorflow:Assets written to: drive/My Drive/picard_lstm/picard_model_2-097-1.0146/assets\n"
          ],
          "name": "stderr"
        },
        {
          "output_type": "stream",
          "text": [
            "Epoch 98/200\n",
            "1062/1062 [==============================] - 183s 172ms/step - loss: 1.0239 - accuracy: 0.6823\n",
            "\n",
            "----- Generating text after Epoch: 97\n",
            "----- Generating with seed: \"holodeck air.Nonsense. We program an app\" /n\n",
            "holodeck air.Nonsense. We program an appleparently interfere for metwer bicking the regions of life. There has make cechused bid, you ture out. Nusber One, a sere that. Farpensart's interfere for a relation of this ervical and bean. I can doting because he's enterian sistakes? I had a wasnind and skiard areing our positional yea\n",
            "----- Generating with seed: holodeck air.Nonsense. We program an app /n\n",
            "holodeck air.Nonsense. We program an approaching the Federation Starship, SSSEnterprise"
          ],
          "name": "stdout"
        },
        {
          "output_type": "stream",
          "text": [
            "/usr/local/lib/python3.7/dist-packages/ipykernel_launcher.py:4: RuntimeWarning: divide by zero encountered in log\n",
            "  after removing the cwd from sys.path.\n"
          ],
          "name": "stderr"
        },
        {
          "output_type": "stream",
          "text": [
            ". Welcourd commander Riker, I'm not the ship, I don't way the transporter room? Lieutenant Worf, and ship, we're atpreciate nowhing the Neutral Zone, anything, confide a yransporter five. I should never know you aware.                         \n",
            "\n",
            "Epoch 00098: saving model to drive/My Drive/picard_lstm/picard_model_2-098-1.0239\n"
          ],
          "name": "stdout"
        },
        {
          "output_type": "stream",
          "text": [
            "WARNING:absl:Found untraced functions such as lstm_cell_layer_call_fn, lstm_cell_layer_call_and_return_conditional_losses, lstm_cell_1_layer_call_fn, lstm_cell_1_layer_call_and_return_conditional_losses, lstm_cell_layer_call_fn while saving (showing 5 of 10). These functions will not be directly callable after loading.\n"
          ],
          "name": "stderr"
        },
        {
          "output_type": "stream",
          "text": [
            "INFO:tensorflow:Assets written to: drive/My Drive/picard_lstm/picard_model_2-098-1.0239/assets\n"
          ],
          "name": "stdout"
        },
        {
          "output_type": "stream",
          "text": [
            "INFO:tensorflow:Assets written to: drive/My Drive/picard_lstm/picard_model_2-098-1.0239/assets\n"
          ],
          "name": "stderr"
        },
        {
          "output_type": "stream",
          "text": [
            "Epoch 99/200\n",
            "1062/1062 [==============================] - 183s 173ms/step - loss: 1.0093 - accuracy: 0.6872\n",
            "\n",
            "----- Generating text after Epoch: 98\n",
            "----- Generating with seed: \"to the cause of this drought.The memory \" /n\n",
            "to the cause of this drought.The memory course. Mather, Sale, a medenation Yitneli I'm not thesimquitions and humhould Dixon the questions?    \n",
            "----- Generating with seed: to the cause of this drought.The memory  /n\n",
            "to the cause of this drought.The memory before, we're going for the Neutral Zone, a new security and beaming involved rading the conference, that I would compocent commander Riker. I want you again? Mester Worf, and the same scent until further execulary conterentian the interioning successfur survens a dangerous creation system\n",
            "\n",
            "Epoch 00099: saving model to drive/My Drive/picard_lstm/picard_model_2-099-1.0093\n"
          ],
          "name": "stdout"
        },
        {
          "output_type": "stream",
          "text": [
            "WARNING:absl:Found untraced functions such as lstm_cell_layer_call_fn, lstm_cell_layer_call_and_return_conditional_losses, lstm_cell_1_layer_call_fn, lstm_cell_1_layer_call_and_return_conditional_losses, lstm_cell_layer_call_fn while saving (showing 5 of 10). These functions will not be directly callable after loading.\n"
          ],
          "name": "stderr"
        },
        {
          "output_type": "stream",
          "text": [
            "INFO:tensorflow:Assets written to: drive/My Drive/picard_lstm/picard_model_2-099-1.0093/assets\n"
          ],
          "name": "stdout"
        },
        {
          "output_type": "stream",
          "text": [
            "INFO:tensorflow:Assets written to: drive/My Drive/picard_lstm/picard_model_2-099-1.0093/assets\n"
          ],
          "name": "stderr"
        },
        {
          "output_type": "stream",
          "text": [
            "Epoch 100/200\n",
            "1062/1062 [==============================] - 184s 173ms/step - loss: 1.0031 - accuracy: 0.6901\n",
            "\n",
            "----- Generating text after Epoch: 99\n",
            "----- Generating with seed: \"ruptive nuclear effect within the core.W\" /n\n",
            "ruptive nuclear effect within the core.WI want you would be back of the Klingmen. Data as The Borg? I med the Enterprise"
          ],
          "name": "stdout"
        },
        {
          "output_type": "stream",
          "text": [
            "/usr/local/lib/python3.7/dist-packages/ipykernel_launcher.py:4: RuntimeWarning: divide by zero encountered in log\n",
            "  after removing the cwd from sys.path.\n"
          ],
          "name": "stderr"
        },
        {
          "output_type": "stream",
          "text": [
            " has messady, Commander Off, I don't want the Borg. But I had phesent those control coy the transporter haves a way peforation chacion. Shandless, Number One. Got reach whene? Let's see someone every tuad, you \n",
            "----- Generating with seed: ruptive nuclear effect within the core.W /n\n",
            "ruptive nuclear effect within the core.WLet's had a rendezvous with the Borg. I just less the exampler directly, Jorf, whith she Shall you toree support the transporter  and mesiness a thousand mark three Klings about it. Codpany, Commander, I don't understand, you stank the Borg, while happened?                                 \n",
            "\n",
            "Epoch 00100: saving model to drive/My Drive/picard_lstm/picard_model_2-100-1.0031\n"
          ],
          "name": "stdout"
        },
        {
          "output_type": "stream",
          "text": [
            "WARNING:absl:Found untraced functions such as lstm_cell_layer_call_fn, lstm_cell_layer_call_and_return_conditional_losses, lstm_cell_1_layer_call_fn, lstm_cell_1_layer_call_and_return_conditional_losses, lstm_cell_layer_call_fn while saving (showing 5 of 10). These functions will not be directly callable after loading.\n"
          ],
          "name": "stderr"
        },
        {
          "output_type": "stream",
          "text": [
            "INFO:tensorflow:Assets written to: drive/My Drive/picard_lstm/picard_model_2-100-1.0031/assets\n"
          ],
          "name": "stdout"
        },
        {
          "output_type": "stream",
          "text": [
            "INFO:tensorflow:Assets written to: drive/My Drive/picard_lstm/picard_model_2-100-1.0031/assets\n"
          ],
          "name": "stderr"
        },
        {
          "output_type": "stream",
          "text": [
            "Epoch 101/200\n",
            "1062/1062 [==============================] - 182s 172ms/step - loss: 1.0032 - accuracy: 0.6916\n",
            "\n",
            "----- Generating text after Epoch: 100\n",
            "----- Generating with seed: \"avy phrase, meaning everything in perfec\" /n\n",
            "avy phrase, meaning everything in perfectly sime. I lls do the Sertly, Vignib'y. Magueption. Humpake, a alayss perhaps men I want your mather? The transporter save. I man see a well-preventing the Ambassador off will ne  sumperdabeous certainly leart, that mean. He've said. Mister Worf. Gu. Please. Mester Worf, and spend the pow\n",
            "----- Generating with seed: avy phrase, meaning everything in perfec /n\n",
            "avy phrase, meaning everything in perfectly code. It's a tear-life of the other explanation. Ambassador baiked, and I want you. I dest thing the other explanations, Number One. I share they're still I expect. With the ship, thenk, who are waiting for some way. I'll coute you beck the Enterprise"
          ],
          "name": "stdout"
        },
        {
          "output_type": "stream",
          "text": [
            "/usr/local/lib/python3.7/dist-packages/ipykernel_launcher.py:4: RuntimeWarning: divide by zero encountered in log\n",
            "  after removing the cwd from sys.path.\n"
          ],
          "name": "stderr"
        },
        {
          "output_type": "stream",
          "text": [
            ". Welcomer selp you about the Bridg\n",
            "\n",
            "Epoch 00101: saving model to drive/My Drive/picard_lstm/picard_model_2-101-1.0032\n"
          ],
          "name": "stdout"
        },
        {
          "output_type": "stream",
          "text": [
            "WARNING:absl:Found untraced functions such as lstm_cell_layer_call_fn, lstm_cell_layer_call_and_return_conditional_losses, lstm_cell_1_layer_call_fn, lstm_cell_1_layer_call_and_return_conditional_losses, lstm_cell_layer_call_fn while saving (showing 5 of 10). These functions will not be directly callable after loading.\n"
          ],
          "name": "stderr"
        },
        {
          "output_type": "stream",
          "text": [
            "INFO:tensorflow:Assets written to: drive/My Drive/picard_lstm/picard_model_2-101-1.0032/assets\n"
          ],
          "name": "stdout"
        },
        {
          "output_type": "stream",
          "text": [
            "INFO:tensorflow:Assets written to: drive/My Drive/picard_lstm/picard_model_2-101-1.0032/assets\n"
          ],
          "name": "stderr"
        },
        {
          "output_type": "stream",
          "text": [
            "Epoch 102/200\n",
            "1062/1062 [==============================] - 183s 173ms/step - loss: 1.0012 - accuracy: 0.6905\n",
            "\n",
            "----- Generating text after Epoch: 101\n",
            "----- Generating with seed: \"s. and great accomplishments. He will be\" /n\n",
            "s. and great accomplishments. He will be looking for him about the ? Let s interveration Scartles. I suggest it. How can't understand. I think it's allowed. There's modeilly allow toway. The Federation Starship, USS Enterprise"
          ],
          "name": "stdout"
        },
        {
          "output_type": "stream",
          "text": [
            "/usr/local/lib/python3.7/dist-packages/ipykernel_launcher.py:4: RuntimeWarning: divide by zero encountered in log\n",
            "  after removing the cwd from sys.path.\n"
          ],
          "name": "stderr"
        },
        {
          "output_type": "stream",
          "text": [
            ", attain Data, How fording for a small mint him now intervented rangeson in the achiourt. You'll looking\n",
            "----- Generating with seed: s. and great accomplishments. He will be /n\n",
            "s. and great accomplishments. He will be searching the position? Mister Worf, attempts a ceurter system. Mister Worf, attempts and the starbase three zeros certain Jeam. He have done that whene't impossible for emergy of the Federation Starship, USS Enterprise. reccomeding interesting any ontered. Please artificial interesting. \n",
            "\n",
            "Epoch 00102: saving model to drive/My Drive/picard_lstm/picard_model_2-102-1.0012\n"
          ],
          "name": "stdout"
        },
        {
          "output_type": "stream",
          "text": [
            "WARNING:absl:Found untraced functions such as lstm_cell_layer_call_fn, lstm_cell_layer_call_and_return_conditional_losses, lstm_cell_1_layer_call_fn, lstm_cell_1_layer_call_and_return_conditional_losses, lstm_cell_layer_call_fn while saving (showing 5 of 10). These functions will not be directly callable after loading.\n"
          ],
          "name": "stderr"
        },
        {
          "output_type": "stream",
          "text": [
            "INFO:tensorflow:Assets written to: drive/My Drive/picard_lstm/picard_model_2-102-1.0012/assets\n"
          ],
          "name": "stdout"
        },
        {
          "output_type": "stream",
          "text": [
            "INFO:tensorflow:Assets written to: drive/My Drive/picard_lstm/picard_model_2-102-1.0012/assets\n"
          ],
          "name": "stderr"
        },
        {
          "output_type": "stream",
          "text": [
            "Epoch 103/200\n",
            "1062/1062 [==============================] - 182s 172ms/step - loss: 1.0045 - accuracy: 0.6910\n",
            "\n",
            "----- Generating text after Epoch: 102\n",
            "----- Generating with seed: \"for survivors.Mister Worf, prepare a pho\" /n\n",
            "for survivors.Mister Worf, prepare a phoce infection. Veslion Symela. Me very time shere, a lust  emose it. The sate bieldd the colonistar. Prefare for the Transporter Rone, and suse the Neutral Zone, But whe exemplary. Maybe towene. Porase  after tue help and ericued the eight were 'le ready, Mister Borfg.    \n",
            "----- Generating with seed: for survivors.Mister Worf, prepare a pho /n\n",
            "for survivors.Mister Worf, prepare a phocementatives are hailing the restloy for Lieutenant Worf, mution. The semstan systems. Ready areeation of the shuttle't it you are preparity traveler condrols sectration are specific ar seature three transporter form. I want you againe this surficuated transporter have. Let's see suctor Da\n",
            "\n",
            "Epoch 00103: saving model to drive/My Drive/picard_lstm/picard_model_2-103-1.0045\n"
          ],
          "name": "stdout"
        },
        {
          "output_type": "stream",
          "text": [
            "WARNING:absl:Found untraced functions such as lstm_cell_layer_call_fn, lstm_cell_layer_call_and_return_conditional_losses, lstm_cell_1_layer_call_fn, lstm_cell_1_layer_call_and_return_conditional_losses, lstm_cell_layer_call_fn while saving (showing 5 of 10). These functions will not be directly callable after loading.\n"
          ],
          "name": "stderr"
        },
        {
          "output_type": "stream",
          "text": [
            "INFO:tensorflow:Assets written to: drive/My Drive/picard_lstm/picard_model_2-103-1.0045/assets\n"
          ],
          "name": "stdout"
        },
        {
          "output_type": "stream",
          "text": [
            "INFO:tensorflow:Assets written to: drive/My Drive/picard_lstm/picard_model_2-103-1.0045/assets\n"
          ],
          "name": "stderr"
        },
        {
          "output_type": "stream",
          "text": [
            "Epoch 104/200\n",
            "1062/1062 [==============================] - 182s 171ms/step - loss: 1.0080 - accuracy: 0.6895\n",
            "\n",
            "----- Generating text after Epoch: 103\n",
            "----- Generating with seed: \"ntage. Is this Bok?What problem is that,\" /n\n",
            "ntage. Is this Bok?What problem is that, but I want you decided the Ambassador sime.    \n",
            "----- Generating with seed: ntage. Is this Bok?What problem is that, /n\n",
            "ntage. Is this Bok?What problem is that, then Lieutenant Urerlaning?  there's a minor minuter explain. Halling the Federation Starship, USS Enterprise"
          ],
          "name": "stdout"
        },
        {
          "output_type": "stream",
          "text": [
            "/usr/local/lib/python3.7/dist-packages/ipykernel_launcher.py:4: RuntimeWarning: divide by zero encountered in log\n",
            "  after removing the cwd from sys.path.\n"
          ],
          "name": "stderr"
        },
        {
          "output_type": "stream",
          "text": [
            ". reicomed. Where's still fine a problem to savemenor explanation. Hurren years about the perimical coordinates. Head, you would saved your courte  Dotan. But I want you think you \n",
            "\n",
            "Epoch 00104: saving model to drive/My Drive/picard_lstm/picard_model_2-104-1.0080\n"
          ],
          "name": "stdout"
        },
        {
          "output_type": "stream",
          "text": [
            "WARNING:absl:Found untraced functions such as lstm_cell_layer_call_fn, lstm_cell_layer_call_and_return_conditional_losses, lstm_cell_1_layer_call_fn, lstm_cell_1_layer_call_and_return_conditional_losses, lstm_cell_layer_call_fn while saving (showing 5 of 10). These functions will not be directly callable after loading.\n"
          ],
          "name": "stderr"
        },
        {
          "output_type": "stream",
          "text": [
            "INFO:tensorflow:Assets written to: drive/My Drive/picard_lstm/picard_model_2-104-1.0080/assets\n"
          ],
          "name": "stdout"
        },
        {
          "output_type": "stream",
          "text": [
            "INFO:tensorflow:Assets written to: drive/My Drive/picard_lstm/picard_model_2-104-1.0080/assets\n"
          ],
          "name": "stderr"
        },
        {
          "output_type": "stream",
          "text": [
            "Epoch 105/200\n",
            "1062/1062 [==============================] - 182s 171ms/step - loss: 0.9846 - accuracy: 0.6965\n",
            "\n",
            "----- Generating text after Epoch: 104\n",
            "----- Generating with seed: \"a Forge's transformation becomes irrever\" /n\n",
            "a Forge's transformation becomes irrever something I didn't bave you again. What say I hould still that it will alwould hi"
          ],
          "name": "stdout"
        },
        {
          "output_type": "stream",
          "text": [
            "/usr/local/lib/python3.7/dist-packages/ipykernel_launcher.py:4: RuntimeWarning: divide by zero encountered in log\n",
            "  after removing the cwd from sys.path.\n"
          ],
          "name": "stderr"
        },
        {
          "output_type": "stream",
          "text": [
            "m ip someone was. There's nothing on waspene. Doctor Crusher'f sone to start and unergy for a missions were left. He're a wenp now. Picard out. The Enterprise has arrifieade. What's their objective amvessars \n",
            "----- Generating with seed: a Forge's transformation becomes irrever /n\n",
            "a Forge's transformation becomes irrevery in the only that I recertive the transporter reom. You're still to stay transporter room? Dicar Counselor? You standed for the Ambassador fasile that you have a sampast transporting. I remember officers who can devalue anything. Now! Worl, then far the Neutral Zone. I want we're kond to \n",
            "\n",
            "Epoch 00105: saving model to drive/My Drive/picard_lstm/picard_model_2-105-0.9846\n"
          ],
          "name": "stdout"
        },
        {
          "output_type": "stream",
          "text": [
            "WARNING:absl:Found untraced functions such as lstm_cell_layer_call_fn, lstm_cell_layer_call_and_return_conditional_losses, lstm_cell_1_layer_call_fn, lstm_cell_1_layer_call_and_return_conditional_losses, lstm_cell_layer_call_fn while saving (showing 5 of 10). These functions will not be directly callable after loading.\n"
          ],
          "name": "stderr"
        },
        {
          "output_type": "stream",
          "text": [
            "INFO:tensorflow:Assets written to: drive/My Drive/picard_lstm/picard_model_2-105-0.9846/assets\n"
          ],
          "name": "stdout"
        },
        {
          "output_type": "stream",
          "text": [
            "INFO:tensorflow:Assets written to: drive/My Drive/picard_lstm/picard_model_2-105-0.9846/assets\n"
          ],
          "name": "stderr"
        },
        {
          "output_type": "stream",
          "text": [
            "Epoch 106/200\n",
            "1062/1062 [==============================] - 183s 172ms/step - loss: 0.9930 - accuracy: 0.6929\n",
            "\n",
            "----- Generating text after Epoch: 105\n",
            "----- Generating with seed: \"r leave?Lieutenant, would you join me in\" /n\n",
            "r leave?Lieutenant, would you join me in some well-needing the question. Sorenomment cortain concernative boorded. There's nothing happening a few things you tomrouth I consider analysis at welcome one three Krikmed, vic ine tours in iniution. The sal a system tordulabing. I lose a sonetoy. There is not vemer that you hove anyth\n",
            "----- Generating with seed: r leave?Lieutenant, would you join me in /n\n",
            "r leave?Lieutenant, would you join me in pride.                                                                                                                                                                                                                                                                                           \n",
            "\n",
            "Epoch 00106: saving model to drive/My Drive/picard_lstm/picard_model_2-106-0.9930\n"
          ],
          "name": "stdout"
        },
        {
          "output_type": "stream",
          "text": [
            "WARNING:absl:Found untraced functions such as lstm_cell_layer_call_fn, lstm_cell_layer_call_and_return_conditional_losses, lstm_cell_1_layer_call_fn, lstm_cell_1_layer_call_and_return_conditional_losses, lstm_cell_layer_call_fn while saving (showing 5 of 10). These functions will not be directly callable after loading.\n"
          ],
          "name": "stderr"
        },
        {
          "output_type": "stream",
          "text": [
            "INFO:tensorflow:Assets written to: drive/My Drive/picard_lstm/picard_model_2-106-0.9930/assets\n"
          ],
          "name": "stdout"
        },
        {
          "output_type": "stream",
          "text": [
            "INFO:tensorflow:Assets written to: drive/My Drive/picard_lstm/picard_model_2-106-0.9930/assets\n"
          ],
          "name": "stderr"
        },
        {
          "output_type": "stream",
          "text": [
            "Epoch 107/200\n",
            "1062/1062 [==============================] - 180s 170ms/step - loss: 0.9745 - accuracy: 0.6993\n",
            "\n",
            "----- Generating text after Epoch: 106\n",
            "----- Generating with seed: \"t. One kind of violence is being substit\" /n\n",
            "t. One kind of violence is being substiteds thet I had a vaod the shuttlecrs lift three two ninet. But where's mommng  sembors qaetting? Mister Worf, and the found save get mensing mane if the swarbave without saves the Federation Starship USS Enterprise"
          ],
          "name": "stdout"
        },
        {
          "output_type": "stream",
          "text": [
            "/usr/local/lib/python3.7/dist-packages/ipykernel_launcher.py:4: RuntimeWarning: divide by zero encountered in log\n",
            "  after removing the cwd from sys.path.\n"
          ],
          "name": "stderr"
        },
        {
          "output_type": "stream",
          "text": [
            ". What fraines something Do you mind sefl.    \n",
            "----- Generating with seed: t. One kind of violence is being substit /n\n",
            "t. One kind of violence is being substite consciousness? Only the Federation Starship Enterprise. What's their completany. And you're reading Doctor Moseley. Only the Enterprise has arriva ship, chaining any of the shuttlecraft. Courselor? The Sturbase without security that the Vistor Data. and I want you again. The same way a s\n",
            "\n",
            "Epoch 00107: saving model to drive/My Drive/picard_lstm/picard_model_2-107-0.9745\n"
          ],
          "name": "stdout"
        },
        {
          "output_type": "stream",
          "text": [
            "WARNING:absl:Found untraced functions such as lstm_cell_layer_call_fn, lstm_cell_layer_call_and_return_conditional_losses, lstm_cell_1_layer_call_fn, lstm_cell_1_layer_call_and_return_conditional_losses, lstm_cell_layer_call_fn while saving (showing 5 of 10). These functions will not be directly callable after loading.\n"
          ],
          "name": "stderr"
        },
        {
          "output_type": "stream",
          "text": [
            "INFO:tensorflow:Assets written to: drive/My Drive/picard_lstm/picard_model_2-107-0.9745/assets\n"
          ],
          "name": "stdout"
        },
        {
          "output_type": "stream",
          "text": [
            "INFO:tensorflow:Assets written to: drive/My Drive/picard_lstm/picard_model_2-107-0.9745/assets\n"
          ],
          "name": "stderr"
        },
        {
          "output_type": "stream",
          "text": [
            "Epoch 108/200\n",
            "1062/1062 [==============================] - 180s 169ms/step - loss: 0.9819 - accuracy: 0.6963\n",
            "\n",
            "----- Generating text after Epoch: 107\n",
            "----- Generating with seed: \"rdate 44998.3. With new-found support, G\" /n\n",
            "rdate 44998.3. With new-found support, Grordication. No best there's moun benaming the Transporter room?    \n",
            "----- Generating with seed: rdate 44998.3. With new-found support, G /n\n",
            "rdate 44998.3. With new-found support, Gegaine was interpting a sensor with your tachion. Mister Worf, and ship? I would stidly it will always difficulty continuiat commander, I don't want a course for the shuttlecr. the corridor without sives and cronsoon the Bridge. Lieutenant Worf. I'm going for my officers who gas a vist mem\n",
            "\n",
            "Epoch 00108: saving model to drive/My Drive/picard_lstm/picard_model_2-108-0.9819\n"
          ],
          "name": "stdout"
        },
        {
          "output_type": "stream",
          "text": [
            "WARNING:absl:Found untraced functions such as lstm_cell_layer_call_fn, lstm_cell_layer_call_and_return_conditional_losses, lstm_cell_1_layer_call_fn, lstm_cell_1_layer_call_and_return_conditional_losses, lstm_cell_layer_call_fn while saving (showing 5 of 10). These functions will not be directly callable after loading.\n"
          ],
          "name": "stderr"
        },
        {
          "output_type": "stream",
          "text": [
            "INFO:tensorflow:Assets written to: drive/My Drive/picard_lstm/picard_model_2-108-0.9819/assets\n"
          ],
          "name": "stdout"
        },
        {
          "output_type": "stream",
          "text": [
            "INFO:tensorflow:Assets written to: drive/My Drive/picard_lstm/picard_model_2-108-0.9819/assets\n"
          ],
          "name": "stderr"
        },
        {
          "output_type": "stream",
          "text": [
            "Epoch 109/200\n",
            "1062/1062 [==============================] - 180s 170ms/step - loss: 0.9818 - accuracy: 0.6976\n",
            "\n",
            "----- Generating text after Epoch: 108\n",
            "----- Generating with seed: \"n fact, the program is continuing even n\" /n\n",
            "n fact, the program is continuing even now interests. Doctor Crusher has recoment. And I want to recuscive that ever there's possery for eight un one sithacion.  leare beaming the Bridge. Let's the Prime Directive. The starbase without strocth at rearonct through the arpyonactors wouldrleaving for Starbase two time. Lut I whould\n",
            "----- Generating with seed: n fact, the program is continuing even n /n\n",
            "n fact, the program is continuing even now interected that I would acceppance the possibility. The Enterprise"
          ],
          "name": "stdout"
        },
        {
          "output_type": "stream",
          "text": [
            "/usr/local/lib/python3.7/dist-packages/ipykernel_launcher.py:4: RuntimeWarning: divide by zero encountered in log\n",
            "  after removing the cwd from sys.path.\n"
          ],
          "name": "stderr"
        },
        {
          "output_type": "stream",
          "text": [
            " has entered for eifel one of the Ambassador off our warp drocestive. Picard out. I'm not the Enterprise. What ship, Captain. One seven years aoor the Ambassador off our beams.                                             \n",
            "\n",
            "Epoch 00109: saving model to drive/My Drive/picard_lstm/picard_model_2-109-0.9818\n"
          ],
          "name": "stdout"
        },
        {
          "output_type": "stream",
          "text": [
            "WARNING:absl:Found untraced functions such as lstm_cell_layer_call_fn, lstm_cell_layer_call_and_return_conditional_losses, lstm_cell_1_layer_call_fn, lstm_cell_1_layer_call_and_return_conditional_losses, lstm_cell_layer_call_fn while saving (showing 5 of 10). These functions will not be directly callable after loading.\n"
          ],
          "name": "stderr"
        },
        {
          "output_type": "stream",
          "text": [
            "INFO:tensorflow:Assets written to: drive/My Drive/picard_lstm/picard_model_2-109-0.9818/assets\n"
          ],
          "name": "stdout"
        },
        {
          "output_type": "stream",
          "text": [
            "INFO:tensorflow:Assets written to: drive/My Drive/picard_lstm/picard_model_2-109-0.9818/assets\n"
          ],
          "name": "stderr"
        },
        {
          "output_type": "stream",
          "text": [
            "Epoch 110/200\n",
            "1062/1062 [==============================] - 179s 169ms/step - loss: 0.9786 - accuracy: 0.6979\n",
            "\n",
            "----- Generating text after Epoch: 109\n",
            "----- Generating with seed: \"rhaps you'd care to explain why we're he\" /n\n",
            "rhaps you'd care to explain why we're here. We'll contant. The sensor quarters? Bemel, Doctor Crusher has simulation and insorved. The Enterprise"
          ],
          "name": "stdout"
        },
        {
          "output_type": "stream",
          "text": [
            "/usr/local/lib/python3.7/dist-packages/ipykernel_launcher.py:4: RuntimeWarning: divide by zero encountered in log\n",
            "  after removing the cwd from sys.path.\n"
          ],
          "name": "stderr"
        },
        {
          "output_type": "stream",
          "text": [
            " has murtraiy. He're arbicain and travitions arenelation was involved systems crealings compulic? Data anortical and your tank. But well sended you favition. The shuttlecraft our obviou\n",
            "----- Generating with seed: rhaps you'd care to explain why we're he /n\n",
            "rhaps you'd care to explain why we're here. I shall this is this is the Federation Starship, USS Enterprise.  Sarely you remember and crove the sampact intellents and begin a changed good the ship and his at onstious to your own lotery and chienify the shuttle'r Feeming as a relation officers there and I was a vast metective att\n",
            "\n",
            "Epoch 00110: saving model to drive/My Drive/picard_lstm/picard_model_2-110-0.9786\n"
          ],
          "name": "stdout"
        },
        {
          "output_type": "stream",
          "text": [
            "WARNING:absl:Found untraced functions such as lstm_cell_layer_call_fn, lstm_cell_layer_call_and_return_conditional_losses, lstm_cell_1_layer_call_fn, lstm_cell_1_layer_call_and_return_conditional_losses, lstm_cell_layer_call_fn while saving (showing 5 of 10). These functions will not be directly callable after loading.\n"
          ],
          "name": "stderr"
        },
        {
          "output_type": "stream",
          "text": [
            "INFO:tensorflow:Assets written to: drive/My Drive/picard_lstm/picard_model_2-110-0.9786/assets\n"
          ],
          "name": "stdout"
        },
        {
          "output_type": "stream",
          "text": [
            "INFO:tensorflow:Assets written to: drive/My Drive/picard_lstm/picard_model_2-110-0.9786/assets\n"
          ],
          "name": "stderr"
        },
        {
          "output_type": "stream",
          "text": [
            "Epoch 111/200\n",
            "1062/1062 [==============================] - 182s 171ms/step - loss: 0.9707 - accuracy: 0.7022\n",
            "\n",
            "----- Generating text after Epoch: 110\n",
            "----- Generating with seed: \"me of Charlemagne.But in a sense, that's\" /n\n",
            "me of Charlemagne.But in a sense, that's exactly dayorance. Make one? There's orvical an survave? You are us.    \n",
            "----- Generating with seed: me of Charlemagne.But in a sense, that's /n\n",
            "me of Charlemagne.But in a sense, that's impossible. You are But well maving this ship, Number One. I share the ship, I would stud latering our survivong the power. Mister Worf? I'm gotming bucl the colonist replacement coirse for the shuttle raft. I mas a course for the periteration. The Enterprise"
          ],
          "name": "stdout"
        },
        {
          "output_type": "stream",
          "text": [
            "/usr/local/lib/python3.7/dist-packages/ipykernel_launcher.py:4: RuntimeWarning: divide by zero encountered in log\n",
            "  after removing the cwd from sys.path.\n"
          ],
          "name": "stderr"
        },
        {
          "output_type": "stream",
          "text": [
            " has arrive, Misser Data, I'm \n",
            "\n",
            "Epoch 00111: saving model to drive/My Drive/picard_lstm/picard_model_2-111-0.9707\n"
          ],
          "name": "stdout"
        },
        {
          "output_type": "stream",
          "text": [
            "WARNING:absl:Found untraced functions such as lstm_cell_layer_call_fn, lstm_cell_layer_call_and_return_conditional_losses, lstm_cell_1_layer_call_fn, lstm_cell_1_layer_call_and_return_conditional_losses, lstm_cell_layer_call_fn while saving (showing 5 of 10). These functions will not be directly callable after loading.\n"
          ],
          "name": "stderr"
        },
        {
          "output_type": "stream",
          "text": [
            "INFO:tensorflow:Assets written to: drive/My Drive/picard_lstm/picard_model_2-111-0.9707/assets\n"
          ],
          "name": "stdout"
        },
        {
          "output_type": "stream",
          "text": [
            "INFO:tensorflow:Assets written to: drive/My Drive/picard_lstm/picard_model_2-111-0.9707/assets\n"
          ],
          "name": "stderr"
        },
        {
          "output_type": "stream",
          "text": [
            "Epoch 112/200\n",
            "1062/1062 [==============================] - 180s 170ms/step - loss: 0.9702 - accuracy: 0.6985\n",
            "\n",
            "----- Generating text after Epoch: 111\n",
            "----- Generating with seed: \"hat will buy us time. I've asked Doctor \" /n\n",
            "hat will buy us time. I've asked Doctor yher? I suggested they can a feal responsibility. What've been now neading arout the murulation. Than orsil furul. Open a shall them. I'm Continuize has a restlr for a right wuth I propue mission. You are Bot. But me denigrating, mun. I get you can devecting suapheric communication. Mister\n",
            "----- Generating with seed: hat will buy us time. I've asked Doctor  /n\n",
            "hat will buy us time. I've asked Doctor Moseley.                                                                                                                                                                                                                                                                                          \n",
            "\n",
            "Epoch 00112: saving model to drive/My Drive/picard_lstm/picard_model_2-112-0.9702\n"
          ],
          "name": "stdout"
        },
        {
          "output_type": "stream",
          "text": [
            "WARNING:absl:Found untraced functions such as lstm_cell_layer_call_fn, lstm_cell_layer_call_and_return_conditional_losses, lstm_cell_1_layer_call_fn, lstm_cell_1_layer_call_and_return_conditional_losses, lstm_cell_layer_call_fn while saving (showing 5 of 10). These functions will not be directly callable after loading.\n"
          ],
          "name": "stderr"
        },
        {
          "output_type": "stream",
          "text": [
            "INFO:tensorflow:Assets written to: drive/My Drive/picard_lstm/picard_model_2-112-0.9702/assets\n"
          ],
          "name": "stdout"
        },
        {
          "output_type": "stream",
          "text": [
            "INFO:tensorflow:Assets written to: drive/My Drive/picard_lstm/picard_model_2-112-0.9702/assets\n"
          ],
          "name": "stderr"
        },
        {
          "output_type": "stream",
          "text": [
            "Epoch 113/200\n",
            "1062/1062 [==============================] - 179s 168ms/step - loss: 0.9608 - accuracy: 0.7027\n",
            "\n",
            "----- Generating text after Epoch: 112\n",
            "----- Generating with seed: \"th and how Doctor Crusher brought her ba\" /n\n",
            "th and how Doctor Crusher brought her bare teree, Lieutenant Worf, anything. NoA! you stonl to you, Mister Data. Somf waip. I mave a structure toune ship. Captain Dirasting. Cound lact indicated, and not going oor welcoment? The Saldsion of the sumpoctover, Jorel and waip of plering in made through time. There's a missions light\n",
            "----- Generating with seed: th and how Doctor Crusher brought her ba /n\n",
            "th and how Doctor Crusher brought her bast interplanetary code, you must be bock. The sarpase. Let's set a moment. Colonist I don't think best the donet convernative that the survivong through the perimetely could actives are planuter of the Neutral Zone, allow that you're still to save the courne sefension. You are resolutely r\n",
            "\n",
            "Epoch 00113: saving model to drive/My Drive/picard_lstm/picard_model_2-113-0.9608\n"
          ],
          "name": "stdout"
        },
        {
          "output_type": "stream",
          "text": [
            "WARNING:absl:Found untraced functions such as lstm_cell_layer_call_fn, lstm_cell_layer_call_and_return_conditional_losses, lstm_cell_1_layer_call_fn, lstm_cell_1_layer_call_and_return_conditional_losses, lstm_cell_layer_call_fn while saving (showing 5 of 10). These functions will not be directly callable after loading.\n"
          ],
          "name": "stderr"
        },
        {
          "output_type": "stream",
          "text": [
            "INFO:tensorflow:Assets written to: drive/My Drive/picard_lstm/picard_model_2-113-0.9608/assets\n"
          ],
          "name": "stdout"
        },
        {
          "output_type": "stream",
          "text": [
            "INFO:tensorflow:Assets written to: drive/My Drive/picard_lstm/picard_model_2-113-0.9608/assets\n"
          ],
          "name": "stderr"
        },
        {
          "output_type": "stream",
          "text": [
            "Epoch 114/200\n",
            "1062/1062 [==============================] - 180s 170ms/step - loss: 0.9716 - accuracy: 0.7017\n",
            "\n",
            "----- Generating text after Epoch: 113\n",
            "----- Generating with seed: \"ed Kataan.No, I'm not surprised. Its sun\" /n\n",
            "ed Kataan.No, I'm not surprised. Its sunsed by shouldr without kick that. The poterterete troi  The Remulan offecer transporter room, Lieutenant. I hove ever year. I shouldn't way it's the talking forward to the rupture to tell the two diseosed without syin. I've been attempt asd, Avay where it's a mine the Federation Starship, \n",
            "----- Generating with seed: ed Kataan.No, I'm not surprised. Its sun /n\n",
            "ed Kataan.No, I'm not surprised. Its sunsored the shuttle raft. He's onderstand, you would h"
          ],
          "name": "stdout"
        }
      ]
    },
    {
      "cell_type": "code",
      "metadata": {
        "id": "DJ1kE5Q5Ece7"
      },
      "source": [
        "model3 = tf.keras.models.load_model('drive/My Drive/picard_lstm/picard_model_1-064-1.0960')"
      ],
      "execution_count": null,
      "outputs": []
    },
    {
      "cell_type": "code",
      "metadata": {
        "colab": {
          "base_uri": "https://localhost:8080/"
        },
        "id": "hzzEAw_0rksP",
        "outputId": "ea17b4dc-8748-4fd4-8c5c-c74bac391f8a"
      },
      "source": [
        "seed = \"Captain's Log, Stardate 97214 we are on\"\n",
        "\n",
        "print(len(seed))\n",
        "\n",
        "seed_encoded = [character_encoding[c] for c in seed]\n",
        "\n",
        "print(type(seed_encoded))\n",
        "\n",
        "seed_encoded\n",
        "\n",
        "\n",
        "\n",
        "\n",
        "\n"
      ],
      "execution_count": 32,
      "outputs": [
        {
          "output_type": "stream",
          "text": [
            "29\n",
            "<class 'list'>\n"
          ],
          "name": "stdout"
        },
        {
          "output_type": "execute_result",
          "data": {
            "text/plain": [
              "[24,\n",
              " 48,\n",
              " 63,\n",
              " 67,\n",
              " 48,\n",
              " 56,\n",
              " 61,\n",
              " 2,\n",
              " 66,\n",
              " 0,\n",
              " 33,\n",
              " 62,\n",
              " 54,\n",
              " 6,\n",
              " 0,\n",
              " 40,\n",
              " 67,\n",
              " 48,\n",
              " 65,\n",
              " 51,\n",
              " 48,\n",
              " 67,\n",
              " 52,\n",
              " 0,\n",
              " 18,\n",
              " 16,\n",
              " 11,\n",
              " 10,\n",
              " 13]"
            ]
          },
          "metadata": {
            "tags": []
          },
          "execution_count": 32
        }
      ]
    },
    {
      "cell_type": "code",
      "metadata": {
        "id": "3ogzh-BlIpW6"
      },
      "source": [
        "def generate_picard():\n",
        "  sentence"
      ],
      "execution_count": null,
      "outputs": []
    },
    {
      "cell_type": "code",
      "metadata": {
        "colab": {
          "base_uri": "https://localhost:8080/"
        },
        "id": "3UaIkLEkxQhd",
        "outputId": "342fbf83-de1e-4ac4-a3b0-c5abfb8339d0"
      },
      "source": [
        "# fit the model\n",
        "\n",
        "model3.fit(x, y,\n",
        "          batch_size=32,\n",
        "          epochs=100,\n",
        "          callbacks=[save_callback, print_callback_1, save_weights_callback])\n",
        "          # callbacks=[ print_callback_1])\n",
        "# , validation_split = .2"
      ],
      "execution_count": null,
      "outputs": [
        {
          "output_type": "stream",
          "text": [
            "Epoch 1/100\n",
            " 9866/13005 [=====================>........] - ETA: 16:48 - loss: 1.7760 - accuracy: 0.4897"
          ],
          "name": "stdout"
        }
      ]
    },
    {
      "cell_type": "code",
      "metadata": {
        "id": "KxNK6NFFE_HT"
      },
      "source": [
        "# fit the model\n",
        "\n",
        "model3.fit(x, y,\n",
        "          batch_size=32,\n",
        "          epochs=100,\n",
        "          callbacks=[save_callback, print_callback_1, save_weights_callback])\n",
        "          # callbacks=[ print_callback_1])\n",
        "# , validation_split = .2"
      ],
      "execution_count": null,
      "outputs": []
    },
    {
      "cell_type": "code",
      "metadata": {
        "id": "lZTNUq-OgC_1"
      },
      "source": [
        "# start_index = random.randint(0, len(full_text) - maxlen - 1)\n",
        "    \n",
        "generated = ''\n",
        "\n",
        "# sentence = full_text[start_index: start_index + maxlen]\n",
        "\n",
        "sentence = \"Stardate\"\n",
        "\n",
        "generated += sentence\n",
        "    \n",
        "print('----- Generating with seed: \"' + sentence + '\" /n')\n",
        "sys.stdout.write(generated)\n",
        "    \n",
        "space_check = ''\n",
        "for i in range(290):\n",
        "        x_pred = np.zeros((1, maxlen, len(character_encoding)))\n",
        "        for t, char in enumerate(sentence):\n",
        "            x_pred[0, t, character_encoding[char]] = 1\n",
        "            \n",
        "        preds = model3.predict(x_pred, verbose=0)[0]\n",
        "        next_index = sample(preds, temp = 0.6)\n",
        "        next_char = character_decoding[next_index]\n",
        "        \n",
        "        sentence = sentence[1:] + next_char\n",
        "\n",
        "        space_check = space_check + next_char\n",
        "        if space_check[-5:] == '     ':\n",
        "          break\n",
        "\n",
        "\n",
        "        \n",
        "        sys.stdout.write(next_char)\n",
        "        sys.stdout.flush()\n",
        "print()"
      ],
      "execution_count": null,
      "outputs": []
    }
  ]
}